{
 "cells": [
  {
   "cell_type": "markdown",
   "source": [
    "# Milestone 2: Insight Of Data And Feasibility Check Of Our Idea\n",
    "\n",
    "<hr style=\"clear:both\">\n",
    "\n",
    "This notebook traces our journey through the feasibility check of our idea : Checking trends in music composition for the movie industry.\n",
    "\n",
    "DONT FORGET TO DELETE:\n",
    "**Guidline for us (to delete when submit the milestone):**\n",
    "This notebook will present the journey of the group through the data analysis. We show that we :\n",
    "- can handle the data in its size.\n",
    "- understand what’s in the data giving the formats, distributions, missing values, correlations, and so on.\n",
    "- considered ways to enrich, filter, transform the data according to our needs.\n",
    "- have a reasonable plan and ideas for methods we’re going to use, giving their essential mathematical details in the notebook.\n",
    "- have a plan for analysis and its communication is reasonable and sound, potentially discussing alternatives to our choices that we considered but dropped.\n",
    "\n",
    "**Project Mentor:** [Aoxiang Fan](https://people.epfl.ch/aoxiang.fan) ([Email](mailto:aoxiang.fan@epfl.ch))\n",
    "**Authors:** [Luca Carroz](https://people.epfl.ch/emilie.carroz), [David Schroeter](https://people.epfl.ch/david.schroeter), [Xavier Ogay](https://people.epfl.ch/xavier.ogay), [Joris Monnet](https://people.epfl.ch/joris.monnet), [Paulo Ribeiro de Carvalho](https://people.epfl.ch/paulo.ribeirodecarvalho)\n",
    "\n",
    "<hr style=\"clear:both\">"
   ],
   "metadata": {
    "collapsed": false
   }
  },
  {
   "cell_type": "markdown",
   "source": [
    "## Storyline\n",
    "\n",
    "**Title : Helping Stanislas to achieve his dream !**\n",
    "\n",
    "A 20-year-old aspiring musician, Stanislas, fueled by a passion for the film industry, embarks on a quest to launch his career. His ultimate dream? To hear one of his productions featured in a Hollywood film and become one of the planet's top composers. To increase his chances, he turns to a team of Data Scientists known as LSD.\n",
    "\n",
    "The LSD team's mission is to identify trends shared among successful music composers and compositions, ultimately optimizing choices for our young musician. This is not an easy task but the team is driven by the wish of helping Stanislas. How could they provoke a cascADA of successful choices\n",
    "\n",
    "\n",
    "The storyline focuses on American movies and Successful composers (successful meaning those who have produced soundtracks for high-grossing films, music appearing in more than ?? films, etc.)\n"
   ],
   "metadata": {
    "collapsed": false
   }
  },
  {
   "cell_type": "markdown",
   "source": [
    "## Needed data\n",
    "\n",
    "To help Stanislas with his dream, we will need some specific information about each analysed movie. To support our final answer concerning potential trends in composer for movie industry, we will analyse few questions :\n",
    "1) Which are the most frequent music genre appearing in movies ?\n",
    "2) What is the average composer's age at their first movie appearance ?\n",
    "3) Where do composers come from ?\n",
    "4) Does composer's gender matter ?\n",
    "5) Does personal website is preferred ?\n",
    "6) What is the expected **fame** to appear in a movie ? (Challenging : **fame** can be quantified with the amount of streams or CD selling for older compositors.)\n",
    "\n",
    "List of needed information about movie's composer :\n",
    "- Name\n",
    "- Birthday\n",
    "- Gender\n",
    "- Homepage\n",
    "- Place of birth\n",
    "- First appearance in movie"
   ],
   "metadata": {
    "collapsed": false
   }
  },
  {
   "cell_type": "markdown",
   "source": [
    "## Import"
   ],
   "metadata": {
    "collapsed": false
   }
  },
  {
   "cell_type": "code",
   "execution_count": 1,
   "outputs": [],
   "source": [
    "# Import all needed libraries\n",
    "from helpers import *\n",
    "\n",
    "# Load autoreload extension\n",
    "%load_ext autoreload\n",
    "\n",
    "# Set autoreload mode\n",
    "%autoreload 2"
   ],
   "metadata": {
    "collapsed": false,
    "ExecuteTime": {
     "end_time": "2023-11-16T16:31:52.614724Z",
     "start_time": "2023-11-16T16:31:51.132592Z"
    }
   }
  },
  {
   "cell_type": "markdown",
   "source": [
    "## Load Data\n",
    "\n",
    "Only `movie.metadata.tsv` is loaded, since others data sets are not relevant for our data analysis.\n",
    "\n",
    "Note that no header are given in the raw data sets. We then looked at the documentation and set these headers with meaningful names. Please, find the documentation of data set [here](http://www.cs.cmu.edu/~ark/personas/)."
   ],
   "metadata": {
    "collapsed": false
   }
  },
  {
   "cell_type": "code",
   "execution_count": 2,
   "outputs": [
    {
     "data": {
      "text/plain": "       wiki_movieID freebase_movieID  \\\n0            975900        /m/03vyhn   \n1           3196793        /m/08yl5d   \n2          28463795       /m/0crgdbh   \n3           9363483       /m/0285_cd   \n4            261236        /m/01mrr1   \n...             ...              ...   \n81736      35228177       /m/0j7hxnt   \n81737      34980460       /m/0g4pl34   \n81738       9971909       /m/02pygw1   \n81739        913762        /m/03pcrp   \n81740      12476867       /m/02w7zz8   \n\n                                                    name release_date  \\\n0                                         Ghosts of Mars   2001-08-24   \n1      Getting Away with Murder: The JonBenét Ramsey ...   2000-02-16   \n2                                            Brun bitter         1988   \n3                                       White Of The Eye         1987   \n4                                      A Woman in Flames         1983   \n...                                                  ...          ...   \n81736                           Mermaids: The Body Found   2011-03-19   \n81737                                            Knuckle   2011-01-21   \n81738                                  Another Nice Mess   1972-09-22   \n81739  The Super Dimension Fortress Macross II: Lover...   1992-05-21   \n81740                                            Spliced         2002   \n\n       box_office_revenue  runtime                           languages  \\\n0                14010832     98.0  {\"/m/02h40lc\": \"English Language\"}   \n1                    <NA>     95.0  {\"/m/02h40lc\": \"English Language\"}   \n2                    <NA>     83.0  {\"/m/05f_3\": \"Norwegian Language\"}   \n3                    <NA>    110.0  {\"/m/02h40lc\": \"English Language\"}   \n4                    <NA>    106.0   {\"/m/04306rv\": \"German Language\"}   \n...                   ...      ...                                 ...   \n81736                <NA>    120.0  {\"/m/02h40lc\": \"English Language\"}   \n81737                <NA>     96.0  {\"/m/02h40lc\": \"English Language\"}   \n81738                <NA>     66.0  {\"/m/02h40lc\": \"English Language\"}   \n81739                <NA>    150.0   {\"/m/03_9r\": \"Japanese Language\"}   \n81740                <NA>     86.0  {\"/m/02h40lc\": \"English Language\"}   \n\n                                               countries  \\\n0              {\"/m/09c7w0\": \"United States of America\"}   \n1              {\"/m/09c7w0\": \"United States of America\"}   \n2                                 {\"/m/05b4w\": \"Norway\"}   \n3                         {\"/m/07ssc\": \"United Kingdom\"}   \n4                                {\"/m/0345h\": \"Germany\"}   \n...                                                  ...   \n81736          {\"/m/09c7w0\": \"United States of America\"}   \n81737  {\"/m/03rt9\": \"Ireland\", \"/m/07ssc\": \"United Ki...   \n81738          {\"/m/09c7w0\": \"United States of America\"}   \n81739                              {\"/m/03_3d\": \"Japan\"}   \n81740                            {\"/m/0d060g\": \"Canada\"}   \n\n                                                  genres  \n0      {\"/m/01jfsb\": \"Thriller\", \"/m/06n90\": \"Science...  \n1      {\"/m/02n4kr\": \"Mystery\", \"/m/03bxz7\": \"Biograp...  \n2      {\"/m/0lsxr\": \"Crime Fiction\", \"/m/07s9rl0\": \"D...  \n3      {\"/m/01jfsb\": \"Thriller\", \"/m/0glj9q\": \"Erotic...  \n4                                {\"/m/07s9rl0\": \"Drama\"}  \n...                                                  ...  \n81736                            {\"/m/07s9rl0\": \"Drama\"}  \n81737  {\"/m/03bxz7\": \"Biographical film\", \"/m/07s9rl0...  \n81738       {\"/m/06nbt\": \"Satire\", \"/m/01z4y\": \"Comedy\"}  \n81739  {\"/m/06n90\": \"Science Fiction\", \"/m/0gw5n2f\": ...  \n81740  {\"/m/01jfsb\": \"Thriller\", \"/m/03npn\": \"Horror\"...  \n\n[81741 rows x 9 columns]",
      "text/html": "<div>\n<style scoped>\n    .dataframe tbody tr th:only-of-type {\n        vertical-align: middle;\n    }\n\n    .dataframe tbody tr th {\n        vertical-align: top;\n    }\n\n    .dataframe thead th {\n        text-align: right;\n    }\n</style>\n<table border=\"1\" class=\"dataframe\">\n  <thead>\n    <tr style=\"text-align: right;\">\n      <th></th>\n      <th>wiki_movieID</th>\n      <th>freebase_movieID</th>\n      <th>name</th>\n      <th>release_date</th>\n      <th>box_office_revenue</th>\n      <th>runtime</th>\n      <th>languages</th>\n      <th>countries</th>\n      <th>genres</th>\n    </tr>\n  </thead>\n  <tbody>\n    <tr>\n      <th>0</th>\n      <td>975900</td>\n      <td>/m/03vyhn</td>\n      <td>Ghosts of Mars</td>\n      <td>2001-08-24</td>\n      <td>14010832</td>\n      <td>98.0</td>\n      <td>{\"/m/02h40lc\": \"English Language\"}</td>\n      <td>{\"/m/09c7w0\": \"United States of America\"}</td>\n      <td>{\"/m/01jfsb\": \"Thriller\", \"/m/06n90\": \"Science...</td>\n    </tr>\n    <tr>\n      <th>1</th>\n      <td>3196793</td>\n      <td>/m/08yl5d</td>\n      <td>Getting Away with Murder: The JonBenét Ramsey ...</td>\n      <td>2000-02-16</td>\n      <td>&lt;NA&gt;</td>\n      <td>95.0</td>\n      <td>{\"/m/02h40lc\": \"English Language\"}</td>\n      <td>{\"/m/09c7w0\": \"United States of America\"}</td>\n      <td>{\"/m/02n4kr\": \"Mystery\", \"/m/03bxz7\": \"Biograp...</td>\n    </tr>\n    <tr>\n      <th>2</th>\n      <td>28463795</td>\n      <td>/m/0crgdbh</td>\n      <td>Brun bitter</td>\n      <td>1988</td>\n      <td>&lt;NA&gt;</td>\n      <td>83.0</td>\n      <td>{\"/m/05f_3\": \"Norwegian Language\"}</td>\n      <td>{\"/m/05b4w\": \"Norway\"}</td>\n      <td>{\"/m/0lsxr\": \"Crime Fiction\", \"/m/07s9rl0\": \"D...</td>\n    </tr>\n    <tr>\n      <th>3</th>\n      <td>9363483</td>\n      <td>/m/0285_cd</td>\n      <td>White Of The Eye</td>\n      <td>1987</td>\n      <td>&lt;NA&gt;</td>\n      <td>110.0</td>\n      <td>{\"/m/02h40lc\": \"English Language\"}</td>\n      <td>{\"/m/07ssc\": \"United Kingdom\"}</td>\n      <td>{\"/m/01jfsb\": \"Thriller\", \"/m/0glj9q\": \"Erotic...</td>\n    </tr>\n    <tr>\n      <th>4</th>\n      <td>261236</td>\n      <td>/m/01mrr1</td>\n      <td>A Woman in Flames</td>\n      <td>1983</td>\n      <td>&lt;NA&gt;</td>\n      <td>106.0</td>\n      <td>{\"/m/04306rv\": \"German Language\"}</td>\n      <td>{\"/m/0345h\": \"Germany\"}</td>\n      <td>{\"/m/07s9rl0\": \"Drama\"}</td>\n    </tr>\n    <tr>\n      <th>...</th>\n      <td>...</td>\n      <td>...</td>\n      <td>...</td>\n      <td>...</td>\n      <td>...</td>\n      <td>...</td>\n      <td>...</td>\n      <td>...</td>\n      <td>...</td>\n    </tr>\n    <tr>\n      <th>81736</th>\n      <td>35228177</td>\n      <td>/m/0j7hxnt</td>\n      <td>Mermaids: The Body Found</td>\n      <td>2011-03-19</td>\n      <td>&lt;NA&gt;</td>\n      <td>120.0</td>\n      <td>{\"/m/02h40lc\": \"English Language\"}</td>\n      <td>{\"/m/09c7w0\": \"United States of America\"}</td>\n      <td>{\"/m/07s9rl0\": \"Drama\"}</td>\n    </tr>\n    <tr>\n      <th>81737</th>\n      <td>34980460</td>\n      <td>/m/0g4pl34</td>\n      <td>Knuckle</td>\n      <td>2011-01-21</td>\n      <td>&lt;NA&gt;</td>\n      <td>96.0</td>\n      <td>{\"/m/02h40lc\": \"English Language\"}</td>\n      <td>{\"/m/03rt9\": \"Ireland\", \"/m/07ssc\": \"United Ki...</td>\n      <td>{\"/m/03bxz7\": \"Biographical film\", \"/m/07s9rl0...</td>\n    </tr>\n    <tr>\n      <th>81738</th>\n      <td>9971909</td>\n      <td>/m/02pygw1</td>\n      <td>Another Nice Mess</td>\n      <td>1972-09-22</td>\n      <td>&lt;NA&gt;</td>\n      <td>66.0</td>\n      <td>{\"/m/02h40lc\": \"English Language\"}</td>\n      <td>{\"/m/09c7w0\": \"United States of America\"}</td>\n      <td>{\"/m/06nbt\": \"Satire\", \"/m/01z4y\": \"Comedy\"}</td>\n    </tr>\n    <tr>\n      <th>81739</th>\n      <td>913762</td>\n      <td>/m/03pcrp</td>\n      <td>The Super Dimension Fortress Macross II: Lover...</td>\n      <td>1992-05-21</td>\n      <td>&lt;NA&gt;</td>\n      <td>150.0</td>\n      <td>{\"/m/03_9r\": \"Japanese Language\"}</td>\n      <td>{\"/m/03_3d\": \"Japan\"}</td>\n      <td>{\"/m/06n90\": \"Science Fiction\", \"/m/0gw5n2f\": ...</td>\n    </tr>\n    <tr>\n      <th>81740</th>\n      <td>12476867</td>\n      <td>/m/02w7zz8</td>\n      <td>Spliced</td>\n      <td>2002</td>\n      <td>&lt;NA&gt;</td>\n      <td>86.0</td>\n      <td>{\"/m/02h40lc\": \"English Language\"}</td>\n      <td>{\"/m/0d060g\": \"Canada\"}</td>\n      <td>{\"/m/01jfsb\": \"Thriller\", \"/m/03npn\": \"Horror\"...</td>\n    </tr>\n  </tbody>\n</table>\n<p>81741 rows × 9 columns</p>\n</div>"
     },
     "metadata": {},
     "output_type": "display_data"
    }
   ],
   "source": [
    "# Please be sure your data is store in the same path\n",
    "data_path = 'dataset/MovieSummaries/movie.metadata.tsv'\n",
    "\n",
    "# Load the text file into Pandas DataFrame\n",
    "movie = load_movies(data_path)\n",
    "\n",
    "# Display the dataframe\n",
    "display(movie)"
   ],
   "metadata": {
    "collapsed": false,
    "ExecuteTime": {
     "end_time": "2023-11-16T16:31:52.990119Z",
     "start_time": "2023-11-16T16:31:52.617188Z"
    }
   }
  },
  {
   "cell_type": "markdown",
   "source": [
    "A quick visual insight can be done to get information gain. We see that some variables are textual (i.e. `movie_freebase_ID`, `actor_name`, ...), categorical (i.e. `actor_gender`) or numerical (i.e. `actor_height`, `actor_age_movie_release`, ...).\n",
    "\n",
    "Let's have a more meaningful insight of our current data."
   ],
   "metadata": {
    "collapsed": false
   }
  },
  {
   "cell_type": "code",
   "execution_count": 3,
   "outputs": [
    {
     "data": {
      "text/plain": "                              class\nwiki_movieID          <class 'int'>\nfreebase_movieID      <class 'str'>\nname                  <class 'str'>\nrelease_date          <class 'str'>\nbox_office_revenue    <class 'int'>\nruntime             <class 'float'>\nlanguages             <class 'str'>\ncountries             <class 'str'>\ngenres                <class 'str'>",
      "text/html": "<div>\n<style scoped>\n    .dataframe tbody tr th:only-of-type {\n        vertical-align: middle;\n    }\n\n    .dataframe tbody tr th {\n        vertical-align: top;\n    }\n\n    .dataframe thead th {\n        text-align: right;\n    }\n</style>\n<table border=\"1\" class=\"dataframe\">\n  <thead>\n    <tr style=\"text-align: right;\">\n      <th></th>\n      <th>class</th>\n    </tr>\n  </thead>\n  <tbody>\n    <tr>\n      <th>wiki_movieID</th>\n      <td>&lt;class 'int'&gt;</td>\n    </tr>\n    <tr>\n      <th>freebase_movieID</th>\n      <td>&lt;class 'str'&gt;</td>\n    </tr>\n    <tr>\n      <th>name</th>\n      <td>&lt;class 'str'&gt;</td>\n    </tr>\n    <tr>\n      <th>release_date</th>\n      <td>&lt;class 'str'&gt;</td>\n    </tr>\n    <tr>\n      <th>box_office_revenue</th>\n      <td>&lt;class 'int'&gt;</td>\n    </tr>\n    <tr>\n      <th>runtime</th>\n      <td>&lt;class 'float'&gt;</td>\n    </tr>\n    <tr>\n      <th>languages</th>\n      <td>&lt;class 'str'&gt;</td>\n    </tr>\n    <tr>\n      <th>countries</th>\n      <td>&lt;class 'str'&gt;</td>\n    </tr>\n    <tr>\n      <th>genres</th>\n      <td>&lt;class 'str'&gt;</td>\n    </tr>\n  </tbody>\n</table>\n</div>"
     },
     "execution_count": 3,
     "metadata": {},
     "output_type": "execute_result"
    }
   ],
   "source": [
    "# TODO : Finish the insight function to give a better display of information about dataframe\n",
    "insight(movie)"
   ],
   "metadata": {
    "collapsed": false,
    "ExecuteTime": {
     "end_time": "2023-11-16T16:31:53.124586Z",
     "start_time": "2023-11-16T16:31:52.990417Z"
    }
   }
  },
  {
   "cell_type": "code",
   "execution_count": 4,
   "outputs": [
    {
     "name": "stdout",
     "output_type": "stream",
     "text": [
      "Column 'wiki_movieID' has unique data types: [<class 'int'>]\n",
      "Column 'freebase_movieID' has unique data types: [<class 'str'>]\n",
      "Column 'name' has unique data types: [<class 'str'>]\n",
      "Column 'release_date' has unique data types: [<class 'str'>]\n",
      "Column 'box_office_revenue' has unique data types: [<class 'int'>]\n",
      "Column 'runtime' has unique data types: [<class 'float'>]\n",
      "Column 'languages' has unique data types: [<class 'str'>]\n",
      "Column 'countries' has unique data types: [<class 'str'>]\n",
      "Column 'genres' has unique data types: [<class 'str'>]\n"
     ]
    }
   ],
   "source": [
    "movie_ = movie[~movie.isnull().any(axis=1)]\n",
    "for column in movie_.columns:\n",
    "    data_types = movie_[column].apply(type)\n",
    "    unique_data_types = data_types.unique()\n",
    "    print(f\"Column '{column}' has unique data types: {unique_data_types}\")"
   ],
   "metadata": {
    "collapsed": false,
    "ExecuteTime": {
     "end_time": "2023-11-16T16:31:53.125314Z",
     "start_time": "2023-11-16T16:31:53.054393Z"
    }
   }
  },
  {
   "cell_type": "markdown",
   "source": [
    "We see that only few movies (8,401) have information about their box office revenue. Since it is an important metric for us, we will only be able to analyze these movies. One solution would be to complete the dataframe with another dataset."
   ],
   "metadata": {
    "collapsed": false
   }
  },
  {
   "cell_type": "markdown",
   "source": [
    "## Clean/Enrich Data\n",
    "\n",
    "We have seen above that needed attributes are not given. We then need to retrieve them via external datasets. To do so, we use a free to use API ([TMDB](https://www.themoviedb.org/?language=fr)) to enrich our movies' information. Also, some important features are missing in some observation, we then drop movies not containing the needed information.\n",
    "\n",
    "A specific script has been created to be run once and create our `clean_enrich_movie.csv` dataset. Go to `enrich_data.py` and its linked library `tmdb/tmdb.py` for more explanation on how we retrieved these information. Please note that a personal API key is needed to successfully run the script ([create key](https://developer.themoviedb.org/reference/intro/getting-started)). Make sure to create file `.env` with your API bearer token using the `.env_example` as template."
   ],
   "metadata": {
    "collapsed": false
   }
  },
  {
   "cell_type": "code",
   "execution_count": 5,
   "outputs": [
    {
     "data": {
      "text/plain": "                                               name release_date  \\\n0                                            Avatar         2009   \n1                                           Titanic         1997   \n2                                      The Avengers         2012   \n3     Harry Potter and the Deathly Hallows – Part 2         2011   \n4                    Transformers: Dark of the Moon         2011   \n...                                             ...          ...   \n8322                              Frankie and Alice         2010   \n8323                           Fighting Tommy Riley         2005   \n8324                                          Logan         2010   \n8325                                  GhettoPhysics         2010   \n8326       Hugh Hefner: Playboy, Activist and Rebel         2010   \n\n      box_office_revenue                                   countries  \\\n0             2782275172  [United States of America, United Kingdom]   \n1             2185372302                  [United States of America]   \n2             1511757910                  [United States of America]   \n3             1328111219  [United States of America, United Kingdom]   \n4             1123746996                  [United States of America]   \n...                  ...                                         ...   \n8322               10670                                    [Canada]   \n8323               10514                  [United States of America]   \n8324               10474                  [United States of America]   \n8325               10200                                          []   \n8326               10000                                    [Canada]   \n\n                                                 genres  tmdb_id  \\\n0     [Thriller, Science Fiction, Adventure, Compute...    19995   \n1     [Tragedy, Costume drama, Historical fiction, A...      597   \n2                             [Science Fiction, Action]    24428   \n3                  [Drama, Mystery, Fantasy, Adventure]    12445   \n4      [Alien Film, Science Fiction, Action, Adventure]    38356   \n...                                                 ...      ...   \n8322                                 [Biography, Drama]    55061   \n8323               [LGBT, Sports, Drama, Indie, Boxing]    47534   \n8324                       [Family Film, Drama, Comedy]    44010   \n8325                    [Political cinema, Documentary]       -1   \n8326  [Culture & Society, Biography, Media Studies, ...       -1   \n\n                                              composers  \n0     [Composer(id=1729, name='James Horner', birthd...  \n1     [Composer(id=1729, name='James Horner', birthd...  \n2     [Composer(id=37, name='Alan Silvestri', birthd...  \n3     [Composer(id=2949, name='Alexandre Desplat', b...  \n4     [Composer(id=18264, name='Steve Jablonsky', bi...  \n...                                                 ...  \n8322  [Composer(id=70789, name='Andrew Lockington', ...  \n8323                                                NaN  \n8324                                                NaN  \n8325                                                NaN  \n8326                                                NaN  \n\n[8327 rows x 7 columns]",
      "text/html": "<div>\n<style scoped>\n    .dataframe tbody tr th:only-of-type {\n        vertical-align: middle;\n    }\n\n    .dataframe tbody tr th {\n        vertical-align: top;\n    }\n\n    .dataframe thead th {\n        text-align: right;\n    }\n</style>\n<table border=\"1\" class=\"dataframe\">\n  <thead>\n    <tr style=\"text-align: right;\">\n      <th></th>\n      <th>name</th>\n      <th>release_date</th>\n      <th>box_office_revenue</th>\n      <th>countries</th>\n      <th>genres</th>\n      <th>tmdb_id</th>\n      <th>composers</th>\n    </tr>\n  </thead>\n  <tbody>\n    <tr>\n      <th>0</th>\n      <td>Avatar</td>\n      <td>2009</td>\n      <td>2782275172</td>\n      <td>[United States of America, United Kingdom]</td>\n      <td>[Thriller, Science Fiction, Adventure, Compute...</td>\n      <td>19995</td>\n      <td>[Composer(id=1729, name='James Horner', birthd...</td>\n    </tr>\n    <tr>\n      <th>1</th>\n      <td>Titanic</td>\n      <td>1997</td>\n      <td>2185372302</td>\n      <td>[United States of America]</td>\n      <td>[Tragedy, Costume drama, Historical fiction, A...</td>\n      <td>597</td>\n      <td>[Composer(id=1729, name='James Horner', birthd...</td>\n    </tr>\n    <tr>\n      <th>2</th>\n      <td>The Avengers</td>\n      <td>2012</td>\n      <td>1511757910</td>\n      <td>[United States of America]</td>\n      <td>[Science Fiction, Action]</td>\n      <td>24428</td>\n      <td>[Composer(id=37, name='Alan Silvestri', birthd...</td>\n    </tr>\n    <tr>\n      <th>3</th>\n      <td>Harry Potter and the Deathly Hallows – Part 2</td>\n      <td>2011</td>\n      <td>1328111219</td>\n      <td>[United States of America, United Kingdom]</td>\n      <td>[Drama, Mystery, Fantasy, Adventure]</td>\n      <td>12445</td>\n      <td>[Composer(id=2949, name='Alexandre Desplat', b...</td>\n    </tr>\n    <tr>\n      <th>4</th>\n      <td>Transformers: Dark of the Moon</td>\n      <td>2011</td>\n      <td>1123746996</td>\n      <td>[United States of America]</td>\n      <td>[Alien Film, Science Fiction, Action, Adventure]</td>\n      <td>38356</td>\n      <td>[Composer(id=18264, name='Steve Jablonsky', bi...</td>\n    </tr>\n    <tr>\n      <th>...</th>\n      <td>...</td>\n      <td>...</td>\n      <td>...</td>\n      <td>...</td>\n      <td>...</td>\n      <td>...</td>\n      <td>...</td>\n    </tr>\n    <tr>\n      <th>8322</th>\n      <td>Frankie and Alice</td>\n      <td>2010</td>\n      <td>10670</td>\n      <td>[Canada]</td>\n      <td>[Biography, Drama]</td>\n      <td>55061</td>\n      <td>[Composer(id=70789, name='Andrew Lockington', ...</td>\n    </tr>\n    <tr>\n      <th>8323</th>\n      <td>Fighting Tommy Riley</td>\n      <td>2005</td>\n      <td>10514</td>\n      <td>[United States of America]</td>\n      <td>[LGBT, Sports, Drama, Indie, Boxing]</td>\n      <td>47534</td>\n      <td>NaN</td>\n    </tr>\n    <tr>\n      <th>8324</th>\n      <td>Logan</td>\n      <td>2010</td>\n      <td>10474</td>\n      <td>[United States of America]</td>\n      <td>[Family Film, Drama, Comedy]</td>\n      <td>44010</td>\n      <td>NaN</td>\n    </tr>\n    <tr>\n      <th>8325</th>\n      <td>GhettoPhysics</td>\n      <td>2010</td>\n      <td>10200</td>\n      <td>[]</td>\n      <td>[Political cinema, Documentary]</td>\n      <td>-1</td>\n      <td>NaN</td>\n    </tr>\n    <tr>\n      <th>8326</th>\n      <td>Hugh Hefner: Playboy, Activist and Rebel</td>\n      <td>2010</td>\n      <td>10000</td>\n      <td>[Canada]</td>\n      <td>[Culture &amp; Society, Biography, Media Studies, ...</td>\n      <td>-1</td>\n      <td>NaN</td>\n    </tr>\n  </tbody>\n</table>\n<p>8327 rows × 7 columns</p>\n</div>"
     },
     "metadata": {},
     "output_type": "display_data"
    }
   ],
   "source": [
    "# Load the cleaned and enriched data set (created via enrich_data.py script)\n",
    "enhanced_movie = pd.read_pickle('dataset/clean_enrich_movies.pickle')\n",
    "\n",
    "# Display the loaded dataframe\n",
    "display(enhanced_movie)"
   ],
   "metadata": {
    "collapsed": false,
    "ExecuteTime": {
     "end_time": "2023-11-16T16:31:53.275670Z",
     "start_time": "2023-11-16T16:31:53.128284Z"
    }
   }
  },
  {
   "cell_type": "markdown",
   "source": [
    "Let's have a more deep look at this new dataframe. We display several statistical values to better understand the different columns of the data."
   ],
   "metadata": {
    "collapsed": false
   }
  },
  {
   "cell_type": "code",
   "execution_count": 6,
   "outputs": [
    {
     "name": "stdout",
     "output_type": "stream",
     "text": [
      "There is 30.92% of nan composers\n",
      "\n",
      "Considering the first composer of the list if multiple have been returned for a movie, we can compute the following statistics on the retrieved data:\n",
      "\n",
      "\t - There is 0.00% of nan name for composers\n",
      "\t - There is 18.08% of nan birthday for composers\n",
      "\t - There is 0.00% of nan gender for composers\n",
      "\t - There is 72.24% of nan homepage for composers\n",
      "\t - There is 22.93% of nan place of birth for composers\n",
      "\t - There is 100.00% of nan first appearance in movie for composers\n"
     ]
    },
    {
     "name": "stderr",
     "output_type": "stream",
     "text": [
      "/Users/pauloribeiro/Desktop/EPFL/Master Data Science/Semestre 1/Applied Data Analysis/ada-2023-project-learningthesecretsofdata/helpers.py:124: FutureWarning: using <function insight_clean_enrich.<locals>.<lambda> at 0x115ba2cb0> in Series.agg cannot aggregate and has been deprecated. Use Series.transform to keep behavior unchanged.\n",
      "  composers_no_na_name = composers_no_na.agg(lambda c: c[0].name)\n",
      "/Users/pauloribeiro/Desktop/EPFL/Master Data Science/Semestre 1/Applied Data Analysis/ada-2023-project-learningthesecretsofdata/helpers.py:125: FutureWarning: using <function insight_clean_enrich.<locals>.<lambda> at 0x115ba2cb0> in Series.agg cannot aggregate and has been deprecated. Use Series.transform to keep behavior unchanged.\n",
      "  composers_no_na_birthday = composers_no_na.agg(lambda c: c[0].birthday)\n",
      "/Users/pauloribeiro/Desktop/EPFL/Master Data Science/Semestre 1/Applied Data Analysis/ada-2023-project-learningthesecretsofdata/helpers.py:126: FutureWarning: using <function insight_clean_enrich.<locals>.<lambda> at 0x115ba2cb0> in Series.agg cannot aggregate and has been deprecated. Use Series.transform to keep behavior unchanged.\n",
      "  composers_no_na_gender = composers_no_na.agg(lambda c: c[0].gender)\n",
      "/Users/pauloribeiro/Desktop/EPFL/Master Data Science/Semestre 1/Applied Data Analysis/ada-2023-project-learningthesecretsofdata/helpers.py:127: FutureWarning: using <function insight_clean_enrich.<locals>.<lambda> at 0x115ba2cb0> in Series.agg cannot aggregate and has been deprecated. Use Series.transform to keep behavior unchanged.\n",
      "  composers_no_na_homepage = composers_no_na.agg(lambda c: c[0].homepage)\n",
      "/Users/pauloribeiro/Desktop/EPFL/Master Data Science/Semestre 1/Applied Data Analysis/ada-2023-project-learningthesecretsofdata/helpers.py:128: FutureWarning: using <function insight_clean_enrich.<locals>.<lambda> at 0x115ba2cb0> in Series.agg cannot aggregate and has been deprecated. Use Series.transform to keep behavior unchanged.\n",
      "  composers_no_na_place_of_birth = composers_no_na.agg(lambda c: c[0].place_of_birth)\n",
      "/Users/pauloribeiro/Desktop/EPFL/Master Data Science/Semestre 1/Applied Data Analysis/ada-2023-project-learningthesecretsofdata/helpers.py:129: FutureWarning: using <function insight_clean_enrich.<locals>.<lambda> at 0x115ba2cb0> in Series.agg cannot aggregate and has been deprecated. Use Series.transform to keep behavior unchanged.\n",
      "  composers_no_na_first_appearance_in_movie = composers_no_na.agg(lambda c: c[0].date_first_appearance)\n"
     ]
    }
   ],
   "source": [
    "# TODO remove after, temporary stats about fetched composers\n",
    "insight_clean_enrich(enhanced_movie)"
   ],
   "metadata": {
    "collapsed": false,
    "ExecuteTime": {
     "end_time": "2023-11-16T16:31:53.276942Z",
     "start_time": "2023-11-16T16:31:53.211313Z"
    }
   }
  },
  {
   "cell_type": "markdown",
   "source": [
    "## Results Expected\n",
    "\n",
    "Let's try to explain what are the main plots we want to bring to our readers. Do we have in mind also to have a interactive plot, and so on ?"
   ],
   "metadata": {
    "collapsed": false
   }
  },
  {
   "cell_type": "code",
   "execution_count": 7,
   "outputs": [],
   "source": [
    "pass"
   ],
   "metadata": {
    "collapsed": false,
    "ExecuteTime": {
     "end_time": "2023-11-16T16:31:53.312369Z",
     "start_time": "2023-11-16T16:31:53.252785Z"
    }
   }
  },
  {
   "cell_type": "code",
   "execution_count": 2,
   "outputs": [
    {
     "name": "stdout",
     "output_type": "stream",
     "text": [
      "Number of movies without box office revenue : 4172\n",
      "Number of movies without box office revenue (without enrich) : 4431\n"
     ]
    }
   ],
   "source": [
    "import pandas as pd\n",
    "test=pd.read_csv('test')\n",
    "test_without = pd.read_csv('test_without')\n",
    "\n",
    "nb_test = test['box_office_revenue'].isna().sum()\n",
    "nb_test_without = test_without['box_office_revenue'].isna().sum()\n",
    "print(f'Number of movies without box office revenue : {nb_test}')\n",
    "print(f'Number of movies without box office revenue (without enrich) : {nb_test_without}')"
   ],
   "metadata": {
    "collapsed": false,
    "ExecuteTime": {
     "end_time": "2023-11-16T19:03:07.203200400Z",
     "start_time": "2023-11-16T19:03:07.156804500Z"
    }
   }
  },
  {
   "cell_type": "code",
   "execution_count": null,
   "outputs": [],
   "source": [],
   "metadata": {
    "collapsed": false
   }
  }
 ],
 "metadata": {
  "kernelspec": {
   "display_name": "Python 3",
   "language": "python",
   "name": "python3"
  },
  "language_info": {
   "codemirror_mode": {
    "name": "ipython",
    "version": 2
   },
   "file_extension": ".py",
   "mimetype": "text/x-python",
   "name": "python",
   "nbconvert_exporter": "python",
   "pygments_lexer": "ipython2",
   "version": "2.7.6"
  }
 },
 "nbformat": 4,
 "nbformat_minor": 0
}
