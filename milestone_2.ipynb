{
 "cells": [
  {
   "cell_type": "markdown",
   "source": [
    "# Milestone 2: Insight Of Data And Feasibility Check Of Our Idea\n",
    "\n",
    "<hr style=\"clear:both\">\n",
    "\n",
    "This notebook traces our journey through the feasibility check of our idea : Checking trends in music composition for the movie industry.\n",
    "\n",
    "**Project Mentor:** [Aoxiang Fan](https://people.epfl.ch/aoxiang.fan) ([Email](mailto:aoxiang.fan@epfl.ch))\n",
    "**Authors:** [Luca Carroz](https://people.epfl.ch/emilie.carroz), [David Schroeter](https://people.epfl.ch/david.schroeter), [Xavier Ogay](https://people.epfl.ch/xavier.ogay), [Joris Monnet](https://people.epfl.ch/joris.monnet), [Paulo Ribeiro de Carvalho](https://people.epfl.ch/paulo.ribeirodecarvalho)\n",
    "\n",
    "<hr style=\"clear:both\">"
   ],
   "metadata": {
    "collapsed": false
   }
  },
  {
   "cell_type": "markdown",
   "source": [
    "## Storyline\n",
    "\n",
    "**Title : Stanislas' music dream : Road to Hollywood !**\n",
    "\n",
    "A 20-year-old aspiring musician, Stanislas, fueled by a passion for the film industry, embarks on a quest to launch his career. His ultimate dream? To hear one of his productions featured in a Hollywood film and become one of the planet's top composers. To increase his chances, he turns to a team of Data Scientists known as LSD.\n",
    "\n",
    "The \"LearningtheSecretsofData\" team's mission is to identify trends shared among successful music composers and compositions, ultimately optimizing choices for our young musician. This is not an easy task but the team is driven by the wish of helping Stanislas. How could they provoke a cascADA of successful choices in Stany career.\n",
    "\n",
    "Which music genre Stany should he focus on? Will this new direction be enough for him to conquers the show business? Maybe he may invest in a ludicrous website to promote himself? Or should he even consider changing Nationality to achieve his goal? Let’s see what’s the plan LSD had concocted for Stanislas.\n"
   ],
   "metadata": {
    "collapsed": false
   }
  },
  {
   "cell_type": "markdown",
   "source": [
    "## Needed data\n",
    "\n",
    "To help Stanislas with his dream, we will need some specific information about each analysed movie. To support our final answer concerning potential trends in composer for movie industry, we will analyse few questions :\n",
    "\n",
    "1) Which are the most frequent music genre appearing in movies ?\n",
    "2) What is the average composer's age at their :\n",
    "   - first movie appearance ?\n",
    "   - biggest box office revenue ?\n",
    "3) How the top composers' career progress over the years ?\n",
    "4) Where do composers come from ?\n",
    "5) Does composer's gender matter ?\n",
    "6) Does having a personal website correlate with the composers' success ?\n",
    "7) Is there a correlation between box office revenue and movie's playlist popularity ?\n",
    "\n",
    "List of needed information about movie's **composer** :\n",
    "\n",
    "- Name\n",
    "- Birthday\n",
    "- Gender\n",
    "- Homepage\n",
    "- Place of birth\n",
    "- First appearance in movie credits\n",
    "\n",
    "List of needed information about composers' **musics** :\n",
    "\n",
    "- Genre\n",
    "- Spotify's popularity\n"
   ],
   "metadata": {
    "collapsed": false
   }
  },
  {
   "cell_type": "markdown",
   "source": [
    "## Import"
   ],
   "metadata": {
    "collapsed": false
   }
  },
  {
   "cell_type": "code",
   "execution_count": 1,
   "outputs": [],
   "source": [
    "# Import all needed libraries\n",
    "from helpers import *\n",
    "\n",
    "# Load autoreload extension\n",
    "%load_ext autoreload\n",
    "\n",
    "# Set autoreload mode\n",
    "%autoreload 2"
   ],
   "metadata": {
    "collapsed": false,
    "ExecuteTime": {
     "end_time": "2023-11-16T23:09:20.899489Z",
     "start_time": "2023-11-16T23:09:19.417246Z"
    }
   }
  },
  {
   "cell_type": "markdown",
   "source": [
    "## Load Data\n",
    "\n",
    "Only `movie.metadata.tsv` is loaded, since others data sets are not relevant for our data analysis.\n",
    "\n",
    "Note that no header are given in the raw data sets. We then looked at the documentation and set these headers with meaningful names. Please, find the documentation of data set [here](http://www.cs.cmu.edu/~ark/personas/)."
   ],
   "metadata": {
    "collapsed": false
   }
  },
  {
   "cell_type": "code",
   "execution_count": 2,
   "outputs": [
    {
     "data": {
      "text/plain": "       wiki_movieID freebase_movieID  \\\n0            975900        /m/03vyhn   \n1           3196793        /m/08yl5d   \n2          28463795       /m/0crgdbh   \n3           9363483       /m/0285_cd   \n4            261236        /m/01mrr1   \n...             ...              ...   \n81736      35228177       /m/0j7hxnt   \n81737      34980460       /m/0g4pl34   \n81738       9971909       /m/02pygw1   \n81739        913762        /m/03pcrp   \n81740      12476867       /m/02w7zz8   \n\n                                                    name release_date  \\\n0                                         Ghosts of Mars   2001-08-24   \n1      Getting Away with Murder: The JonBenét Ramsey ...   2000-02-16   \n2                                            Brun bitter         1988   \n3                                       White Of The Eye         1987   \n4                                      A Woman in Flames         1983   \n...                                                  ...          ...   \n81736                           Mermaids: The Body Found   2011-03-19   \n81737                                            Knuckle   2011-01-21   \n81738                                  Another Nice Mess   1972-09-22   \n81739  The Super Dimension Fortress Macross II: Lover...   1992-05-21   \n81740                                            Spliced         2002   \n\n       box_office_revenue  runtime                           languages  \\\n0                14010832     98.0  {\"/m/02h40lc\": \"English Language\"}   \n1                    <NA>     95.0  {\"/m/02h40lc\": \"English Language\"}   \n2                    <NA>     83.0  {\"/m/05f_3\": \"Norwegian Language\"}   \n3                    <NA>    110.0  {\"/m/02h40lc\": \"English Language\"}   \n4                    <NA>    106.0   {\"/m/04306rv\": \"German Language\"}   \n...                   ...      ...                                 ...   \n81736                <NA>    120.0  {\"/m/02h40lc\": \"English Language\"}   \n81737                <NA>     96.0  {\"/m/02h40lc\": \"English Language\"}   \n81738                <NA>     66.0  {\"/m/02h40lc\": \"English Language\"}   \n81739                <NA>    150.0   {\"/m/03_9r\": \"Japanese Language\"}   \n81740                <NA>     86.0  {\"/m/02h40lc\": \"English Language\"}   \n\n                                               countries  \\\n0              {\"/m/09c7w0\": \"United States of America\"}   \n1              {\"/m/09c7w0\": \"United States of America\"}   \n2                                 {\"/m/05b4w\": \"Norway\"}   \n3                         {\"/m/07ssc\": \"United Kingdom\"}   \n4                                {\"/m/0345h\": \"Germany\"}   \n...                                                  ...   \n81736          {\"/m/09c7w0\": \"United States of America\"}   \n81737  {\"/m/03rt9\": \"Ireland\", \"/m/07ssc\": \"United Ki...   \n81738          {\"/m/09c7w0\": \"United States of America\"}   \n81739                              {\"/m/03_3d\": \"Japan\"}   \n81740                            {\"/m/0d060g\": \"Canada\"}   \n\n                                                  genres  \n0      {\"/m/01jfsb\": \"Thriller\", \"/m/06n90\": \"Science...  \n1      {\"/m/02n4kr\": \"Mystery\", \"/m/03bxz7\": \"Biograp...  \n2      {\"/m/0lsxr\": \"Crime Fiction\", \"/m/07s9rl0\": \"D...  \n3      {\"/m/01jfsb\": \"Thriller\", \"/m/0glj9q\": \"Erotic...  \n4                                {\"/m/07s9rl0\": \"Drama\"}  \n...                                                  ...  \n81736                            {\"/m/07s9rl0\": \"Drama\"}  \n81737  {\"/m/03bxz7\": \"Biographical film\", \"/m/07s9rl0...  \n81738       {\"/m/06nbt\": \"Satire\", \"/m/01z4y\": \"Comedy\"}  \n81739  {\"/m/06n90\": \"Science Fiction\", \"/m/0gw5n2f\": ...  \n81740  {\"/m/01jfsb\": \"Thriller\", \"/m/03npn\": \"Horror\"...  \n\n[81741 rows x 9 columns]",
      "text/html": "<div>\n<style scoped>\n    .dataframe tbody tr th:only-of-type {\n        vertical-align: middle;\n    }\n\n    .dataframe tbody tr th {\n        vertical-align: top;\n    }\n\n    .dataframe thead th {\n        text-align: right;\n    }\n</style>\n<table border=\"1\" class=\"dataframe\">\n  <thead>\n    <tr style=\"text-align: right;\">\n      <th></th>\n      <th>wiki_movieID</th>\n      <th>freebase_movieID</th>\n      <th>name</th>\n      <th>release_date</th>\n      <th>box_office_revenue</th>\n      <th>runtime</th>\n      <th>languages</th>\n      <th>countries</th>\n      <th>genres</th>\n    </tr>\n  </thead>\n  <tbody>\n    <tr>\n      <th>0</th>\n      <td>975900</td>\n      <td>/m/03vyhn</td>\n      <td>Ghosts of Mars</td>\n      <td>2001-08-24</td>\n      <td>14010832</td>\n      <td>98.0</td>\n      <td>{\"/m/02h40lc\": \"English Language\"}</td>\n      <td>{\"/m/09c7w0\": \"United States of America\"}</td>\n      <td>{\"/m/01jfsb\": \"Thriller\", \"/m/06n90\": \"Science...</td>\n    </tr>\n    <tr>\n      <th>1</th>\n      <td>3196793</td>\n      <td>/m/08yl5d</td>\n      <td>Getting Away with Murder: The JonBenét Ramsey ...</td>\n      <td>2000-02-16</td>\n      <td>&lt;NA&gt;</td>\n      <td>95.0</td>\n      <td>{\"/m/02h40lc\": \"English Language\"}</td>\n      <td>{\"/m/09c7w0\": \"United States of America\"}</td>\n      <td>{\"/m/02n4kr\": \"Mystery\", \"/m/03bxz7\": \"Biograp...</td>\n    </tr>\n    <tr>\n      <th>2</th>\n      <td>28463795</td>\n      <td>/m/0crgdbh</td>\n      <td>Brun bitter</td>\n      <td>1988</td>\n      <td>&lt;NA&gt;</td>\n      <td>83.0</td>\n      <td>{\"/m/05f_3\": \"Norwegian Language\"}</td>\n      <td>{\"/m/05b4w\": \"Norway\"}</td>\n      <td>{\"/m/0lsxr\": \"Crime Fiction\", \"/m/07s9rl0\": \"D...</td>\n    </tr>\n    <tr>\n      <th>3</th>\n      <td>9363483</td>\n      <td>/m/0285_cd</td>\n      <td>White Of The Eye</td>\n      <td>1987</td>\n      <td>&lt;NA&gt;</td>\n      <td>110.0</td>\n      <td>{\"/m/02h40lc\": \"English Language\"}</td>\n      <td>{\"/m/07ssc\": \"United Kingdom\"}</td>\n      <td>{\"/m/01jfsb\": \"Thriller\", \"/m/0glj9q\": \"Erotic...</td>\n    </tr>\n    <tr>\n      <th>4</th>\n      <td>261236</td>\n      <td>/m/01mrr1</td>\n      <td>A Woman in Flames</td>\n      <td>1983</td>\n      <td>&lt;NA&gt;</td>\n      <td>106.0</td>\n      <td>{\"/m/04306rv\": \"German Language\"}</td>\n      <td>{\"/m/0345h\": \"Germany\"}</td>\n      <td>{\"/m/07s9rl0\": \"Drama\"}</td>\n    </tr>\n    <tr>\n      <th>...</th>\n      <td>...</td>\n      <td>...</td>\n      <td>...</td>\n      <td>...</td>\n      <td>...</td>\n      <td>...</td>\n      <td>...</td>\n      <td>...</td>\n      <td>...</td>\n    </tr>\n    <tr>\n      <th>81736</th>\n      <td>35228177</td>\n      <td>/m/0j7hxnt</td>\n      <td>Mermaids: The Body Found</td>\n      <td>2011-03-19</td>\n      <td>&lt;NA&gt;</td>\n      <td>120.0</td>\n      <td>{\"/m/02h40lc\": \"English Language\"}</td>\n      <td>{\"/m/09c7w0\": \"United States of America\"}</td>\n      <td>{\"/m/07s9rl0\": \"Drama\"}</td>\n    </tr>\n    <tr>\n      <th>81737</th>\n      <td>34980460</td>\n      <td>/m/0g4pl34</td>\n      <td>Knuckle</td>\n      <td>2011-01-21</td>\n      <td>&lt;NA&gt;</td>\n      <td>96.0</td>\n      <td>{\"/m/02h40lc\": \"English Language\"}</td>\n      <td>{\"/m/03rt9\": \"Ireland\", \"/m/07ssc\": \"United Ki...</td>\n      <td>{\"/m/03bxz7\": \"Biographical film\", \"/m/07s9rl0...</td>\n    </tr>\n    <tr>\n      <th>81738</th>\n      <td>9971909</td>\n      <td>/m/02pygw1</td>\n      <td>Another Nice Mess</td>\n      <td>1972-09-22</td>\n      <td>&lt;NA&gt;</td>\n      <td>66.0</td>\n      <td>{\"/m/02h40lc\": \"English Language\"}</td>\n      <td>{\"/m/09c7w0\": \"United States of America\"}</td>\n      <td>{\"/m/06nbt\": \"Satire\", \"/m/01z4y\": \"Comedy\"}</td>\n    </tr>\n    <tr>\n      <th>81739</th>\n      <td>913762</td>\n      <td>/m/03pcrp</td>\n      <td>The Super Dimension Fortress Macross II: Lover...</td>\n      <td>1992-05-21</td>\n      <td>&lt;NA&gt;</td>\n      <td>150.0</td>\n      <td>{\"/m/03_9r\": \"Japanese Language\"}</td>\n      <td>{\"/m/03_3d\": \"Japan\"}</td>\n      <td>{\"/m/06n90\": \"Science Fiction\", \"/m/0gw5n2f\": ...</td>\n    </tr>\n    <tr>\n      <th>81740</th>\n      <td>12476867</td>\n      <td>/m/02w7zz8</td>\n      <td>Spliced</td>\n      <td>2002</td>\n      <td>&lt;NA&gt;</td>\n      <td>86.0</td>\n      <td>{\"/m/02h40lc\": \"English Language\"}</td>\n      <td>{\"/m/0d060g\": \"Canada\"}</td>\n      <td>{\"/m/01jfsb\": \"Thriller\", \"/m/03npn\": \"Horror\"...</td>\n    </tr>\n  </tbody>\n</table>\n<p>81741 rows × 9 columns</p>\n</div>"
     },
     "metadata": {},
     "output_type": "display_data"
    }
   ],
   "source": [
    "# Please be sure your data is store in the same path\n",
    "data_path = 'dataset/MovieSummaries/movie.metadata.tsv'\n",
    "\n",
    "# Load the text file into Pandas DataFrame\n",
    "movie = load_movies(data_path)\n",
    "\n",
    "# Display the dataframe\n",
    "display(movie)"
   ],
   "metadata": {
    "collapsed": false,
    "ExecuteTime": {
     "end_time": "2023-11-16T23:09:21.255071Z",
     "start_time": "2023-11-16T23:09:20.902061Z"
    }
   }
  },
  {
   "cell_type": "markdown",
   "source": [
    "A quick visual insight can be done to get information gain. From the $81,741$ movies, we see that some variables are textual (i.e. `freebase_movieID`, `name`, ...) or numerical (i.e. `box_office_revenue`, `runtime`, ...).\n",
    "\n",
    "Let's have a more meaningful insight of our current data."
   ],
   "metadata": {
    "collapsed": false
   }
  },
  {
   "cell_type": "code",
   "execution_count": 3,
   "outputs": [
    {
     "data": {
      "text/plain": "                              class  missing_values\nwiki_movieID          <class 'int'>            0.00\nfreebase_movieID      <class 'str'>            0.00\nname                  <class 'str'>            0.00\nrelease_date          <class 'str'>            8.44\nbox_office_revenue    <class 'int'>           89.72\nruntime             <class 'float'>           25.02\nlanguages             <class 'str'>            0.00\ncountries             <class 'str'>            0.00\ngenres                <class 'str'>            0.00",
      "text/html": "<div>\n<style scoped>\n    .dataframe tbody tr th:only-of-type {\n        vertical-align: middle;\n    }\n\n    .dataframe tbody tr th {\n        vertical-align: top;\n    }\n\n    .dataframe thead th {\n        text-align: right;\n    }\n</style>\n<table border=\"1\" class=\"dataframe\">\n  <thead>\n    <tr style=\"text-align: right;\">\n      <th></th>\n      <th>class</th>\n      <th>missing_values</th>\n    </tr>\n  </thead>\n  <tbody>\n    <tr>\n      <th>wiki_movieID</th>\n      <td>&lt;class 'int'&gt;</td>\n      <td>0.00</td>\n    </tr>\n    <tr>\n      <th>freebase_movieID</th>\n      <td>&lt;class 'str'&gt;</td>\n      <td>0.00</td>\n    </tr>\n    <tr>\n      <th>name</th>\n      <td>&lt;class 'str'&gt;</td>\n      <td>0.00</td>\n    </tr>\n    <tr>\n      <th>release_date</th>\n      <td>&lt;class 'str'&gt;</td>\n      <td>8.44</td>\n    </tr>\n    <tr>\n      <th>box_office_revenue</th>\n      <td>&lt;class 'int'&gt;</td>\n      <td>89.72</td>\n    </tr>\n    <tr>\n      <th>runtime</th>\n      <td>&lt;class 'float'&gt;</td>\n      <td>25.02</td>\n    </tr>\n    <tr>\n      <th>languages</th>\n      <td>&lt;class 'str'&gt;</td>\n      <td>0.00</td>\n    </tr>\n    <tr>\n      <th>countries</th>\n      <td>&lt;class 'str'&gt;</td>\n      <td>0.00</td>\n    </tr>\n    <tr>\n      <th>genres</th>\n      <td>&lt;class 'str'&gt;</td>\n      <td>0.00</td>\n    </tr>\n  </tbody>\n</table>\n</div>"
     },
     "metadata": {},
     "output_type": "display_data"
    }
   ],
   "source": [
    "insight(movie)"
   ],
   "metadata": {
    "collapsed": false,
    "ExecuteTime": {
     "end_time": "2023-11-16T23:09:21.342899Z",
     "start_time": "2023-11-16T23:09:21.256175Z"
    }
   }
  },
  {
   "cell_type": "markdown",
   "source": [
    "We see that only few movies ($8,401$) have information about their box office revenue. Also, not all needed attribute are stored in the actual raw data. Since they are important metrics for out analysis, let's try to retrieve as much information as possible via API requests (procedure explained below)."
   ],
   "metadata": {
    "collapsed": false
   }
  },
  {
   "cell_type": "markdown",
   "source": [
    "## Clean/Enrich Data\n",
    "\n",
    " To enrich our dataset, we use a free to use API ([TMDB](https://www.themoviedb.org/?language=fr)). Some important features are still missing after this procedure. Then, we drop these movies from our analysis.\n",
    "\n",
    "A specific script has been created to be run once and create our `clean_enrich_movie.csv` dataset. Go to `enrich_data.py` and its linked library `tmdb/tmdb.py` for more explanation on how we retrieved these information. Please note that a personal API key is needed to successfully run the script ([create key](https://developer.themoviedb.org/reference/intro/getting-started)). Make sure to create file `.env` with your API bearer token using the `.env_example` as template."
   ],
   "metadata": {
    "collapsed": false
   }
  },
  {
   "cell_type": "code",
   "execution_count": 4,
   "outputs": [
    {
     "data": {
      "text/plain": "                                               name release_date  \\\n0                                            Avatar         2009   \n1                                           Titanic         1997   \n2                                      The Avengers         2012   \n3     Harry Potter and the Deathly Hallows – Part 2         2011   \n4                    Transformers: Dark of the Moon         2011   \n...                                             ...          ...   \n8322                              Frankie and Alice         2010   \n8323                           Fighting Tommy Riley         2005   \n8324                                          Logan         2010   \n8325                                  GhettoPhysics         2010   \n8326       Hugh Hefner: Playboy, Activist and Rebel         2010   \n\n      box_office_revenue                                   countries  \\\n0             2782275172  [United States of America, United Kingdom]   \n1             2185372302                  [United States of America]   \n2             1511757910                  [United States of America]   \n3             1328111219  [United States of America, United Kingdom]   \n4             1123746996                  [United States of America]   \n...                  ...                                         ...   \n8322               10670                                    [Canada]   \n8323               10514                  [United States of America]   \n8324               10474                  [United States of America]   \n8325               10200                                          []   \n8326               10000                                    [Canada]   \n\n                                                 genres  tmdb_id  \\\n0     [Thriller, Science Fiction, Adventure, Compute...    19995   \n1     [Tragedy, Costume drama, Historical fiction, A...      597   \n2                             [Science Fiction, Action]    24428   \n3                  [Drama, Mystery, Fantasy, Adventure]    12445   \n4      [Alien Film, Science Fiction, Action, Adventure]    38356   \n...                                                 ...      ...   \n8322                                 [Biography, Drama]    55061   \n8323               [LGBT, Sports, Drama, Indie, Boxing]    47534   \n8324                       [Family Film, Drama, Comedy]    44010   \n8325                    [Political cinema, Documentary]       -1   \n8326  [Culture & Society, Biography, Media Studies, ...       -1   \n\n                                              composers  \n0     [Composer(id=1729, name='James Horner', birthd...  \n1     [Composer(id=1729, name='James Horner', birthd...  \n2     [Composer(id=37, name='Alan Silvestri', birthd...  \n3     [Composer(id=2949, name='Alexandre Desplat', b...  \n4     [Composer(id=18264, name='Steve Jablonsky', bi...  \n...                                                 ...  \n8322  [Composer(id=70789, name='Andrew Lockington', ...  \n8323                                                NaN  \n8324                                                NaN  \n8325                                                NaN  \n8326                                                NaN  \n\n[8327 rows x 7 columns]",
      "text/html": "<div>\n<style scoped>\n    .dataframe tbody tr th:only-of-type {\n        vertical-align: middle;\n    }\n\n    .dataframe tbody tr th {\n        vertical-align: top;\n    }\n\n    .dataframe thead th {\n        text-align: right;\n    }\n</style>\n<table border=\"1\" class=\"dataframe\">\n  <thead>\n    <tr style=\"text-align: right;\">\n      <th></th>\n      <th>name</th>\n      <th>release_date</th>\n      <th>box_office_revenue</th>\n      <th>countries</th>\n      <th>genres</th>\n      <th>tmdb_id</th>\n      <th>composers</th>\n    </tr>\n  </thead>\n  <tbody>\n    <tr>\n      <th>0</th>\n      <td>Avatar</td>\n      <td>2009</td>\n      <td>2782275172</td>\n      <td>[United States of America, United Kingdom]</td>\n      <td>[Thriller, Science Fiction, Adventure, Compute...</td>\n      <td>19995</td>\n      <td>[Composer(id=1729, name='James Horner', birthd...</td>\n    </tr>\n    <tr>\n      <th>1</th>\n      <td>Titanic</td>\n      <td>1997</td>\n      <td>2185372302</td>\n      <td>[United States of America]</td>\n      <td>[Tragedy, Costume drama, Historical fiction, A...</td>\n      <td>597</td>\n      <td>[Composer(id=1729, name='James Horner', birthd...</td>\n    </tr>\n    <tr>\n      <th>2</th>\n      <td>The Avengers</td>\n      <td>2012</td>\n      <td>1511757910</td>\n      <td>[United States of America]</td>\n      <td>[Science Fiction, Action]</td>\n      <td>24428</td>\n      <td>[Composer(id=37, name='Alan Silvestri', birthd...</td>\n    </tr>\n    <tr>\n      <th>3</th>\n      <td>Harry Potter and the Deathly Hallows – Part 2</td>\n      <td>2011</td>\n      <td>1328111219</td>\n      <td>[United States of America, United Kingdom]</td>\n      <td>[Drama, Mystery, Fantasy, Adventure]</td>\n      <td>12445</td>\n      <td>[Composer(id=2949, name='Alexandre Desplat', b...</td>\n    </tr>\n    <tr>\n      <th>4</th>\n      <td>Transformers: Dark of the Moon</td>\n      <td>2011</td>\n      <td>1123746996</td>\n      <td>[United States of America]</td>\n      <td>[Alien Film, Science Fiction, Action, Adventure]</td>\n      <td>38356</td>\n      <td>[Composer(id=18264, name='Steve Jablonsky', bi...</td>\n    </tr>\n    <tr>\n      <th>...</th>\n      <td>...</td>\n      <td>...</td>\n      <td>...</td>\n      <td>...</td>\n      <td>...</td>\n      <td>...</td>\n      <td>...</td>\n    </tr>\n    <tr>\n      <th>8322</th>\n      <td>Frankie and Alice</td>\n      <td>2010</td>\n      <td>10670</td>\n      <td>[Canada]</td>\n      <td>[Biography, Drama]</td>\n      <td>55061</td>\n      <td>[Composer(id=70789, name='Andrew Lockington', ...</td>\n    </tr>\n    <tr>\n      <th>8323</th>\n      <td>Fighting Tommy Riley</td>\n      <td>2005</td>\n      <td>10514</td>\n      <td>[United States of America]</td>\n      <td>[LGBT, Sports, Drama, Indie, Boxing]</td>\n      <td>47534</td>\n      <td>NaN</td>\n    </tr>\n    <tr>\n      <th>8324</th>\n      <td>Logan</td>\n      <td>2010</td>\n      <td>10474</td>\n      <td>[United States of America]</td>\n      <td>[Family Film, Drama, Comedy]</td>\n      <td>44010</td>\n      <td>NaN</td>\n    </tr>\n    <tr>\n      <th>8325</th>\n      <td>GhettoPhysics</td>\n      <td>2010</td>\n      <td>10200</td>\n      <td>[]</td>\n      <td>[Political cinema, Documentary]</td>\n      <td>-1</td>\n      <td>NaN</td>\n    </tr>\n    <tr>\n      <th>8326</th>\n      <td>Hugh Hefner: Playboy, Activist and Rebel</td>\n      <td>2010</td>\n      <td>10000</td>\n      <td>[Canada]</td>\n      <td>[Culture &amp; Society, Biography, Media Studies, ...</td>\n      <td>-1</td>\n      <td>NaN</td>\n    </tr>\n  </tbody>\n</table>\n<p>8327 rows × 7 columns</p>\n</div>"
     },
     "metadata": {},
     "output_type": "display_data"
    }
   ],
   "source": [
    "# TODO update the markdown just above with the final API procedure. What we retrieve and so on.\n",
    "# Load the cleaned and enriched data set (created via enrich_movie_data.py script)\n",
    "enhanced_movie = pd.read_pickle('dataset/clean_enrich_movies.pickle')\n",
    "\n",
    "# Display the loaded dataframe\n",
    "display(enhanced_movie)"
   ],
   "metadata": {
    "collapsed": false,
    "ExecuteTime": {
     "end_time": "2023-11-16T23:09:21.437184Z",
     "start_time": "2023-11-16T23:09:21.344172Z"
    }
   }
  },
  {
   "cell_type": "markdown",
   "source": [
    "Let's have a more deep look at this new dataframe. First, let's have a look of the percentage of missing values now."
   ],
   "metadata": {
    "collapsed": false
   }
  },
  {
   "cell_type": "code",
   "execution_count": 5,
   "outputs": [
    {
     "data": {
      "text/plain": "                             class  missing_values\nname                 <class 'str'>            0.00\nrelease_date         <class 'str'>            0.00\nbox_office_revenue   <class 'int'>            0.00\ncountries           <class 'list'>            0.00\ngenres              <class 'list'>            0.00\ntmdb_id              <class 'int'>            0.00\ncomposers           <class 'list'>           30.92",
      "text/html": "<div>\n<style scoped>\n    .dataframe tbody tr th:only-of-type {\n        vertical-align: middle;\n    }\n\n    .dataframe tbody tr th {\n        vertical-align: top;\n    }\n\n    .dataframe thead th {\n        text-align: right;\n    }\n</style>\n<table border=\"1\" class=\"dataframe\">\n  <thead>\n    <tr style=\"text-align: right;\">\n      <th></th>\n      <th>class</th>\n      <th>missing_values</th>\n    </tr>\n  </thead>\n  <tbody>\n    <tr>\n      <th>name</th>\n      <td>&lt;class 'str'&gt;</td>\n      <td>0.00</td>\n    </tr>\n    <tr>\n      <th>release_date</th>\n      <td>&lt;class 'str'&gt;</td>\n      <td>0.00</td>\n    </tr>\n    <tr>\n      <th>box_office_revenue</th>\n      <td>&lt;class 'int'&gt;</td>\n      <td>0.00</td>\n    </tr>\n    <tr>\n      <th>countries</th>\n      <td>&lt;class 'list'&gt;</td>\n      <td>0.00</td>\n    </tr>\n    <tr>\n      <th>genres</th>\n      <td>&lt;class 'list'&gt;</td>\n      <td>0.00</td>\n    </tr>\n    <tr>\n      <th>tmdb_id</th>\n      <td>&lt;class 'int'&gt;</td>\n      <td>0.00</td>\n    </tr>\n    <tr>\n      <th>composers</th>\n      <td>&lt;class 'list'&gt;</td>\n      <td>30.92</td>\n    </tr>\n  </tbody>\n</table>\n</div>"
     },
     "metadata": {},
     "output_type": "display_data"
    }
   ],
   "source": [
    "insight(enhanced_movie)"
   ],
   "metadata": {
    "collapsed": false,
    "ExecuteTime": {
     "end_time": "2023-11-16T23:09:21.506798Z",
     "start_time": "2023-11-16T23:09:21.424599Z"
    }
   }
  },
  {
   "cell_type": "markdown",
   "source": [
    "We also display statistical values to better understand the distribution of few metrics of the data."
   ],
   "metadata": {
    "collapsed": false
   }
  },
  {
   "cell_type": "code",
   "execution_count": 6,
   "outputs": [
    {
     "data": {
      "text/plain": "count              8327.0\nmean      48269077.422241\nstd      112467320.603979\nmin               10000.0\n25%             2105039.0\n50%            10815378.0\n75%            41050113.0\nmax          2782275172.0\nName: box_office_revenue, dtype: Float64"
     },
     "metadata": {},
     "output_type": "display_data"
    },
    {
     "name": "stdout",
     "output_type": "stream",
     "text": [
      "There is 30.92% of nan composers\n",
      "\n",
      "Considering the first composer of the list if multiple have been returned for a movie, we can compute the following statistics on the retrieved data:\n",
      "\n",
      "\t - There is 0.00% of nan name for composers\n",
      "\t - There is 18.08% of nan birthday for composers\n",
      "\t - There is 0.00% of nan gender for composers\n",
      "\t - There is 72.24% of nan homepage for composers\n",
      "\t - There is 22.93% of nan place of birth for composers\n",
      "\t - There is 100.00% of nan first appearance in movie for composers\n"
     ]
    },
    {
     "name": "stderr",
     "output_type": "stream",
     "text": [
      "/Users/pauloribeiro/Desktop/EPFL/Master Data Science/Semestre 1/Applied Data Analysis/ada-2023-project-learningthesecretsofdata/helpers.py:130: FutureWarning: using <function insight_enhance.<locals>.<lambda> at 0x11fe3b0a0> in Series.agg cannot aggregate and has been deprecated. Use Series.transform to keep behavior unchanged.\n",
      "  composers_no_na_name = composers_no_na.agg(lambda c: c[0].name)\n",
      "/Users/pauloribeiro/Desktop/EPFL/Master Data Science/Semestre 1/Applied Data Analysis/ada-2023-project-learningthesecretsofdata/helpers.py:131: FutureWarning: using <function insight_enhance.<locals>.<lambda> at 0x10f1fa170> in Series.agg cannot aggregate and has been deprecated. Use Series.transform to keep behavior unchanged.\n",
      "  composers_no_na_birthday = composers_no_na.agg(lambda c: c[0].birthday)\n",
      "/Users/pauloribeiro/Desktop/EPFL/Master Data Science/Semestre 1/Applied Data Analysis/ada-2023-project-learningthesecretsofdata/helpers.py:132: FutureWarning: using <function insight_enhance.<locals>.<lambda> at 0x10f1fa170> in Series.agg cannot aggregate and has been deprecated. Use Series.transform to keep behavior unchanged.\n",
      "  composers_no_na_gender = composers_no_na.agg(lambda c: c[0].gender)\n",
      "/Users/pauloribeiro/Desktop/EPFL/Master Data Science/Semestre 1/Applied Data Analysis/ada-2023-project-learningthesecretsofdata/helpers.py:133: FutureWarning: using <function insight_enhance.<locals>.<lambda> at 0x10f1fa170> in Series.agg cannot aggregate and has been deprecated. Use Series.transform to keep behavior unchanged.\n",
      "  composers_no_na_homepage = composers_no_na.agg(lambda c: c[0].homepage)\n",
      "/Users/pauloribeiro/Desktop/EPFL/Master Data Science/Semestre 1/Applied Data Analysis/ada-2023-project-learningthesecretsofdata/helpers.py:134: FutureWarning: using <function insight_enhance.<locals>.<lambda> at 0x10f1fa170> in Series.agg cannot aggregate and has been deprecated. Use Series.transform to keep behavior unchanged.\n",
      "  composers_no_na_place_of_birth = composers_no_na.agg(lambda c: c[0].place_of_birth)\n",
      "/Users/pauloribeiro/Desktop/EPFL/Master Data Science/Semestre 1/Applied Data Analysis/ada-2023-project-learningthesecretsofdata/helpers.py:135: FutureWarning: using <function insight_enhance.<locals>.<lambda> at 0x10f1fa170> in Series.agg cannot aggregate and has been deprecated. Use Series.transform to keep behavior unchanged.\n",
      "  composers_no_na_first_appearance_in_movie = composers_no_na.agg(lambda c: c[0].date_first_appearance)\n"
     ]
    }
   ],
   "source": [
    "# TODO see if we can give better insight of data.\n",
    "insight_enhance(enhanced_movie)"
   ],
   "metadata": {
    "collapsed": false,
    "ExecuteTime": {
     "end_time": "2023-11-16T23:09:21.551367Z",
     "start_time": "2023-11-16T23:09:21.474584Z"
    }
   }
  },
  {
   "cell_type": "markdown",
   "source": [
    "## Results Expected\n",
    "\n",
    "Let's try to explain what are the main plots we want to bring to our readers. Do we have in mind also to have a interactive plot, and so on ?"
   ],
   "metadata": {
    "collapsed": false
   }
  },
  {
   "cell_type": "code",
   "execution_count": 7,
   "outputs": [],
   "source": [
    "pass"
   ],
   "metadata": {
    "collapsed": false,
    "ExecuteTime": {
     "end_time": "2023-11-16T23:09:21.572039Z",
     "start_time": "2023-11-16T23:09:21.523561Z"
    }
   }
  },
  {
   "cell_type": "code",
   "execution_count": 8,
   "outputs": [
    {
     "ename": "FileNotFoundError",
     "evalue": "[Errno 2] No such file or directory: 'test'",
     "output_type": "error",
     "traceback": [
      "\u001B[0;31m---------------------------------------------------------------------------\u001B[0m",
      "\u001B[0;31mFileNotFoundError\u001B[0m                         Traceback (most recent call last)",
      "Cell \u001B[0;32mIn[8], line 2\u001B[0m\n\u001B[1;32m      1\u001B[0m \u001B[38;5;28;01mimport\u001B[39;00m \u001B[38;5;21;01mpandas\u001B[39;00m \u001B[38;5;28;01mas\u001B[39;00m \u001B[38;5;21;01mpd\u001B[39;00m\n\u001B[0;32m----> 2\u001B[0m test\u001B[38;5;241m=\u001B[39m\u001B[43mpd\u001B[49m\u001B[38;5;241;43m.\u001B[39;49m\u001B[43mread_csv\u001B[49m\u001B[43m(\u001B[49m\u001B[38;5;124;43m'\u001B[39;49m\u001B[38;5;124;43mtest\u001B[39;49m\u001B[38;5;124;43m'\u001B[39;49m\u001B[43m)\u001B[49m\n\u001B[1;32m      3\u001B[0m test_without \u001B[38;5;241m=\u001B[39m pd\u001B[38;5;241m.\u001B[39mread_csv(\u001B[38;5;124m'\u001B[39m\u001B[38;5;124mtest_without\u001B[39m\u001B[38;5;124m'\u001B[39m)\n\u001B[1;32m      5\u001B[0m nb_test \u001B[38;5;241m=\u001B[39m test[\u001B[38;5;124m'\u001B[39m\u001B[38;5;124mbox_office_revenue\u001B[39m\u001B[38;5;124m'\u001B[39m]\u001B[38;5;241m.\u001B[39misna()\u001B[38;5;241m.\u001B[39msum()\n",
      "File \u001B[0;32m/opt/anaconda3/envs/deep_learning/lib/python3.10/site-packages/pandas/io/parsers/readers.py:948\u001B[0m, in \u001B[0;36mread_csv\u001B[0;34m(filepath_or_buffer, sep, delimiter, header, names, index_col, usecols, dtype, engine, converters, true_values, false_values, skipinitialspace, skiprows, skipfooter, nrows, na_values, keep_default_na, na_filter, verbose, skip_blank_lines, parse_dates, infer_datetime_format, keep_date_col, date_parser, date_format, dayfirst, cache_dates, iterator, chunksize, compression, thousands, decimal, lineterminator, quotechar, quoting, doublequote, escapechar, comment, encoding, encoding_errors, dialect, on_bad_lines, delim_whitespace, low_memory, memory_map, float_precision, storage_options, dtype_backend)\u001B[0m\n\u001B[1;32m    935\u001B[0m kwds_defaults \u001B[38;5;241m=\u001B[39m _refine_defaults_read(\n\u001B[1;32m    936\u001B[0m     dialect,\n\u001B[1;32m    937\u001B[0m     delimiter,\n\u001B[0;32m   (...)\u001B[0m\n\u001B[1;32m    944\u001B[0m     dtype_backend\u001B[38;5;241m=\u001B[39mdtype_backend,\n\u001B[1;32m    945\u001B[0m )\n\u001B[1;32m    946\u001B[0m kwds\u001B[38;5;241m.\u001B[39mupdate(kwds_defaults)\n\u001B[0;32m--> 948\u001B[0m \u001B[38;5;28;01mreturn\u001B[39;00m \u001B[43m_read\u001B[49m\u001B[43m(\u001B[49m\u001B[43mfilepath_or_buffer\u001B[49m\u001B[43m,\u001B[49m\u001B[43m \u001B[49m\u001B[43mkwds\u001B[49m\u001B[43m)\u001B[49m\n",
      "File \u001B[0;32m/opt/anaconda3/envs/deep_learning/lib/python3.10/site-packages/pandas/io/parsers/readers.py:611\u001B[0m, in \u001B[0;36m_read\u001B[0;34m(filepath_or_buffer, kwds)\u001B[0m\n\u001B[1;32m    608\u001B[0m _validate_names(kwds\u001B[38;5;241m.\u001B[39mget(\u001B[38;5;124m\"\u001B[39m\u001B[38;5;124mnames\u001B[39m\u001B[38;5;124m\"\u001B[39m, \u001B[38;5;28;01mNone\u001B[39;00m))\n\u001B[1;32m    610\u001B[0m \u001B[38;5;66;03m# Create the parser.\u001B[39;00m\n\u001B[0;32m--> 611\u001B[0m parser \u001B[38;5;241m=\u001B[39m \u001B[43mTextFileReader\u001B[49m\u001B[43m(\u001B[49m\u001B[43mfilepath_or_buffer\u001B[49m\u001B[43m,\u001B[49m\u001B[43m \u001B[49m\u001B[38;5;241;43m*\u001B[39;49m\u001B[38;5;241;43m*\u001B[39;49m\u001B[43mkwds\u001B[49m\u001B[43m)\u001B[49m\n\u001B[1;32m    613\u001B[0m \u001B[38;5;28;01mif\u001B[39;00m chunksize \u001B[38;5;129;01mor\u001B[39;00m iterator:\n\u001B[1;32m    614\u001B[0m     \u001B[38;5;28;01mreturn\u001B[39;00m parser\n",
      "File \u001B[0;32m/opt/anaconda3/envs/deep_learning/lib/python3.10/site-packages/pandas/io/parsers/readers.py:1448\u001B[0m, in \u001B[0;36mTextFileReader.__init__\u001B[0;34m(self, f, engine, **kwds)\u001B[0m\n\u001B[1;32m   1445\u001B[0m     \u001B[38;5;28mself\u001B[39m\u001B[38;5;241m.\u001B[39moptions[\u001B[38;5;124m\"\u001B[39m\u001B[38;5;124mhas_index_names\u001B[39m\u001B[38;5;124m\"\u001B[39m] \u001B[38;5;241m=\u001B[39m kwds[\u001B[38;5;124m\"\u001B[39m\u001B[38;5;124mhas_index_names\u001B[39m\u001B[38;5;124m\"\u001B[39m]\n\u001B[1;32m   1447\u001B[0m \u001B[38;5;28mself\u001B[39m\u001B[38;5;241m.\u001B[39mhandles: IOHandles \u001B[38;5;241m|\u001B[39m \u001B[38;5;28;01mNone\u001B[39;00m \u001B[38;5;241m=\u001B[39m \u001B[38;5;28;01mNone\u001B[39;00m\n\u001B[0;32m-> 1448\u001B[0m \u001B[38;5;28mself\u001B[39m\u001B[38;5;241m.\u001B[39m_engine \u001B[38;5;241m=\u001B[39m \u001B[38;5;28;43mself\u001B[39;49m\u001B[38;5;241;43m.\u001B[39;49m\u001B[43m_make_engine\u001B[49m\u001B[43m(\u001B[49m\u001B[43mf\u001B[49m\u001B[43m,\u001B[49m\u001B[43m \u001B[49m\u001B[38;5;28;43mself\u001B[39;49m\u001B[38;5;241;43m.\u001B[39;49m\u001B[43mengine\u001B[49m\u001B[43m)\u001B[49m\n",
      "File \u001B[0;32m/opt/anaconda3/envs/deep_learning/lib/python3.10/site-packages/pandas/io/parsers/readers.py:1705\u001B[0m, in \u001B[0;36mTextFileReader._make_engine\u001B[0;34m(self, f, engine)\u001B[0m\n\u001B[1;32m   1703\u001B[0m     \u001B[38;5;28;01mif\u001B[39;00m \u001B[38;5;124m\"\u001B[39m\u001B[38;5;124mb\u001B[39m\u001B[38;5;124m\"\u001B[39m \u001B[38;5;129;01mnot\u001B[39;00m \u001B[38;5;129;01min\u001B[39;00m mode:\n\u001B[1;32m   1704\u001B[0m         mode \u001B[38;5;241m+\u001B[39m\u001B[38;5;241m=\u001B[39m \u001B[38;5;124m\"\u001B[39m\u001B[38;5;124mb\u001B[39m\u001B[38;5;124m\"\u001B[39m\n\u001B[0;32m-> 1705\u001B[0m \u001B[38;5;28mself\u001B[39m\u001B[38;5;241m.\u001B[39mhandles \u001B[38;5;241m=\u001B[39m \u001B[43mget_handle\u001B[49m\u001B[43m(\u001B[49m\n\u001B[1;32m   1706\u001B[0m \u001B[43m    \u001B[49m\u001B[43mf\u001B[49m\u001B[43m,\u001B[49m\n\u001B[1;32m   1707\u001B[0m \u001B[43m    \u001B[49m\u001B[43mmode\u001B[49m\u001B[43m,\u001B[49m\n\u001B[1;32m   1708\u001B[0m \u001B[43m    \u001B[49m\u001B[43mencoding\u001B[49m\u001B[38;5;241;43m=\u001B[39;49m\u001B[38;5;28;43mself\u001B[39;49m\u001B[38;5;241;43m.\u001B[39;49m\u001B[43moptions\u001B[49m\u001B[38;5;241;43m.\u001B[39;49m\u001B[43mget\u001B[49m\u001B[43m(\u001B[49m\u001B[38;5;124;43m\"\u001B[39;49m\u001B[38;5;124;43mencoding\u001B[39;49m\u001B[38;5;124;43m\"\u001B[39;49m\u001B[43m,\u001B[49m\u001B[43m \u001B[49m\u001B[38;5;28;43;01mNone\u001B[39;49;00m\u001B[43m)\u001B[49m\u001B[43m,\u001B[49m\n\u001B[1;32m   1709\u001B[0m \u001B[43m    \u001B[49m\u001B[43mcompression\u001B[49m\u001B[38;5;241;43m=\u001B[39;49m\u001B[38;5;28;43mself\u001B[39;49m\u001B[38;5;241;43m.\u001B[39;49m\u001B[43moptions\u001B[49m\u001B[38;5;241;43m.\u001B[39;49m\u001B[43mget\u001B[49m\u001B[43m(\u001B[49m\u001B[38;5;124;43m\"\u001B[39;49m\u001B[38;5;124;43mcompression\u001B[39;49m\u001B[38;5;124;43m\"\u001B[39;49m\u001B[43m,\u001B[49m\u001B[43m \u001B[49m\u001B[38;5;28;43;01mNone\u001B[39;49;00m\u001B[43m)\u001B[49m\u001B[43m,\u001B[49m\n\u001B[1;32m   1710\u001B[0m \u001B[43m    \u001B[49m\u001B[43mmemory_map\u001B[49m\u001B[38;5;241;43m=\u001B[39;49m\u001B[38;5;28;43mself\u001B[39;49m\u001B[38;5;241;43m.\u001B[39;49m\u001B[43moptions\u001B[49m\u001B[38;5;241;43m.\u001B[39;49m\u001B[43mget\u001B[49m\u001B[43m(\u001B[49m\u001B[38;5;124;43m\"\u001B[39;49m\u001B[38;5;124;43mmemory_map\u001B[39;49m\u001B[38;5;124;43m\"\u001B[39;49m\u001B[43m,\u001B[49m\u001B[43m \u001B[49m\u001B[38;5;28;43;01mFalse\u001B[39;49;00m\u001B[43m)\u001B[49m\u001B[43m,\u001B[49m\n\u001B[1;32m   1711\u001B[0m \u001B[43m    \u001B[49m\u001B[43mis_text\u001B[49m\u001B[38;5;241;43m=\u001B[39;49m\u001B[43mis_text\u001B[49m\u001B[43m,\u001B[49m\n\u001B[1;32m   1712\u001B[0m \u001B[43m    \u001B[49m\u001B[43merrors\u001B[49m\u001B[38;5;241;43m=\u001B[39;49m\u001B[38;5;28;43mself\u001B[39;49m\u001B[38;5;241;43m.\u001B[39;49m\u001B[43moptions\u001B[49m\u001B[38;5;241;43m.\u001B[39;49m\u001B[43mget\u001B[49m\u001B[43m(\u001B[49m\u001B[38;5;124;43m\"\u001B[39;49m\u001B[38;5;124;43mencoding_errors\u001B[39;49m\u001B[38;5;124;43m\"\u001B[39;49m\u001B[43m,\u001B[49m\u001B[43m \u001B[49m\u001B[38;5;124;43m\"\u001B[39;49m\u001B[38;5;124;43mstrict\u001B[39;49m\u001B[38;5;124;43m\"\u001B[39;49m\u001B[43m)\u001B[49m\u001B[43m,\u001B[49m\n\u001B[1;32m   1713\u001B[0m \u001B[43m    \u001B[49m\u001B[43mstorage_options\u001B[49m\u001B[38;5;241;43m=\u001B[39;49m\u001B[38;5;28;43mself\u001B[39;49m\u001B[38;5;241;43m.\u001B[39;49m\u001B[43moptions\u001B[49m\u001B[38;5;241;43m.\u001B[39;49m\u001B[43mget\u001B[49m\u001B[43m(\u001B[49m\u001B[38;5;124;43m\"\u001B[39;49m\u001B[38;5;124;43mstorage_options\u001B[39;49m\u001B[38;5;124;43m\"\u001B[39;49m\u001B[43m,\u001B[49m\u001B[43m \u001B[49m\u001B[38;5;28;43;01mNone\u001B[39;49;00m\u001B[43m)\u001B[49m\u001B[43m,\u001B[49m\n\u001B[1;32m   1714\u001B[0m \u001B[43m\u001B[49m\u001B[43m)\u001B[49m\n\u001B[1;32m   1715\u001B[0m \u001B[38;5;28;01massert\u001B[39;00m \u001B[38;5;28mself\u001B[39m\u001B[38;5;241m.\u001B[39mhandles \u001B[38;5;129;01mis\u001B[39;00m \u001B[38;5;129;01mnot\u001B[39;00m \u001B[38;5;28;01mNone\u001B[39;00m\n\u001B[1;32m   1716\u001B[0m f \u001B[38;5;241m=\u001B[39m \u001B[38;5;28mself\u001B[39m\u001B[38;5;241m.\u001B[39mhandles\u001B[38;5;241m.\u001B[39mhandle\n",
      "File \u001B[0;32m/opt/anaconda3/envs/deep_learning/lib/python3.10/site-packages/pandas/io/common.py:863\u001B[0m, in \u001B[0;36mget_handle\u001B[0;34m(path_or_buf, mode, encoding, compression, memory_map, is_text, errors, storage_options)\u001B[0m\n\u001B[1;32m    858\u001B[0m \u001B[38;5;28;01melif\u001B[39;00m \u001B[38;5;28misinstance\u001B[39m(handle, \u001B[38;5;28mstr\u001B[39m):\n\u001B[1;32m    859\u001B[0m     \u001B[38;5;66;03m# Check whether the filename is to be opened in binary mode.\u001B[39;00m\n\u001B[1;32m    860\u001B[0m     \u001B[38;5;66;03m# Binary mode does not support 'encoding' and 'newline'.\u001B[39;00m\n\u001B[1;32m    861\u001B[0m     \u001B[38;5;28;01mif\u001B[39;00m ioargs\u001B[38;5;241m.\u001B[39mencoding \u001B[38;5;129;01mand\u001B[39;00m \u001B[38;5;124m\"\u001B[39m\u001B[38;5;124mb\u001B[39m\u001B[38;5;124m\"\u001B[39m \u001B[38;5;129;01mnot\u001B[39;00m \u001B[38;5;129;01min\u001B[39;00m ioargs\u001B[38;5;241m.\u001B[39mmode:\n\u001B[1;32m    862\u001B[0m         \u001B[38;5;66;03m# Encoding\u001B[39;00m\n\u001B[0;32m--> 863\u001B[0m         handle \u001B[38;5;241m=\u001B[39m \u001B[38;5;28;43mopen\u001B[39;49m\u001B[43m(\u001B[49m\n\u001B[1;32m    864\u001B[0m \u001B[43m            \u001B[49m\u001B[43mhandle\u001B[49m\u001B[43m,\u001B[49m\n\u001B[1;32m    865\u001B[0m \u001B[43m            \u001B[49m\u001B[43mioargs\u001B[49m\u001B[38;5;241;43m.\u001B[39;49m\u001B[43mmode\u001B[49m\u001B[43m,\u001B[49m\n\u001B[1;32m    866\u001B[0m \u001B[43m            \u001B[49m\u001B[43mencoding\u001B[49m\u001B[38;5;241;43m=\u001B[39;49m\u001B[43mioargs\u001B[49m\u001B[38;5;241;43m.\u001B[39;49m\u001B[43mencoding\u001B[49m\u001B[43m,\u001B[49m\n\u001B[1;32m    867\u001B[0m \u001B[43m            \u001B[49m\u001B[43merrors\u001B[49m\u001B[38;5;241;43m=\u001B[39;49m\u001B[43merrors\u001B[49m\u001B[43m,\u001B[49m\n\u001B[1;32m    868\u001B[0m \u001B[43m            \u001B[49m\u001B[43mnewline\u001B[49m\u001B[38;5;241;43m=\u001B[39;49m\u001B[38;5;124;43m\"\u001B[39;49m\u001B[38;5;124;43m\"\u001B[39;49m\u001B[43m,\u001B[49m\n\u001B[1;32m    869\u001B[0m \u001B[43m        \u001B[49m\u001B[43m)\u001B[49m\n\u001B[1;32m    870\u001B[0m     \u001B[38;5;28;01melse\u001B[39;00m:\n\u001B[1;32m    871\u001B[0m         \u001B[38;5;66;03m# Binary mode\u001B[39;00m\n\u001B[1;32m    872\u001B[0m         handle \u001B[38;5;241m=\u001B[39m \u001B[38;5;28mopen\u001B[39m(handle, ioargs\u001B[38;5;241m.\u001B[39mmode)\n",
      "\u001B[0;31mFileNotFoundError\u001B[0m: [Errno 2] No such file or directory: 'test'"
     ]
    }
   ],
   "source": [
    "import pandas as pd\n",
    "test=pd.read_csv('test')\n",
    "test_without = pd.read_csv('test_without')\n",
    "\n",
    "nb_test = test['box_office_revenue'].isna().sum()\n",
    "nb_test_without = test_without['box_office_revenue'].isna().sum()\n",
    "print(f'Number of movies without box office revenue : {nb_test}')\n",
    "print(f'Number of movies without box office revenue (without enrich) : {nb_test_without}')"
   ],
   "metadata": {
    "collapsed": false,
    "ExecuteTime": {
     "end_time": "2023-11-16T23:09:22.213962Z",
     "start_time": "2023-11-16T23:09:21.549422Z"
    }
   }
  },
  {
   "cell_type": "code",
   "execution_count": null,
   "outputs": [],
   "source": [],
   "metadata": {
    "collapsed": false
   }
  }
 ],
 "metadata": {
  "kernelspec": {
   "display_name": "Python 3",
   "language": "python",
   "name": "python3"
  },
  "language_info": {
   "codemirror_mode": {
    "name": "ipython",
    "version": 2
   },
   "file_extension": ".py",
   "mimetype": "text/x-python",
   "name": "python",
   "nbconvert_exporter": "python",
   "pygments_lexer": "ipython2",
   "version": "2.7.6"
  }
 },
 "nbformat": 4,
 "nbformat_minor": 0
}
