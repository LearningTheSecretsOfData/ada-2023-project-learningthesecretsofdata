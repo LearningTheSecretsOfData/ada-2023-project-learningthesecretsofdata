{
 "cells": [
  {
   "cell_type": "markdown",
   "source": [
    "# Milestone 2: Insight Of Data And Feasibility Check Of Our Idea\n",
    "\n",
    "<hr style=\"clear:both\">\n",
    "\n",
    "!! Explain our idea clearly here !!\n",
    "\n",
    "\n",
    "**Guidline for us (to delete when submit the milestone):**\n",
    "This notebook will present the journey of the group through the data analysis. We show that we :\n",
    "- can handle the data in its size.\n",
    "- understand what’s in the data giving the formats, distributions, missing values, correlations, and so on.\n",
    "- considered ways to enrich, filter, transform the data according to our needs.\n",
    "- have a reasonable plan and ideas for methods we’re going to use, giving their essential mathematical details in the notebook.\n",
    "- have a plan for analysis and its communication is reasonable and sound, potentially discussing alternatives to our choices that we considered but dropped.\n",
    "\n",
    "**Authors:** : [Luca Carroz](https://people.epfl.ch/emilie.carroz), [David Schroeter](https://people.epfl.ch/david.schroeter), [Xavier Ogay](https://people.epfl.ch/xavier.ogay), [Joris Monnet](https://people.epfl.ch/joris.monnet), [Paulo Ribeiro de Carvalho](https://people.epfl.ch/paulo.ribeirodecarvalho)\n",
    "\n",
    "<hr style=\"clear:both\">"
   ],
   "metadata": {
    "collapsed": false
   }
  },
  {
   "cell_type": "markdown",
   "source": [
    "## Import"
   ],
   "metadata": {
    "collapsed": false
   }
  },
  {
   "cell_type": "code",
   "execution_count": 1,
   "outputs": [],
   "source": [
    "import numpy as np\n",
    "import pandas as pd"
   ],
   "metadata": {
    "collapsed": false,
    "ExecuteTime": {
     "end_time": "2023-11-08T14:49:47.364944Z",
     "start_time": "2023-11-08T14:49:46.227545Z"
    }
   }
  },
  {
   "cell_type": "markdown",
   "source": [
    "## Load Data"
   ],
   "metadata": {
    "collapsed": false
   }
  },
  {
   "cell_type": "code",
   "execution_count": 2,
   "outputs": [],
   "source": [
    "# Please be sure your data is store in the same path\n",
    "data_path = 'dataset/MovieSummaries/'\n",
    "\n",
    "# Read the text file into a Pandas DataFrame\n",
    "character = pd.read_csv(f\"{data_path}/character.metadata.tsv\", delimiter='\\t', header=None)\n",
    "movie = pd.read_csv(f\"{data_path}/movie.metadata.tsv\", delimiter='\\t', header=None)\n",
    "name = pd.read_csv(f\"{data_path}/name.clusters.txt\", delimiter='\\t', header=None)"
   ],
   "metadata": {
    "collapsed": false,
    "ExecuteTime": {
     "end_time": "2023-11-08T14:49:48.736200Z",
     "start_time": "2023-11-08T14:49:47.367031Z"
    }
   }
  },
  {
   "cell_type": "markdown",
   "source": [
    "## Data Formatting\n",
    "Note that no header are given in the raw data sets. We then looked at the documentation and set these headers with meaningful names. Please, find the documentation of data set [here](http://www.cs.cmu.edu/~ark/personas/)."
   ],
   "metadata": {
    "collapsed": false
   }
  },
  {
   "cell_type": "code",
   "execution_count": 3,
   "outputs": [],
   "source": [
    "character.columns = [\"movie_wiki_ID\", \"movie_freebase_ID\", \"movie_release_date\", \"character_name\",\n",
    "                  \"actor_date_of_birth\", \"actor_gender\", \"actor_height\", \"actor_ethnicity\", \"actor_name\",\n",
    "                  \"actor_age_movie_release\", \"freebase_character_map\", \"dont_know\", \"dont_know_bis\"]\n",
    "\n",
    "movie.columns = [\"wiki_ID\", \"freebase_ID\", \"name\", \"release_date\", \"box_office_revenue\", \"runtime\",\n",
    "                 \"languages\", \"countries\", \"genres\"]\n",
    "\n",
    "name.columns = [\"character_name\", \"freebase_character_map\"]"
   ],
   "metadata": {
    "collapsed": false,
    "ExecuteTime": {
     "end_time": "2023-11-08T14:49:48.742233Z",
     "start_time": "2023-11-08T14:49:48.739302Z"
    }
   }
  },
  {
   "cell_type": "markdown",
   "source": [
    "Now we can display the DataFrame with the right features/columns names and start working on them."
   ],
   "metadata": {
    "collapsed": false
   }
  },
  {
   "cell_type": "markdown",
   "source": [
    "### Character Metadata\n",
    "\n",
    "Let's explore the first dataset that is provided to us. First, display the raw data with correct label for each variable. We see that some variables are textual (i.e. `movie_freebase_ID`, `actor_name`, ...), categorical (i.e. `actor_gender`) or numerical (i.e. `actor_height`, `actor_age_movie_release`, ...)."
   ],
   "metadata": {
    "collapsed": false
   }
  },
  {
   "cell_type": "code",
   "execution_count": 4,
   "outputs": [
    {
     "data": {
      "text/plain": "        movie_wiki_ID movie_freebase_ID movie_release_date  \\\n0              975900         /m/03vyhn         2001-08-24   \n1              975900         /m/03vyhn         2001-08-24   \n2              975900         /m/03vyhn         2001-08-24   \n3              975900         /m/03vyhn         2001-08-24   \n4              975900         /m/03vyhn         2001-08-24   \n...               ...               ...                ...   \n450664         913762         /m/03pcrp         1992-05-21   \n450665         913762         /m/03pcrp         1992-05-21   \n450666       28308153        /m/0cp05t9               1957   \n450667       28308153        /m/0cp05t9               1957   \n450668       28308153        /m/0cp05t9               1957   \n\n                    character_name actor_date_of_birth actor_gender  \\\n0                         Akooshay          1958-08-26            F   \n1       Lieutenant Melanie Ballard          1974-08-15            F   \n2              Desolation Williams          1969-06-15            M   \n3               Sgt Jericho Butler          1967-09-12            M   \n4                  Bashira Kincaid          1977-09-25            F   \n...                            ...                 ...          ...   \n450664                      Elensh             1970-05            F   \n450665                      Hibiki          1965-04-12            M   \n450666                         NaN          1941-11-18            M   \n450667                         NaN                 NaN          NaN   \n450668                         NaN                 NaN          NaN   \n\n        actor_height actor_ethnicity          actor_name  \\\n0              1.620             NaN      Wanda De Jesus   \n1              1.780      /m/044038p  Natasha Henstridge   \n2              1.727         /m/0x67            Ice Cube   \n3              1.750             NaN       Jason Statham   \n4              1.650             NaN         Clea DuVall   \n...              ...             ...                 ...   \n450664           NaN             NaN  Dorothy Elias-Fahn   \n450665           NaN             NaN       Jonathan Fahn   \n450666         1.730       /m/02w7gg      David Hemmings   \n450667           NaN             NaN    Roberta Paterson   \n450668           NaN             NaN         John Rogers   \n\n        actor_age_movie_release freebase_character_map   dont_know  \\\n0                          42.0             /m/0bgchxw  /m/0bgcj3x   \n1                          27.0              /m/0jys3m  /m/0bgchn4   \n2                          32.0              /m/0jys3g  /m/0bgchn_   \n3                          33.0             /m/02vchl6  /m/0bgchnq   \n4                          23.0             /m/02vbb3r  /m/0bgchp9   \n...                         ...                    ...         ...   \n450664                      NaN             /m/0kr406c  /m/0kr406h   \n450665                     27.0             /m/0kr405_  /m/0kr4090   \n450666                     15.0             /m/0g8ngmc         NaN   \n450667                      NaN             /m/0g8ngmj         NaN   \n450668                      NaN             /m/0g8ngmw         NaN   \n\n       dont_know_bis  \n0         /m/03wcfv7  \n1          /m/0346l4  \n2         /m/01vw26l  \n3          /m/034hyc  \n4          /m/01y9xg  \n...              ...  \n450664     /m/0b_vcv  \n450665     /m/0bx7_j  \n450666     /m/022g44  \n450667    /m/0g8ngmm  \n450668    /m/0btz19d  \n\n[450669 rows x 13 columns]",
      "text/html": "<div>\n<style scoped>\n    .dataframe tbody tr th:only-of-type {\n        vertical-align: middle;\n    }\n\n    .dataframe tbody tr th {\n        vertical-align: top;\n    }\n\n    .dataframe thead th {\n        text-align: right;\n    }\n</style>\n<table border=\"1\" class=\"dataframe\">\n  <thead>\n    <tr style=\"text-align: right;\">\n      <th></th>\n      <th>movie_wiki_ID</th>\n      <th>movie_freebase_ID</th>\n      <th>movie_release_date</th>\n      <th>character_name</th>\n      <th>actor_date_of_birth</th>\n      <th>actor_gender</th>\n      <th>actor_height</th>\n      <th>actor_ethnicity</th>\n      <th>actor_name</th>\n      <th>actor_age_movie_release</th>\n      <th>freebase_character_map</th>\n      <th>dont_know</th>\n      <th>dont_know_bis</th>\n    </tr>\n  </thead>\n  <tbody>\n    <tr>\n      <th>0</th>\n      <td>975900</td>\n      <td>/m/03vyhn</td>\n      <td>2001-08-24</td>\n      <td>Akooshay</td>\n      <td>1958-08-26</td>\n      <td>F</td>\n      <td>1.620</td>\n      <td>NaN</td>\n      <td>Wanda De Jesus</td>\n      <td>42.0</td>\n      <td>/m/0bgchxw</td>\n      <td>/m/0bgcj3x</td>\n      <td>/m/03wcfv7</td>\n    </tr>\n    <tr>\n      <th>1</th>\n      <td>975900</td>\n      <td>/m/03vyhn</td>\n      <td>2001-08-24</td>\n      <td>Lieutenant Melanie Ballard</td>\n      <td>1974-08-15</td>\n      <td>F</td>\n      <td>1.780</td>\n      <td>/m/044038p</td>\n      <td>Natasha Henstridge</td>\n      <td>27.0</td>\n      <td>/m/0jys3m</td>\n      <td>/m/0bgchn4</td>\n      <td>/m/0346l4</td>\n    </tr>\n    <tr>\n      <th>2</th>\n      <td>975900</td>\n      <td>/m/03vyhn</td>\n      <td>2001-08-24</td>\n      <td>Desolation Williams</td>\n      <td>1969-06-15</td>\n      <td>M</td>\n      <td>1.727</td>\n      <td>/m/0x67</td>\n      <td>Ice Cube</td>\n      <td>32.0</td>\n      <td>/m/0jys3g</td>\n      <td>/m/0bgchn_</td>\n      <td>/m/01vw26l</td>\n    </tr>\n    <tr>\n      <th>3</th>\n      <td>975900</td>\n      <td>/m/03vyhn</td>\n      <td>2001-08-24</td>\n      <td>Sgt Jericho Butler</td>\n      <td>1967-09-12</td>\n      <td>M</td>\n      <td>1.750</td>\n      <td>NaN</td>\n      <td>Jason Statham</td>\n      <td>33.0</td>\n      <td>/m/02vchl6</td>\n      <td>/m/0bgchnq</td>\n      <td>/m/034hyc</td>\n    </tr>\n    <tr>\n      <th>4</th>\n      <td>975900</td>\n      <td>/m/03vyhn</td>\n      <td>2001-08-24</td>\n      <td>Bashira Kincaid</td>\n      <td>1977-09-25</td>\n      <td>F</td>\n      <td>1.650</td>\n      <td>NaN</td>\n      <td>Clea DuVall</td>\n      <td>23.0</td>\n      <td>/m/02vbb3r</td>\n      <td>/m/0bgchp9</td>\n      <td>/m/01y9xg</td>\n    </tr>\n    <tr>\n      <th>...</th>\n      <td>...</td>\n      <td>...</td>\n      <td>...</td>\n      <td>...</td>\n      <td>...</td>\n      <td>...</td>\n      <td>...</td>\n      <td>...</td>\n      <td>...</td>\n      <td>...</td>\n      <td>...</td>\n      <td>...</td>\n      <td>...</td>\n    </tr>\n    <tr>\n      <th>450664</th>\n      <td>913762</td>\n      <td>/m/03pcrp</td>\n      <td>1992-05-21</td>\n      <td>Elensh</td>\n      <td>1970-05</td>\n      <td>F</td>\n      <td>NaN</td>\n      <td>NaN</td>\n      <td>Dorothy Elias-Fahn</td>\n      <td>NaN</td>\n      <td>/m/0kr406c</td>\n      <td>/m/0kr406h</td>\n      <td>/m/0b_vcv</td>\n    </tr>\n    <tr>\n      <th>450665</th>\n      <td>913762</td>\n      <td>/m/03pcrp</td>\n      <td>1992-05-21</td>\n      <td>Hibiki</td>\n      <td>1965-04-12</td>\n      <td>M</td>\n      <td>NaN</td>\n      <td>NaN</td>\n      <td>Jonathan Fahn</td>\n      <td>27.0</td>\n      <td>/m/0kr405_</td>\n      <td>/m/0kr4090</td>\n      <td>/m/0bx7_j</td>\n    </tr>\n    <tr>\n      <th>450666</th>\n      <td>28308153</td>\n      <td>/m/0cp05t9</td>\n      <td>1957</td>\n      <td>NaN</td>\n      <td>1941-11-18</td>\n      <td>M</td>\n      <td>1.730</td>\n      <td>/m/02w7gg</td>\n      <td>David Hemmings</td>\n      <td>15.0</td>\n      <td>/m/0g8ngmc</td>\n      <td>NaN</td>\n      <td>/m/022g44</td>\n    </tr>\n    <tr>\n      <th>450667</th>\n      <td>28308153</td>\n      <td>/m/0cp05t9</td>\n      <td>1957</td>\n      <td>NaN</td>\n      <td>NaN</td>\n      <td>NaN</td>\n      <td>NaN</td>\n      <td>NaN</td>\n      <td>Roberta Paterson</td>\n      <td>NaN</td>\n      <td>/m/0g8ngmj</td>\n      <td>NaN</td>\n      <td>/m/0g8ngmm</td>\n    </tr>\n    <tr>\n      <th>450668</th>\n      <td>28308153</td>\n      <td>/m/0cp05t9</td>\n      <td>1957</td>\n      <td>NaN</td>\n      <td>NaN</td>\n      <td>NaN</td>\n      <td>NaN</td>\n      <td>NaN</td>\n      <td>John Rogers</td>\n      <td>NaN</td>\n      <td>/m/0g8ngmw</td>\n      <td>NaN</td>\n      <td>/m/0btz19d</td>\n    </tr>\n  </tbody>\n</table>\n<p>450669 rows × 13 columns</p>\n</div>"
     },
     "metadata": {},
     "output_type": "display_data"
    }
   ],
   "source": [
    "display(character)"
   ],
   "metadata": {
    "collapsed": false,
    "ExecuteTime": {
     "end_time": "2023-11-08T14:49:48.773296Z",
     "start_time": "2023-11-08T14:49:48.759151Z"
    }
   }
  },
  {
   "cell_type": "markdown",
   "source": [
    "Next, we can display some metrics to get insight of each variable/metric."
   ],
   "metadata": {
    "collapsed": false
   }
  },
  {
   "cell_type": "markdown",
   "source": [
    "### Movie Metadata\n",
    "\n",
    "Explanations..."
   ],
   "metadata": {
    "collapsed": false
   }
  },
  {
   "cell_type": "code",
   "execution_count": 5,
   "outputs": [
    {
     "data": {
      "text/plain": "        wiki_ID freebase_ID  \\\n0        975900   /m/03vyhn   \n1       3196793   /m/08yl5d   \n2      28463795  /m/0crgdbh   \n3       9363483  /m/0285_cd   \n4        261236   /m/01mrr1   \n...         ...         ...   \n81736  35228177  /m/0j7hxnt   \n81737  34980460  /m/0g4pl34   \n81738   9971909  /m/02pygw1   \n81739    913762   /m/03pcrp   \n81740  12476867  /m/02w7zz8   \n\n                                                    name release_date  \\\n0                                         Ghosts of Mars   2001-08-24   \n1      Getting Away with Murder: The JonBenét Ramsey ...   2000-02-16   \n2                                            Brun bitter         1988   \n3                                       White Of The Eye         1987   \n4                                      A Woman in Flames         1983   \n...                                                  ...          ...   \n81736                           Mermaids: The Body Found   2011-03-19   \n81737                                            Knuckle   2011-01-21   \n81738                                  Another Nice Mess   1972-09-22   \n81739  The Super Dimension Fortress Macross II: Lover...   1992-05-21   \n81740                                            Spliced         2002   \n\n       box_office_revenue  runtime                           languages  \\\n0              14010832.0     98.0  {\"/m/02h40lc\": \"English Language\"}   \n1                     NaN     95.0  {\"/m/02h40lc\": \"English Language\"}   \n2                     NaN     83.0  {\"/m/05f_3\": \"Norwegian Language\"}   \n3                     NaN    110.0  {\"/m/02h40lc\": \"English Language\"}   \n4                     NaN    106.0   {\"/m/04306rv\": \"German Language\"}   \n...                   ...      ...                                 ...   \n81736                 NaN    120.0  {\"/m/02h40lc\": \"English Language\"}   \n81737                 NaN     96.0  {\"/m/02h40lc\": \"English Language\"}   \n81738                 NaN     66.0  {\"/m/02h40lc\": \"English Language\"}   \n81739                 NaN    150.0   {\"/m/03_9r\": \"Japanese Language\"}   \n81740                 NaN     86.0  {\"/m/02h40lc\": \"English Language\"}   \n\n                                               countries  \\\n0              {\"/m/09c7w0\": \"United States of America\"}   \n1              {\"/m/09c7w0\": \"United States of America\"}   \n2                                 {\"/m/05b4w\": \"Norway\"}   \n3                         {\"/m/07ssc\": \"United Kingdom\"}   \n4                                {\"/m/0345h\": \"Germany\"}   \n...                                                  ...   \n81736          {\"/m/09c7w0\": \"United States of America\"}   \n81737  {\"/m/03rt9\": \"Ireland\", \"/m/07ssc\": \"United Ki...   \n81738          {\"/m/09c7w0\": \"United States of America\"}   \n81739                              {\"/m/03_3d\": \"Japan\"}   \n81740                            {\"/m/0d060g\": \"Canada\"}   \n\n                                                  genres  \n0      {\"/m/01jfsb\": \"Thriller\", \"/m/06n90\": \"Science...  \n1      {\"/m/02n4kr\": \"Mystery\", \"/m/03bxz7\": \"Biograp...  \n2      {\"/m/0lsxr\": \"Crime Fiction\", \"/m/07s9rl0\": \"D...  \n3      {\"/m/01jfsb\": \"Thriller\", \"/m/0glj9q\": \"Erotic...  \n4                                {\"/m/07s9rl0\": \"Drama\"}  \n...                                                  ...  \n81736                            {\"/m/07s9rl0\": \"Drama\"}  \n81737  {\"/m/03bxz7\": \"Biographical film\", \"/m/07s9rl0...  \n81738       {\"/m/06nbt\": \"Satire\", \"/m/01z4y\": \"Comedy\"}  \n81739  {\"/m/06n90\": \"Science Fiction\", \"/m/0gw5n2f\": ...  \n81740  {\"/m/01jfsb\": \"Thriller\", \"/m/03npn\": \"Horror\"...  \n\n[81741 rows x 9 columns]",
      "text/html": "<div>\n<style scoped>\n    .dataframe tbody tr th:only-of-type {\n        vertical-align: middle;\n    }\n\n    .dataframe tbody tr th {\n        vertical-align: top;\n    }\n\n    .dataframe thead th {\n        text-align: right;\n    }\n</style>\n<table border=\"1\" class=\"dataframe\">\n  <thead>\n    <tr style=\"text-align: right;\">\n      <th></th>\n      <th>wiki_ID</th>\n      <th>freebase_ID</th>\n      <th>name</th>\n      <th>release_date</th>\n      <th>box_office_revenue</th>\n      <th>runtime</th>\n      <th>languages</th>\n      <th>countries</th>\n      <th>genres</th>\n    </tr>\n  </thead>\n  <tbody>\n    <tr>\n      <th>0</th>\n      <td>975900</td>\n      <td>/m/03vyhn</td>\n      <td>Ghosts of Mars</td>\n      <td>2001-08-24</td>\n      <td>14010832.0</td>\n      <td>98.0</td>\n      <td>{\"/m/02h40lc\": \"English Language\"}</td>\n      <td>{\"/m/09c7w0\": \"United States of America\"}</td>\n      <td>{\"/m/01jfsb\": \"Thriller\", \"/m/06n90\": \"Science...</td>\n    </tr>\n    <tr>\n      <th>1</th>\n      <td>3196793</td>\n      <td>/m/08yl5d</td>\n      <td>Getting Away with Murder: The JonBenét Ramsey ...</td>\n      <td>2000-02-16</td>\n      <td>NaN</td>\n      <td>95.0</td>\n      <td>{\"/m/02h40lc\": \"English Language\"}</td>\n      <td>{\"/m/09c7w0\": \"United States of America\"}</td>\n      <td>{\"/m/02n4kr\": \"Mystery\", \"/m/03bxz7\": \"Biograp...</td>\n    </tr>\n    <tr>\n      <th>2</th>\n      <td>28463795</td>\n      <td>/m/0crgdbh</td>\n      <td>Brun bitter</td>\n      <td>1988</td>\n      <td>NaN</td>\n      <td>83.0</td>\n      <td>{\"/m/05f_3\": \"Norwegian Language\"}</td>\n      <td>{\"/m/05b4w\": \"Norway\"}</td>\n      <td>{\"/m/0lsxr\": \"Crime Fiction\", \"/m/07s9rl0\": \"D...</td>\n    </tr>\n    <tr>\n      <th>3</th>\n      <td>9363483</td>\n      <td>/m/0285_cd</td>\n      <td>White Of The Eye</td>\n      <td>1987</td>\n      <td>NaN</td>\n      <td>110.0</td>\n      <td>{\"/m/02h40lc\": \"English Language\"}</td>\n      <td>{\"/m/07ssc\": \"United Kingdom\"}</td>\n      <td>{\"/m/01jfsb\": \"Thriller\", \"/m/0glj9q\": \"Erotic...</td>\n    </tr>\n    <tr>\n      <th>4</th>\n      <td>261236</td>\n      <td>/m/01mrr1</td>\n      <td>A Woman in Flames</td>\n      <td>1983</td>\n      <td>NaN</td>\n      <td>106.0</td>\n      <td>{\"/m/04306rv\": \"German Language\"}</td>\n      <td>{\"/m/0345h\": \"Germany\"}</td>\n      <td>{\"/m/07s9rl0\": \"Drama\"}</td>\n    </tr>\n    <tr>\n      <th>...</th>\n      <td>...</td>\n      <td>...</td>\n      <td>...</td>\n      <td>...</td>\n      <td>...</td>\n      <td>...</td>\n      <td>...</td>\n      <td>...</td>\n      <td>...</td>\n    </tr>\n    <tr>\n      <th>81736</th>\n      <td>35228177</td>\n      <td>/m/0j7hxnt</td>\n      <td>Mermaids: The Body Found</td>\n      <td>2011-03-19</td>\n      <td>NaN</td>\n      <td>120.0</td>\n      <td>{\"/m/02h40lc\": \"English Language\"}</td>\n      <td>{\"/m/09c7w0\": \"United States of America\"}</td>\n      <td>{\"/m/07s9rl0\": \"Drama\"}</td>\n    </tr>\n    <tr>\n      <th>81737</th>\n      <td>34980460</td>\n      <td>/m/0g4pl34</td>\n      <td>Knuckle</td>\n      <td>2011-01-21</td>\n      <td>NaN</td>\n      <td>96.0</td>\n      <td>{\"/m/02h40lc\": \"English Language\"}</td>\n      <td>{\"/m/03rt9\": \"Ireland\", \"/m/07ssc\": \"United Ki...</td>\n      <td>{\"/m/03bxz7\": \"Biographical film\", \"/m/07s9rl0...</td>\n    </tr>\n    <tr>\n      <th>81738</th>\n      <td>9971909</td>\n      <td>/m/02pygw1</td>\n      <td>Another Nice Mess</td>\n      <td>1972-09-22</td>\n      <td>NaN</td>\n      <td>66.0</td>\n      <td>{\"/m/02h40lc\": \"English Language\"}</td>\n      <td>{\"/m/09c7w0\": \"United States of America\"}</td>\n      <td>{\"/m/06nbt\": \"Satire\", \"/m/01z4y\": \"Comedy\"}</td>\n    </tr>\n    <tr>\n      <th>81739</th>\n      <td>913762</td>\n      <td>/m/03pcrp</td>\n      <td>The Super Dimension Fortress Macross II: Lover...</td>\n      <td>1992-05-21</td>\n      <td>NaN</td>\n      <td>150.0</td>\n      <td>{\"/m/03_9r\": \"Japanese Language\"}</td>\n      <td>{\"/m/03_3d\": \"Japan\"}</td>\n      <td>{\"/m/06n90\": \"Science Fiction\", \"/m/0gw5n2f\": ...</td>\n    </tr>\n    <tr>\n      <th>81740</th>\n      <td>12476867</td>\n      <td>/m/02w7zz8</td>\n      <td>Spliced</td>\n      <td>2002</td>\n      <td>NaN</td>\n      <td>86.0</td>\n      <td>{\"/m/02h40lc\": \"English Language\"}</td>\n      <td>{\"/m/0d060g\": \"Canada\"}</td>\n      <td>{\"/m/01jfsb\": \"Thriller\", \"/m/03npn\": \"Horror\"...</td>\n    </tr>\n  </tbody>\n</table>\n<p>81741 rows × 9 columns</p>\n</div>"
     },
     "metadata": {},
     "output_type": "display_data"
    }
   ],
   "source": [
    "display(movie)"
   ],
   "metadata": {
    "collapsed": false,
    "ExecuteTime": {
     "end_time": "2023-11-08T14:49:48.802261Z",
     "start_time": "2023-11-08T14:49:48.787388Z"
    }
   }
  },
  {
   "cell_type": "markdown",
   "source": [
    "## Simple Data Insight\n",
    "\n",
    "Let's try to get some insight of the data provide by the course. We focus here to describe some statistical description of some attributes, but also to explain which attributes might be interesting for our final project."
   ],
   "metadata": {
    "collapsed": false
   }
  },
  {
   "cell_type": "markdown",
   "source": [
    "### Character Metadata\n",
    "\n",
    "Let's begin with the Character data set."
   ],
   "metadata": {
    "collapsed": false
   }
  },
  {
   "cell_type": "code",
   "execution_count": 6,
   "outputs": [
    {
     "data": {
      "text/plain": "       movie_wiki_ID   actor_height  actor_age_movie_release\ncount   4.506690e+05  154824.000000            292556.000000\nmean    1.396975e+07       1.788893                37.788523\nstd     1.079662e+07       4.379940                20.587870\nmin     3.300000e+02       0.610000             -7896.000000\n25%     3.759292e+06       1.676400                28.000000\n50%     1.189065e+07       1.750000                36.000000\n75%     2.366501e+07       1.830000                47.000000\nmax     3.750192e+07     510.000000               103.000000",
      "text/html": "<div>\n<style scoped>\n    .dataframe tbody tr th:only-of-type {\n        vertical-align: middle;\n    }\n\n    .dataframe tbody tr th {\n        vertical-align: top;\n    }\n\n    .dataframe thead th {\n        text-align: right;\n    }\n</style>\n<table border=\"1\" class=\"dataframe\">\n  <thead>\n    <tr style=\"text-align: right;\">\n      <th></th>\n      <th>movie_wiki_ID</th>\n      <th>actor_height</th>\n      <th>actor_age_movie_release</th>\n    </tr>\n  </thead>\n  <tbody>\n    <tr>\n      <th>count</th>\n      <td>4.506690e+05</td>\n      <td>154824.000000</td>\n      <td>292556.000000</td>\n    </tr>\n    <tr>\n      <th>mean</th>\n      <td>1.396975e+07</td>\n      <td>1.788893</td>\n      <td>37.788523</td>\n    </tr>\n    <tr>\n      <th>std</th>\n      <td>1.079662e+07</td>\n      <td>4.379940</td>\n      <td>20.587870</td>\n    </tr>\n    <tr>\n      <th>min</th>\n      <td>3.300000e+02</td>\n      <td>0.610000</td>\n      <td>-7896.000000</td>\n    </tr>\n    <tr>\n      <th>25%</th>\n      <td>3.759292e+06</td>\n      <td>1.676400</td>\n      <td>28.000000</td>\n    </tr>\n    <tr>\n      <th>50%</th>\n      <td>1.189065e+07</td>\n      <td>1.750000</td>\n      <td>36.000000</td>\n    </tr>\n    <tr>\n      <th>75%</th>\n      <td>2.366501e+07</td>\n      <td>1.830000</td>\n      <td>47.000000</td>\n    </tr>\n    <tr>\n      <th>max</th>\n      <td>3.750192e+07</td>\n      <td>510.000000</td>\n      <td>103.000000</td>\n    </tr>\n  </tbody>\n</table>\n</div>"
     },
     "execution_count": 6,
     "metadata": {},
     "output_type": "execute_result"
    }
   ],
   "source": [
    "character.describe()"
   ],
   "metadata": {
    "collapsed": false,
    "ExecuteTime": {
     "end_time": "2023-11-08T14:49:48.929947Z",
     "start_time": "2023-11-08T14:49:48.793670Z"
    }
   }
  },
  {
   "cell_type": "markdown",
   "source": [
    "### Movie Metadata\n",
    "\n",
    "What about the Movie data set."
   ],
   "metadata": {
    "collapsed": false
   }
  },
  {
   "cell_type": "code",
   "execution_count": 7,
   "outputs": [
    {
     "data": {
      "text/plain": "            wiki_ID  box_office_revenue       runtime\ncount  8.174100e+04        8.401000e+03  6.129100e+04\nmean   1.740784e+07        4.799363e+07  1.118192e+02\nstd    1.098791e+07        1.121753e+08  4.360070e+03\nmin    3.300000e+02        1.000000e+04  0.000000e+00\n25%    7.323695e+06        2.083193e+06  8.100000e+01\n50%    1.777899e+07        1.063969e+07  9.300000e+01\n75%    2.715573e+07        4.071696e+07  1.060000e+02\nmax    3.750192e+07        2.782275e+09  1.079281e+06",
      "text/html": "<div>\n<style scoped>\n    .dataframe tbody tr th:only-of-type {\n        vertical-align: middle;\n    }\n\n    .dataframe tbody tr th {\n        vertical-align: top;\n    }\n\n    .dataframe thead th {\n        text-align: right;\n    }\n</style>\n<table border=\"1\" class=\"dataframe\">\n  <thead>\n    <tr style=\"text-align: right;\">\n      <th></th>\n      <th>wiki_ID</th>\n      <th>box_office_revenue</th>\n      <th>runtime</th>\n    </tr>\n  </thead>\n  <tbody>\n    <tr>\n      <th>count</th>\n      <td>8.174100e+04</td>\n      <td>8.401000e+03</td>\n      <td>6.129100e+04</td>\n    </tr>\n    <tr>\n      <th>mean</th>\n      <td>1.740784e+07</td>\n      <td>4.799363e+07</td>\n      <td>1.118192e+02</td>\n    </tr>\n    <tr>\n      <th>std</th>\n      <td>1.098791e+07</td>\n      <td>1.121753e+08</td>\n      <td>4.360070e+03</td>\n    </tr>\n    <tr>\n      <th>min</th>\n      <td>3.300000e+02</td>\n      <td>1.000000e+04</td>\n      <td>0.000000e+00</td>\n    </tr>\n    <tr>\n      <th>25%</th>\n      <td>7.323695e+06</td>\n      <td>2.083193e+06</td>\n      <td>8.100000e+01</td>\n    </tr>\n    <tr>\n      <th>50%</th>\n      <td>1.777899e+07</td>\n      <td>1.063969e+07</td>\n      <td>9.300000e+01</td>\n    </tr>\n    <tr>\n      <th>75%</th>\n      <td>2.715573e+07</td>\n      <td>4.071696e+07</td>\n      <td>1.060000e+02</td>\n    </tr>\n    <tr>\n      <th>max</th>\n      <td>3.750192e+07</td>\n      <td>2.782275e+09</td>\n      <td>1.079281e+06</td>\n    </tr>\n  </tbody>\n</table>\n</div>"
     },
     "execution_count": 7,
     "metadata": {},
     "output_type": "execute_result"
    }
   ],
   "source": [
    "movie.describe()"
   ],
   "metadata": {
    "collapsed": false,
    "ExecuteTime": {
     "end_time": "2023-11-08T14:49:48.930884Z",
     "start_time": "2023-11-08T14:49:48.872152Z"
    }
   }
  },
  {
   "cell_type": "markdown",
   "source": [
    "## Additional Data Set\n",
    "\n",
    "Let's enrich our dataset with an additional one downloaded [here (LINK NOT PROVIDED YET)](https://google.com).\n",
    "\n",
    "Here we should also provide some statistical inisght of this new dataset to be sure that it is interesting for us to work with this one."
   ],
   "metadata": {
    "collapsed": false
   }
  },
  {
   "cell_type": "code",
   "execution_count": 8,
   "outputs": [],
   "source": [
    "pass"
   ],
   "metadata": {
    "collapsed": false,
    "ExecuteTime": {
     "end_time": "2023-11-08T14:49:48.931058Z",
     "start_time": "2023-11-08T14:49:48.900508Z"
    }
   }
  },
  {
   "cell_type": "markdown",
   "source": [
    "## Joining Data Sets\n",
    "\n",
    "Explain how we are going to join the datasets to have a meaningful big dataset to achieve our goal."
   ],
   "metadata": {
    "collapsed": false
   }
  },
  {
   "cell_type": "code",
   "execution_count": 9,
   "outputs": [],
   "source": [
    "pass"
   ],
   "metadata": {
    "collapsed": false,
    "ExecuteTime": {
     "end_time": "2023-11-08T14:49:48.931309Z",
     "start_time": "2023-11-08T14:49:48.906103Z"
    }
   }
  },
  {
   "cell_type": "markdown",
   "source": [
    "## Results Expected\n",
    "\n",
    "Let's try to explain what are the main plots we want to bring to our readers. Do we have in mind also to have a interactive plot, and so on ?"
   ],
   "metadata": {
    "collapsed": false
   }
  },
  {
   "cell_type": "code",
   "execution_count": 10,
   "outputs": [],
   "source": [
    "# Might be interesting to try to produce the graph in a easy and not carefully way.\n",
    "pass"
   ],
   "metadata": {
    "collapsed": false,
    "ExecuteTime": {
     "end_time": "2023-11-08T14:49:48.931413Z",
     "start_time": "2023-11-08T14:49:48.909555Z"
    }
   }
  }
 ],
 "metadata": {
  "kernelspec": {
   "display_name": "Python 3",
   "language": "python",
   "name": "python3"
  },
  "language_info": {
   "codemirror_mode": {
    "name": "ipython",
    "version": 2
   },
   "file_extension": ".py",
   "mimetype": "text/x-python",
   "name": "python",
   "nbconvert_exporter": "python",
   "pygments_lexer": "ipython2",
   "version": "2.7.6"
  }
 },
 "nbformat": 4,
 "nbformat_minor": 0
}
