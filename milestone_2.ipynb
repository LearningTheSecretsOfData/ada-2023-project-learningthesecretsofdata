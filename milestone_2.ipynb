{
 "cells": [
  {
   "cell_type": "markdown",
   "source": [
    "# Milestone 2: Insight Of Data And Feasibility Check Of Our Idea\n",
    "\n",
    "<hr style=\"clear:both\">\n",
    "\n",
    "This notebook traces our journey through the feasibility check of our idea : Checking trends in music composition for the movie industry.\n",
    "\n",
    "DONT FORGET TO DELETE:\n",
    "**Guidline for us (to delete when submit the milestone):**\n",
    "This notebook will present the journey of the group through the data analysis. We show that we :\n",
    "- can handle the data in its size.\n",
    "- understand what’s in the data giving the formats, distributions, missing values, correlations, and so on.\n",
    "- considered ways to enrich, filter, transform the data according to our needs.\n",
    "- have a reasonable plan and ideas for methods we’re going to use, giving their essential mathematical details in the notebook.\n",
    "- have a plan for analysis and its communication is reasonable and sound, potentially discussing alternatives to our choices that we considered but dropped.\n",
    "\n",
    "**Project Mentor:** [Aoxiang Fan](https://people.epfl.ch/aoxiang.fan) ([Email](mailto:aoxiang.fan@epfl.ch))\n",
    "**Authors:** [Luca Carroz](https://people.epfl.ch/emilie.carroz), [David Schroeter](https://people.epfl.ch/david.schroeter), [Xavier Ogay](https://people.epfl.ch/xavier.ogay), [Joris Monnet](https://people.epfl.ch/joris.monnet), [Paulo Ribeiro de Carvalho](https://people.epfl.ch/paulo.ribeirodecarvalho)\n",
    "\n",
    "<hr style=\"clear:both\">"
   ],
   "metadata": {
    "collapsed": false
   }
  },
  {
   "cell_type": "markdown",
   "source": [
    "## Story-line\n",
    "\n",
    "**Title : Helping Stanislas to achieve his dream !**\n",
    "\n",
    "A 20-year-old aspiring musician, Stanislas, fueled by a passion for the film industry, embarks on a quest to launch his career. His ultimate dream? To hear one of his productions featured in a Hollywood film and become one of the planet's top composers. To increase his chances, he turns to a team of Data Scientists known as LSD.\n",
    "\n",
    "The LSD team's mission is to identify trends shared among successful music composers and compositions, ultimately optimizing choices for our young musician. The storyline focuses on American movies and Successful composers (successful meaning those who have produced soundtracks for high-grossing films, music appearing in more than ?? films, etc.)\n"
   ],
   "metadata": {
    "collapsed": false
   }
  },
  {
   "cell_type": "markdown",
   "source": [
    "## Needed data\n",
    "\n",
    "To help Stanislas with his dream, we will need some specific information about each analysed movie. To support our final answer concerning potential trends in composer for movie industry, we will analyse few questions :\n",
    "1) Which are the most frequent music genre appearing in movies ?\n",
    "2) What is the average composer's age at their first movie appearance ?\n",
    "3) Where do composers come from ?\n",
    "4) Does composer's gender matter ?\n",
    "5) Does personal website is preferred ?\n",
    "6) What is the expected **fame** to appear in a movie ? (Challenging : **fame** can be quantified with the amount of streams or CD selling for older compositors.)\n",
    "\n",
    "List of needed information about movie's composer :\n",
    "- Name\n",
    "- Birthday\n",
    "- Gender\n",
    "- Homepage\n",
    "- Place of birth\n",
    "- First appearance in movie"
   ],
   "metadata": {
    "collapsed": false
   }
  },
  {
   "cell_type": "markdown",
   "source": [
    "## Import"
   ],
   "metadata": {
    "collapsed": false
   }
  },
  {
   "cell_type": "code",
   "execution_count": 1,
   "outputs": [],
   "source": [
    "# import all needed libraries\n",
    "from helpers import *\n",
    "\n",
    "# Load autoreload extension\n",
    "%load_ext autoreload\n",
    "\n",
    "# Set autoreload mode\n",
    "%autoreload 2"
   ],
   "metadata": {
    "collapsed": false,
    "ExecuteTime": {
     "end_time": "2023-11-11T16:09:23.386336Z",
     "start_time": "2023-11-11T16:09:22.156254Z"
    }
   }
  },
  {
   "cell_type": "markdown",
   "source": [
    "## Load Data\n",
    "\n",
    "Only `movie.metadata.tsv` is loaded, since others data sets are not relevant for our data analysis.\n",
    "\n",
    "Note that no header are given in the raw data sets. We then looked at the documentation and set these headers with meaningful names. Please, find the documentation of data set [here](http://www.cs.cmu.edu/~ark/personas/)."
   ],
   "metadata": {
    "collapsed": false
   }
  },
  {
   "cell_type": "code",
   "execution_count": 2,
   "outputs": [
    {
     "data": {
      "text/plain": "       wiki_movieID freebase_movieID  \\\n0            975900        /m/03vyhn   \n1           3196793        /m/08yl5d   \n2          28463795       /m/0crgdbh   \n3           9363483       /m/0285_cd   \n4            261236        /m/01mrr1   \n...             ...              ...   \n81736      35228177       /m/0j7hxnt   \n81737      34980460       /m/0g4pl34   \n81738       9971909       /m/02pygw1   \n81739        913762        /m/03pcrp   \n81740      12476867       /m/02w7zz8   \n\n                                                    name release_date  \\\n0                                         Ghosts of Mars   2001-08-24   \n1      Getting Away with Murder: The JonBenét Ramsey ...   2000-02-16   \n2                                            Brun bitter         1988   \n3                                       White Of The Eye         1987   \n4                                      A Woman in Flames         1983   \n...                                                  ...          ...   \n81736                           Mermaids: The Body Found   2011-03-19   \n81737                                            Knuckle   2011-01-21   \n81738                                  Another Nice Mess   1972-09-22   \n81739  The Super Dimension Fortress Macross II: Lover...   1992-05-21   \n81740                                            Spliced         2002   \n\n       box_office_revenue  runtime                           languages  \\\n0              14010832.0     98.0  {\"/m/02h40lc\": \"English Language\"}   \n1                     NaN     95.0  {\"/m/02h40lc\": \"English Language\"}   \n2                     NaN     83.0  {\"/m/05f_3\": \"Norwegian Language\"}   \n3                     NaN    110.0  {\"/m/02h40lc\": \"English Language\"}   \n4                     NaN    106.0   {\"/m/04306rv\": \"German Language\"}   \n...                   ...      ...                                 ...   \n81736                 NaN    120.0  {\"/m/02h40lc\": \"English Language\"}   \n81737                 NaN     96.0  {\"/m/02h40lc\": \"English Language\"}   \n81738                 NaN     66.0  {\"/m/02h40lc\": \"English Language\"}   \n81739                 NaN    150.0   {\"/m/03_9r\": \"Japanese Language\"}   \n81740                 NaN     86.0  {\"/m/02h40lc\": \"English Language\"}   \n\n                                               countries  \\\n0              {\"/m/09c7w0\": \"United States of America\"}   \n1              {\"/m/09c7w0\": \"United States of America\"}   \n2                                 {\"/m/05b4w\": \"Norway\"}   \n3                         {\"/m/07ssc\": \"United Kingdom\"}   \n4                                {\"/m/0345h\": \"Germany\"}   \n...                                                  ...   \n81736          {\"/m/09c7w0\": \"United States of America\"}   \n81737  {\"/m/03rt9\": \"Ireland\", \"/m/07ssc\": \"United Ki...   \n81738          {\"/m/09c7w0\": \"United States of America\"}   \n81739                              {\"/m/03_3d\": \"Japan\"}   \n81740                            {\"/m/0d060g\": \"Canada\"}   \n\n                                                  genres  \n0      {\"/m/01jfsb\": \"Thriller\", \"/m/06n90\": \"Science...  \n1      {\"/m/02n4kr\": \"Mystery\", \"/m/03bxz7\": \"Biograp...  \n2      {\"/m/0lsxr\": \"Crime Fiction\", \"/m/07s9rl0\": \"D...  \n3      {\"/m/01jfsb\": \"Thriller\", \"/m/0glj9q\": \"Erotic...  \n4                                {\"/m/07s9rl0\": \"Drama\"}  \n...                                                  ...  \n81736                            {\"/m/07s9rl0\": \"Drama\"}  \n81737  {\"/m/03bxz7\": \"Biographical film\", \"/m/07s9rl0...  \n81738       {\"/m/06nbt\": \"Satire\", \"/m/01z4y\": \"Comedy\"}  \n81739  {\"/m/06n90\": \"Science Fiction\", \"/m/0gw5n2f\": ...  \n81740  {\"/m/01jfsb\": \"Thriller\", \"/m/03npn\": \"Horror\"...  \n\n[81741 rows x 9 columns]",
      "text/html": "<div>\n<style scoped>\n    .dataframe tbody tr th:only-of-type {\n        vertical-align: middle;\n    }\n\n    .dataframe tbody tr th {\n        vertical-align: top;\n    }\n\n    .dataframe thead th {\n        text-align: right;\n    }\n</style>\n<table border=\"1\" class=\"dataframe\">\n  <thead>\n    <tr style=\"text-align: right;\">\n      <th></th>\n      <th>wiki_movieID</th>\n      <th>freebase_movieID</th>\n      <th>name</th>\n      <th>release_date</th>\n      <th>box_office_revenue</th>\n      <th>runtime</th>\n      <th>languages</th>\n      <th>countries</th>\n      <th>genres</th>\n    </tr>\n  </thead>\n  <tbody>\n    <tr>\n      <th>0</th>\n      <td>975900</td>\n      <td>/m/03vyhn</td>\n      <td>Ghosts of Mars</td>\n      <td>2001-08-24</td>\n      <td>14010832.0</td>\n      <td>98.0</td>\n      <td>{\"/m/02h40lc\": \"English Language\"}</td>\n      <td>{\"/m/09c7w0\": \"United States of America\"}</td>\n      <td>{\"/m/01jfsb\": \"Thriller\", \"/m/06n90\": \"Science...</td>\n    </tr>\n    <tr>\n      <th>1</th>\n      <td>3196793</td>\n      <td>/m/08yl5d</td>\n      <td>Getting Away with Murder: The JonBenét Ramsey ...</td>\n      <td>2000-02-16</td>\n      <td>NaN</td>\n      <td>95.0</td>\n      <td>{\"/m/02h40lc\": \"English Language\"}</td>\n      <td>{\"/m/09c7w0\": \"United States of America\"}</td>\n      <td>{\"/m/02n4kr\": \"Mystery\", \"/m/03bxz7\": \"Biograp...</td>\n    </tr>\n    <tr>\n      <th>2</th>\n      <td>28463795</td>\n      <td>/m/0crgdbh</td>\n      <td>Brun bitter</td>\n      <td>1988</td>\n      <td>NaN</td>\n      <td>83.0</td>\n      <td>{\"/m/05f_3\": \"Norwegian Language\"}</td>\n      <td>{\"/m/05b4w\": \"Norway\"}</td>\n      <td>{\"/m/0lsxr\": \"Crime Fiction\", \"/m/07s9rl0\": \"D...</td>\n    </tr>\n    <tr>\n      <th>3</th>\n      <td>9363483</td>\n      <td>/m/0285_cd</td>\n      <td>White Of The Eye</td>\n      <td>1987</td>\n      <td>NaN</td>\n      <td>110.0</td>\n      <td>{\"/m/02h40lc\": \"English Language\"}</td>\n      <td>{\"/m/07ssc\": \"United Kingdom\"}</td>\n      <td>{\"/m/01jfsb\": \"Thriller\", \"/m/0glj9q\": \"Erotic...</td>\n    </tr>\n    <tr>\n      <th>4</th>\n      <td>261236</td>\n      <td>/m/01mrr1</td>\n      <td>A Woman in Flames</td>\n      <td>1983</td>\n      <td>NaN</td>\n      <td>106.0</td>\n      <td>{\"/m/04306rv\": \"German Language\"}</td>\n      <td>{\"/m/0345h\": \"Germany\"}</td>\n      <td>{\"/m/07s9rl0\": \"Drama\"}</td>\n    </tr>\n    <tr>\n      <th>...</th>\n      <td>...</td>\n      <td>...</td>\n      <td>...</td>\n      <td>...</td>\n      <td>...</td>\n      <td>...</td>\n      <td>...</td>\n      <td>...</td>\n      <td>...</td>\n    </tr>\n    <tr>\n      <th>81736</th>\n      <td>35228177</td>\n      <td>/m/0j7hxnt</td>\n      <td>Mermaids: The Body Found</td>\n      <td>2011-03-19</td>\n      <td>NaN</td>\n      <td>120.0</td>\n      <td>{\"/m/02h40lc\": \"English Language\"}</td>\n      <td>{\"/m/09c7w0\": \"United States of America\"}</td>\n      <td>{\"/m/07s9rl0\": \"Drama\"}</td>\n    </tr>\n    <tr>\n      <th>81737</th>\n      <td>34980460</td>\n      <td>/m/0g4pl34</td>\n      <td>Knuckle</td>\n      <td>2011-01-21</td>\n      <td>NaN</td>\n      <td>96.0</td>\n      <td>{\"/m/02h40lc\": \"English Language\"}</td>\n      <td>{\"/m/03rt9\": \"Ireland\", \"/m/07ssc\": \"United Ki...</td>\n      <td>{\"/m/03bxz7\": \"Biographical film\", \"/m/07s9rl0...</td>\n    </tr>\n    <tr>\n      <th>81738</th>\n      <td>9971909</td>\n      <td>/m/02pygw1</td>\n      <td>Another Nice Mess</td>\n      <td>1972-09-22</td>\n      <td>NaN</td>\n      <td>66.0</td>\n      <td>{\"/m/02h40lc\": \"English Language\"}</td>\n      <td>{\"/m/09c7w0\": \"United States of America\"}</td>\n      <td>{\"/m/06nbt\": \"Satire\", \"/m/01z4y\": \"Comedy\"}</td>\n    </tr>\n    <tr>\n      <th>81739</th>\n      <td>913762</td>\n      <td>/m/03pcrp</td>\n      <td>The Super Dimension Fortress Macross II: Lover...</td>\n      <td>1992-05-21</td>\n      <td>NaN</td>\n      <td>150.0</td>\n      <td>{\"/m/03_9r\": \"Japanese Language\"}</td>\n      <td>{\"/m/03_3d\": \"Japan\"}</td>\n      <td>{\"/m/06n90\": \"Science Fiction\", \"/m/0gw5n2f\": ...</td>\n    </tr>\n    <tr>\n      <th>81740</th>\n      <td>12476867</td>\n      <td>/m/02w7zz8</td>\n      <td>Spliced</td>\n      <td>2002</td>\n      <td>NaN</td>\n      <td>86.0</td>\n      <td>{\"/m/02h40lc\": \"English Language\"}</td>\n      <td>{\"/m/0d060g\": \"Canada\"}</td>\n      <td>{\"/m/01jfsb\": \"Thriller\", \"/m/03npn\": \"Horror\"...</td>\n    </tr>\n  </tbody>\n</table>\n<p>81741 rows × 9 columns</p>\n</div>"
     },
     "metadata": {},
     "output_type": "display_data"
    }
   ],
   "source": [
    "# Please be sure your data is store in the same path\n",
    "data_path = 'dataset/MovieSummaries/movie.metadata.tsv'\n",
    "\n",
    "# Load the text file into Pandas DataFrame\n",
    "movie = load_movies(data_path)\n",
    "\n",
    "# Display the dataframe\n",
    "display(movie)"
   ],
   "metadata": {
    "collapsed": false,
    "ExecuteTime": {
     "end_time": "2023-11-11T16:09:23.684622Z",
     "start_time": "2023-11-11T16:09:23.386662Z"
    }
   }
  },
  {
   "cell_type": "markdown",
   "source": [
    "A quick visual insight can be done to get information gain. We see that some variables are textual (i.e. `movie_freebase_ID`, `actor_name`, ...), categorical (i.e. `actor_gender`) or numerical (i.e. `actor_height`, `actor_age_movie_release`, ...).\n",
    "\n",
    "Let's have a more meaningful insight of our current data."
   ],
   "metadata": {
    "collapsed": false
   }
  },
  {
   "cell_type": "code",
   "execution_count": 3,
   "outputs": [
    {
     "name": "stdout",
     "output_type": "stream",
     "text": [
      "<class 'pandas.core.frame.DataFrame'>\n",
      "RangeIndex: 81741 entries, 0 to 81740\n",
      "Data columns (total 9 columns):\n",
      " #   Column              Non-Null Count  Dtype  \n",
      "---  ------              --------------  -----  \n",
      " 0   wiki_movieID        81741 non-null  int64  \n",
      " 1   freebase_movieID    81741 non-null  object \n",
      " 2   name                81741 non-null  object \n",
      " 3   release_date        74839 non-null  object \n",
      " 4   box_office_revenue  8401 non-null   float64\n",
      " 5   runtime             61291 non-null  float64\n",
      " 6   languages           81741 non-null  object \n",
      " 7   countries           81741 non-null  object \n",
      " 8   genres              81741 non-null  object \n",
      "dtypes: float64(2), int64(1), object(6)\n",
      "memory usage: 5.6+ MB\n"
     ]
    },
    {
     "data": {
      "text/plain": "(None,\n        wiki_movieID  box_office_revenue       runtime\n count  8.174100e+04        8.401000e+03  6.129100e+04\n mean   1.740784e+07        4.799363e+07  1.118192e+02\n std    1.098791e+07        1.121753e+08  4.360070e+03\n min    3.300000e+02        1.000000e+04  0.000000e+00\n 25%    7.323695e+06        2.083193e+06  8.100000e+01\n 50%    1.777899e+07        1.063969e+07  9.300000e+01\n 75%    2.715573e+07        4.071696e+07  1.060000e+02\n max    3.750192e+07        2.782275e+09  1.079281e+06)"
     },
     "execution_count": 3,
     "metadata": {},
     "output_type": "execute_result"
    }
   ],
   "source": [
    "# TODO : Finish the insight function to give a better display of information about dataframe\n",
    "insight(movie)"
   ],
   "metadata": {
    "collapsed": false,
    "ExecuteTime": {
     "end_time": "2023-11-11T16:09:23.780615Z",
     "start_time": "2023-11-11T16:09:23.686559Z"
    }
   }
  },
  {
   "cell_type": "markdown",
   "source": [
    "We see that only few movies (8,401) have information about their box office revenue. Since it is an important metric for us, we will only be able to analyze these movies.\n",
    "One solution would be to complete the dataframe with another dataframe.\n",
    "\n",
    "More importantly, we see that needed attributes are not given. We then need to retrieve them via external datasets. To do so, we use a free to use API ([TMDB](https://www.themoviedb.org/?language=fr)) to enrich our movies' information.\n",
    "\n",
    "A specific script has been created to be run once and create our `clean_enrich_movie.csv` dataset. Go to `enrich_data.py` and its linked library `tmdb/tmdb.py` for more explanation on how we retrieved these information. Please note that a personal API key is needed to successfully run the script ([create key](https://developer.themoviedb.org/reference/intro/getting-started)). Make sure to create file `.env` with your API bearer token using the `.env_example` as template."
   ],
   "metadata": {
    "collapsed": false
   }
  },
  {
   "cell_type": "markdown",
   "source": [
    "## Enrich Data Set\n",
    "\n",
    "Let's enrich our dataset with an additional one downloaded [here (LINK NOT PROVIDED YET)](https://google.com).\n",
    "\n",
    "Here we should also provide some statistical inisght of this new dataset to be sure that it is interesting for us to work with this one."
   ],
   "metadata": {
    "collapsed": false
   }
  },
  {
   "cell_type": "code",
   "execution_count": 4,
   "outputs": [],
   "source": [
    "pass"
   ],
   "metadata": {
    "collapsed": false,
    "ExecuteTime": {
     "end_time": "2023-11-11T16:09:23.781090Z",
     "start_time": "2023-11-11T16:09:23.755527Z"
    }
   }
  },
  {
   "cell_type": "markdown",
   "source": [
    "## Joining Data Sets\n",
    "\n",
    "Explain how we are going to join the datasets to have a meaningful big dataset to achieve our goal."
   ],
   "metadata": {
    "collapsed": false
   }
  },
  {
   "cell_type": "code",
   "execution_count": 5,
   "outputs": [],
   "source": [
    "pass"
   ],
   "metadata": {
    "collapsed": false,
    "ExecuteTime": {
     "end_time": "2023-11-11T16:09:23.802408Z",
     "start_time": "2023-11-11T16:09:23.778974Z"
    }
   }
  },
  {
   "cell_type": "markdown",
   "source": [
    "## Results Expected\n",
    "\n",
    "Let's try to explain what are the main plots we want to bring to our readers. Do we have in mind also to have a interactive plot, and so on ?"
   ],
   "metadata": {
    "collapsed": false
   }
  },
  {
   "cell_type": "code",
   "execution_count": 6,
   "outputs": [],
   "source": [
    "pass"
   ],
   "metadata": {
    "collapsed": false,
    "ExecuteTime": {
     "end_time": "2023-11-11T16:09:23.841231Z",
     "start_time": "2023-11-11T16:09:23.799889Z"
    }
   }
  }
 ],
 "metadata": {
  "kernelspec": {
   "display_name": "Python 3",
   "language": "python",
   "name": "python3"
  },
  "language_info": {
   "codemirror_mode": {
    "name": "ipython",
    "version": 2
   },
   "file_extension": ".py",
   "mimetype": "text/x-python",
   "name": "python",
   "nbconvert_exporter": "python",
   "pygments_lexer": "ipython2",
   "version": "2.7.6"
  }
 },
 "nbformat": 4,
 "nbformat_minor": 0
}
