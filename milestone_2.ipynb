{
 "cells": [
  {
   "cell_type": "markdown",
   "source": [
    "# Milestone 2: Insight Of Data And Feasibility Check Of Our Idea\n",
    "\n",
    "<hr style=\"clear:both\">\n",
    "\n",
    "!! Explain our idea clearly here !!\n",
    "\n",
    "\n",
    "**Guidline for us (to delete when submit the milestone):**\n",
    "This notebook will present the journey of the group through the data analysis. We show that we :\n",
    "- can handle the data in its size.\n",
    "- understand what’s in the data giving the formats, distributions, missing values, correlations, and so on.\n",
    "- considered ways to enrich, filter, transform the data according to our needs.\n",
    "- have a reasonable plan and ideas for methods we’re going to use, giving their essential mathematical details in the notebook.\n",
    "- have a plan for analysis and its communication is reasonable and sound, potentially discussing alternatives to our choices that we considered but dropped.\n",
    "\n",
    "**Authors:** : [Luca Carroz](https://people.epfl.ch/emilie.carroz), [David Schroeter](https://people.epfl.ch/david.schroeter), [Xavier Ogay](https://people.epfl.ch/xavier.ogay), [Joris Monnet](https://people.epfl.ch/joris.monnet), [Paulo Ribeiro de Carvalho](https://people.epfl.ch/paulo.ribeirodecarvalho)\n",
    "\n",
    "<hr style=\"clear:both\">"
   ],
   "metadata": {
    "collapsed": false
   }
  },
  {
   "cell_type": "markdown",
   "source": [
    "## Import"
   ],
   "metadata": {
    "collapsed": false
   }
  },
  {
   "cell_type": "code",
   "execution_count": 1,
   "outputs": [],
   "source": [
    "import numpy as np\n",
    "import pandas as pd"
   ],
   "metadata": {
    "collapsed": false,
    "ExecuteTime": {
     "end_time": "2023-11-10T17:51:37.220297439Z",
     "start_time": "2023-11-10T17:51:36.965963279Z"
    }
   }
  },
  {
   "cell_type": "markdown",
   "source": [
    "## Load Data"
   ],
   "metadata": {
    "collapsed": false
   }
  },
  {
   "cell_type": "code",
   "execution_count": 5,
   "outputs": [],
   "source": [
    "# Please be sure your data is store in the same path\n",
    "data_path = 'dataset/MovieSummaries/'\n",
    "\n",
    "# Read the text file into a Pandas DataFrame\n",
    "character = pd.read_csv(f\"{data_path}/character.metadata.tsv\", delimiter='\\t', header=None)\n",
    "movie = pd.read_csv(f\"{data_path}/movie.metadata.tsv\", delimiter='\\t', header=None)\n",
    "name = pd.read_csv(f\"{data_path}/name.clusters.txt\", delimiter='\\t', header=None)\n",
    "\n",
    "enrich_movies = pd.read_csv(f'dataset/clea_enrich_movies.csv')"
   ],
   "metadata": {
    "collapsed": false,
    "ExecuteTime": {
     "end_time": "2023-11-10T17:59:40.373562721Z",
     "start_time": "2023-11-10T17:59:39.109675506Z"
    }
   }
  },
  {
   "cell_type": "markdown",
   "source": [
    "## Data Formatting\n",
    "Note that no header are given in the raw data sets. We then looked at the documentation and set these headers with meaningful names. Please, find the documentation of data set [here](http://www.cs.cmu.edu/~ark/personas/)."
   ],
   "metadata": {
    "collapsed": false
   }
  },
  {
   "cell_type": "code",
   "execution_count": 4,
   "outputs": [],
   "source": [
    "character.columns = [\"movie_wiki_ID\", \"movie_freebase_ID\", \"movie_release_date\", \"character_name\",\n",
    "                  \"actor_date_of_birth\", \"actor_gender\", \"actor_height\", \"actor_ethnicity\", \"actor_name\",\n",
    "                  \"actor_age_movie_release\", \"freebase_character_map\", \"dont_know\", \"dont_know_bis\"]\n",
    "\n",
    "movie.columns = [\"wiki_ID\", \"freebase_ID\", \"name\", \"release_date\", \"box_office_revenue\", \"runtime\",\n",
    "                 \"languages\", \"countries\", \"genres\"]\n",
    "\n",
    "name.columns = [\"character_name\", \"freebase_character_map\"]"
   ],
   "metadata": {
    "collapsed": false,
    "ExecuteTime": {
     "end_time": "2023-11-09T13:28:53.927337394Z",
     "start_time": "2023-11-09T13:28:53.883485433Z"
    }
   }
  },
  {
   "cell_type": "markdown",
   "source": [
    "Now we can display the DataFrame with the right features/columns names and start working on them."
   ],
   "metadata": {
    "collapsed": false
   }
  },
  {
   "cell_type": "markdown",
   "source": [
    "### Character Metadata\n",
    "\n",
    "Let's explore the first dataset that is provided to us. First, display the raw data with correct label for each variable. We see that some variables are textual (i.e. `movie_freebase_ID`, `actor_name`, ...), categorical (i.e. `actor_gender`) or numerical (i.e. `actor_height`, `actor_age_movie_release`, ...)."
   ],
   "metadata": {
    "collapsed": false
   }
  },
  {
   "cell_type": "code",
   "execution_count": 5,
   "outputs": [
    {
     "data": {
      "text/plain": "        movie_wiki_ID movie_freebase_ID movie_release_date  \\\n0              975900         /m/03vyhn         2001-08-24   \n1              975900         /m/03vyhn         2001-08-24   \n2              975900         /m/03vyhn         2001-08-24   \n3              975900         /m/03vyhn         2001-08-24   \n4              975900         /m/03vyhn         2001-08-24   \n...               ...               ...                ...   \n450664         913762         /m/03pcrp         1992-05-21   \n450665         913762         /m/03pcrp         1992-05-21   \n450666       28308153        /m/0cp05t9               1957   \n450667       28308153        /m/0cp05t9               1957   \n450668       28308153        /m/0cp05t9               1957   \n\n                    character_name actor_date_of_birth actor_gender  \\\n0                         Akooshay          1958-08-26            F   \n1       Lieutenant Melanie Ballard          1974-08-15            F   \n2              Desolation Williams          1969-06-15            M   \n3               Sgt Jericho Butler          1967-09-12            M   \n4                  Bashira Kincaid          1977-09-25            F   \n...                            ...                 ...          ...   \n450664                      Elensh             1970-05            F   \n450665                      Hibiki          1965-04-12            M   \n450666                         NaN          1941-11-18            M   \n450667                         NaN                 NaN          NaN   \n450668                         NaN                 NaN          NaN   \n\n        actor_height actor_ethnicity          actor_name  \\\n0              1.620             NaN      Wanda De Jesus   \n1              1.780      /m/044038p  Natasha Henstridge   \n2              1.727         /m/0x67            Ice Cube   \n3              1.750             NaN       Jason Statham   \n4              1.650             NaN         Clea DuVall   \n...              ...             ...                 ...   \n450664           NaN             NaN  Dorothy Elias-Fahn   \n450665           NaN             NaN       Jonathan Fahn   \n450666         1.730       /m/02w7gg      David Hemmings   \n450667           NaN             NaN    Roberta Paterson   \n450668           NaN             NaN         John Rogers   \n\n        actor_age_movie_release freebase_character_map   dont_know  \\\n0                          42.0             /m/0bgchxw  /m/0bgcj3x   \n1                          27.0              /m/0jys3m  /m/0bgchn4   \n2                          32.0              /m/0jys3g  /m/0bgchn_   \n3                          33.0             /m/02vchl6  /m/0bgchnq   \n4                          23.0             /m/02vbb3r  /m/0bgchp9   \n...                         ...                    ...         ...   \n450664                      NaN             /m/0kr406c  /m/0kr406h   \n450665                     27.0             /m/0kr405_  /m/0kr4090   \n450666                     15.0             /m/0g8ngmc         NaN   \n450667                      NaN             /m/0g8ngmj         NaN   \n450668                      NaN             /m/0g8ngmw         NaN   \n\n       dont_know_bis  \n0         /m/03wcfv7  \n1          /m/0346l4  \n2         /m/01vw26l  \n3          /m/034hyc  \n4          /m/01y9xg  \n...              ...  \n450664     /m/0b_vcv  \n450665     /m/0bx7_j  \n450666     /m/022g44  \n450667    /m/0g8ngmm  \n450668    /m/0btz19d  \n\n[450669 rows x 13 columns]",
      "text/html": "<div>\n<style scoped>\n    .dataframe tbody tr th:only-of-type {\n        vertical-align: middle;\n    }\n\n    .dataframe tbody tr th {\n        vertical-align: top;\n    }\n\n    .dataframe thead th {\n        text-align: right;\n    }\n</style>\n<table border=\"1\" class=\"dataframe\">\n  <thead>\n    <tr style=\"text-align: right;\">\n      <th></th>\n      <th>movie_wiki_ID</th>\n      <th>movie_freebase_ID</th>\n      <th>movie_release_date</th>\n      <th>character_name</th>\n      <th>actor_date_of_birth</th>\n      <th>actor_gender</th>\n      <th>actor_height</th>\n      <th>actor_ethnicity</th>\n      <th>actor_name</th>\n      <th>actor_age_movie_release</th>\n      <th>freebase_character_map</th>\n      <th>dont_know</th>\n      <th>dont_know_bis</th>\n    </tr>\n  </thead>\n  <tbody>\n    <tr>\n      <th>0</th>\n      <td>975900</td>\n      <td>/m/03vyhn</td>\n      <td>2001-08-24</td>\n      <td>Akooshay</td>\n      <td>1958-08-26</td>\n      <td>F</td>\n      <td>1.620</td>\n      <td>NaN</td>\n      <td>Wanda De Jesus</td>\n      <td>42.0</td>\n      <td>/m/0bgchxw</td>\n      <td>/m/0bgcj3x</td>\n      <td>/m/03wcfv7</td>\n    </tr>\n    <tr>\n      <th>1</th>\n      <td>975900</td>\n      <td>/m/03vyhn</td>\n      <td>2001-08-24</td>\n      <td>Lieutenant Melanie Ballard</td>\n      <td>1974-08-15</td>\n      <td>F</td>\n      <td>1.780</td>\n      <td>/m/044038p</td>\n      <td>Natasha Henstridge</td>\n      <td>27.0</td>\n      <td>/m/0jys3m</td>\n      <td>/m/0bgchn4</td>\n      <td>/m/0346l4</td>\n    </tr>\n    <tr>\n      <th>2</th>\n      <td>975900</td>\n      <td>/m/03vyhn</td>\n      <td>2001-08-24</td>\n      <td>Desolation Williams</td>\n      <td>1969-06-15</td>\n      <td>M</td>\n      <td>1.727</td>\n      <td>/m/0x67</td>\n      <td>Ice Cube</td>\n      <td>32.0</td>\n      <td>/m/0jys3g</td>\n      <td>/m/0bgchn_</td>\n      <td>/m/01vw26l</td>\n    </tr>\n    <tr>\n      <th>3</th>\n      <td>975900</td>\n      <td>/m/03vyhn</td>\n      <td>2001-08-24</td>\n      <td>Sgt Jericho Butler</td>\n      <td>1967-09-12</td>\n      <td>M</td>\n      <td>1.750</td>\n      <td>NaN</td>\n      <td>Jason Statham</td>\n      <td>33.0</td>\n      <td>/m/02vchl6</td>\n      <td>/m/0bgchnq</td>\n      <td>/m/034hyc</td>\n    </tr>\n    <tr>\n      <th>4</th>\n      <td>975900</td>\n      <td>/m/03vyhn</td>\n      <td>2001-08-24</td>\n      <td>Bashira Kincaid</td>\n      <td>1977-09-25</td>\n      <td>F</td>\n      <td>1.650</td>\n      <td>NaN</td>\n      <td>Clea DuVall</td>\n      <td>23.0</td>\n      <td>/m/02vbb3r</td>\n      <td>/m/0bgchp9</td>\n      <td>/m/01y9xg</td>\n    </tr>\n    <tr>\n      <th>...</th>\n      <td>...</td>\n      <td>...</td>\n      <td>...</td>\n      <td>...</td>\n      <td>...</td>\n      <td>...</td>\n      <td>...</td>\n      <td>...</td>\n      <td>...</td>\n      <td>...</td>\n      <td>...</td>\n      <td>...</td>\n      <td>...</td>\n    </tr>\n    <tr>\n      <th>450664</th>\n      <td>913762</td>\n      <td>/m/03pcrp</td>\n      <td>1992-05-21</td>\n      <td>Elensh</td>\n      <td>1970-05</td>\n      <td>F</td>\n      <td>NaN</td>\n      <td>NaN</td>\n      <td>Dorothy Elias-Fahn</td>\n      <td>NaN</td>\n      <td>/m/0kr406c</td>\n      <td>/m/0kr406h</td>\n      <td>/m/0b_vcv</td>\n    </tr>\n    <tr>\n      <th>450665</th>\n      <td>913762</td>\n      <td>/m/03pcrp</td>\n      <td>1992-05-21</td>\n      <td>Hibiki</td>\n      <td>1965-04-12</td>\n      <td>M</td>\n      <td>NaN</td>\n      <td>NaN</td>\n      <td>Jonathan Fahn</td>\n      <td>27.0</td>\n      <td>/m/0kr405_</td>\n      <td>/m/0kr4090</td>\n      <td>/m/0bx7_j</td>\n    </tr>\n    <tr>\n      <th>450666</th>\n      <td>28308153</td>\n      <td>/m/0cp05t9</td>\n      <td>1957</td>\n      <td>NaN</td>\n      <td>1941-11-18</td>\n      <td>M</td>\n      <td>1.730</td>\n      <td>/m/02w7gg</td>\n      <td>David Hemmings</td>\n      <td>15.0</td>\n      <td>/m/0g8ngmc</td>\n      <td>NaN</td>\n      <td>/m/022g44</td>\n    </tr>\n    <tr>\n      <th>450667</th>\n      <td>28308153</td>\n      <td>/m/0cp05t9</td>\n      <td>1957</td>\n      <td>NaN</td>\n      <td>NaN</td>\n      <td>NaN</td>\n      <td>NaN</td>\n      <td>NaN</td>\n      <td>Roberta Paterson</td>\n      <td>NaN</td>\n      <td>/m/0g8ngmj</td>\n      <td>NaN</td>\n      <td>/m/0g8ngmm</td>\n    </tr>\n    <tr>\n      <th>450668</th>\n      <td>28308153</td>\n      <td>/m/0cp05t9</td>\n      <td>1957</td>\n      <td>NaN</td>\n      <td>NaN</td>\n      <td>NaN</td>\n      <td>NaN</td>\n      <td>NaN</td>\n      <td>John Rogers</td>\n      <td>NaN</td>\n      <td>/m/0g8ngmw</td>\n      <td>NaN</td>\n      <td>/m/0btz19d</td>\n    </tr>\n  </tbody>\n</table>\n<p>450669 rows × 13 columns</p>\n</div>"
     },
     "metadata": {},
     "output_type": "display_data"
    }
   ],
   "source": [
    "display(character)"
   ],
   "metadata": {
    "collapsed": false,
    "ExecuteTime": {
     "end_time": "2023-11-09T13:29:38.117678802Z",
     "start_time": "2023-11-09T13:29:38.071111992Z"
    }
   }
  },
  {
   "cell_type": "markdown",
   "source": [
    "Next, we can display some metrics to get insight of each variable/metric."
   ],
   "metadata": {
    "collapsed": false
   }
  },
  {
   "cell_type": "markdown",
   "source": [
    "### Movie Metadata\n",
    "\n",
    "Explanations..."
   ],
   "metadata": {
    "collapsed": false
   }
  },
  {
   "cell_type": "code",
   "execution_count": 6,
   "outputs": [
    {
     "data": {
      "text/plain": "        wiki_ID freebase_ID  \\\n0        975900   /m/03vyhn   \n1       3196793   /m/08yl5d   \n2      28463795  /m/0crgdbh   \n3       9363483  /m/0285_cd   \n4        261236   /m/01mrr1   \n...         ...         ...   \n81736  35228177  /m/0j7hxnt   \n81737  34980460  /m/0g4pl34   \n81738   9971909  /m/02pygw1   \n81739    913762   /m/03pcrp   \n81740  12476867  /m/02w7zz8   \n\n                                                    name release_date  \\\n0                                         Ghosts of Mars   2001-08-24   \n1      Getting Away with Murder: The JonBenét Ramsey ...   2000-02-16   \n2                                            Brun bitter         1988   \n3                                       White Of The Eye         1987   \n4                                      A Woman in Flames         1983   \n...                                                  ...          ...   \n81736                           Mermaids: The Body Found   2011-03-19   \n81737                                            Knuckle   2011-01-21   \n81738                                  Another Nice Mess   1972-09-22   \n81739  The Super Dimension Fortress Macross II: Lover...   1992-05-21   \n81740                                            Spliced         2002   \n\n       box_office_revenue  runtime                           languages  \\\n0              14010832.0     98.0  {\"/m/02h40lc\": \"English Language\"}   \n1                     NaN     95.0  {\"/m/02h40lc\": \"English Language\"}   \n2                     NaN     83.0  {\"/m/05f_3\": \"Norwegian Language\"}   \n3                     NaN    110.0  {\"/m/02h40lc\": \"English Language\"}   \n4                     NaN    106.0   {\"/m/04306rv\": \"German Language\"}   \n...                   ...      ...                                 ...   \n81736                 NaN    120.0  {\"/m/02h40lc\": \"English Language\"}   \n81737                 NaN     96.0  {\"/m/02h40lc\": \"English Language\"}   \n81738                 NaN     66.0  {\"/m/02h40lc\": \"English Language\"}   \n81739                 NaN    150.0   {\"/m/03_9r\": \"Japanese Language\"}   \n81740                 NaN     86.0  {\"/m/02h40lc\": \"English Language\"}   \n\n                                               countries  \\\n0              {\"/m/09c7w0\": \"United States of America\"}   \n1              {\"/m/09c7w0\": \"United States of America\"}   \n2                                 {\"/m/05b4w\": \"Norway\"}   \n3                         {\"/m/07ssc\": \"United Kingdom\"}   \n4                                {\"/m/0345h\": \"Germany\"}   \n...                                                  ...   \n81736          {\"/m/09c7w0\": \"United States of America\"}   \n81737  {\"/m/03rt9\": \"Ireland\", \"/m/07ssc\": \"United Ki...   \n81738          {\"/m/09c7w0\": \"United States of America\"}   \n81739                              {\"/m/03_3d\": \"Japan\"}   \n81740                            {\"/m/0d060g\": \"Canada\"}   \n\n                                                  genres  \n0      {\"/m/01jfsb\": \"Thriller\", \"/m/06n90\": \"Science...  \n1      {\"/m/02n4kr\": \"Mystery\", \"/m/03bxz7\": \"Biograp...  \n2      {\"/m/0lsxr\": \"Crime Fiction\", \"/m/07s9rl0\": \"D...  \n3      {\"/m/01jfsb\": \"Thriller\", \"/m/0glj9q\": \"Erotic...  \n4                                {\"/m/07s9rl0\": \"Drama\"}  \n...                                                  ...  \n81736                            {\"/m/07s9rl0\": \"Drama\"}  \n81737  {\"/m/03bxz7\": \"Biographical film\", \"/m/07s9rl0...  \n81738       {\"/m/06nbt\": \"Satire\", \"/m/01z4y\": \"Comedy\"}  \n81739  {\"/m/06n90\": \"Science Fiction\", \"/m/0gw5n2f\": ...  \n81740  {\"/m/01jfsb\": \"Thriller\", \"/m/03npn\": \"Horror\"...  \n\n[81741 rows x 9 columns]",
      "text/html": "<div>\n<style scoped>\n    .dataframe tbody tr th:only-of-type {\n        vertical-align: middle;\n    }\n\n    .dataframe tbody tr th {\n        vertical-align: top;\n    }\n\n    .dataframe thead th {\n        text-align: right;\n    }\n</style>\n<table border=\"1\" class=\"dataframe\">\n  <thead>\n    <tr style=\"text-align: right;\">\n      <th></th>\n      <th>wiki_ID</th>\n      <th>freebase_ID</th>\n      <th>name</th>\n      <th>release_date</th>\n      <th>box_office_revenue</th>\n      <th>runtime</th>\n      <th>languages</th>\n      <th>countries</th>\n      <th>genres</th>\n    </tr>\n  </thead>\n  <tbody>\n    <tr>\n      <th>0</th>\n      <td>975900</td>\n      <td>/m/03vyhn</td>\n      <td>Ghosts of Mars</td>\n      <td>2001-08-24</td>\n      <td>14010832.0</td>\n      <td>98.0</td>\n      <td>{\"/m/02h40lc\": \"English Language\"}</td>\n      <td>{\"/m/09c7w0\": \"United States of America\"}</td>\n      <td>{\"/m/01jfsb\": \"Thriller\", \"/m/06n90\": \"Science...</td>\n    </tr>\n    <tr>\n      <th>1</th>\n      <td>3196793</td>\n      <td>/m/08yl5d</td>\n      <td>Getting Away with Murder: The JonBenét Ramsey ...</td>\n      <td>2000-02-16</td>\n      <td>NaN</td>\n      <td>95.0</td>\n      <td>{\"/m/02h40lc\": \"English Language\"}</td>\n      <td>{\"/m/09c7w0\": \"United States of America\"}</td>\n      <td>{\"/m/02n4kr\": \"Mystery\", \"/m/03bxz7\": \"Biograp...</td>\n    </tr>\n    <tr>\n      <th>2</th>\n      <td>28463795</td>\n      <td>/m/0crgdbh</td>\n      <td>Brun bitter</td>\n      <td>1988</td>\n      <td>NaN</td>\n      <td>83.0</td>\n      <td>{\"/m/05f_3\": \"Norwegian Language\"}</td>\n      <td>{\"/m/05b4w\": \"Norway\"}</td>\n      <td>{\"/m/0lsxr\": \"Crime Fiction\", \"/m/07s9rl0\": \"D...</td>\n    </tr>\n    <tr>\n      <th>3</th>\n      <td>9363483</td>\n      <td>/m/0285_cd</td>\n      <td>White Of The Eye</td>\n      <td>1987</td>\n      <td>NaN</td>\n      <td>110.0</td>\n      <td>{\"/m/02h40lc\": \"English Language\"}</td>\n      <td>{\"/m/07ssc\": \"United Kingdom\"}</td>\n      <td>{\"/m/01jfsb\": \"Thriller\", \"/m/0glj9q\": \"Erotic...</td>\n    </tr>\n    <tr>\n      <th>4</th>\n      <td>261236</td>\n      <td>/m/01mrr1</td>\n      <td>A Woman in Flames</td>\n      <td>1983</td>\n      <td>NaN</td>\n      <td>106.0</td>\n      <td>{\"/m/04306rv\": \"German Language\"}</td>\n      <td>{\"/m/0345h\": \"Germany\"}</td>\n      <td>{\"/m/07s9rl0\": \"Drama\"}</td>\n    </tr>\n    <tr>\n      <th>...</th>\n      <td>...</td>\n      <td>...</td>\n      <td>...</td>\n      <td>...</td>\n      <td>...</td>\n      <td>...</td>\n      <td>...</td>\n      <td>...</td>\n      <td>...</td>\n    </tr>\n    <tr>\n      <th>81736</th>\n      <td>35228177</td>\n      <td>/m/0j7hxnt</td>\n      <td>Mermaids: The Body Found</td>\n      <td>2011-03-19</td>\n      <td>NaN</td>\n      <td>120.0</td>\n      <td>{\"/m/02h40lc\": \"English Language\"}</td>\n      <td>{\"/m/09c7w0\": \"United States of America\"}</td>\n      <td>{\"/m/07s9rl0\": \"Drama\"}</td>\n    </tr>\n    <tr>\n      <th>81737</th>\n      <td>34980460</td>\n      <td>/m/0g4pl34</td>\n      <td>Knuckle</td>\n      <td>2011-01-21</td>\n      <td>NaN</td>\n      <td>96.0</td>\n      <td>{\"/m/02h40lc\": \"English Language\"}</td>\n      <td>{\"/m/03rt9\": \"Ireland\", \"/m/07ssc\": \"United Ki...</td>\n      <td>{\"/m/03bxz7\": \"Biographical film\", \"/m/07s9rl0...</td>\n    </tr>\n    <tr>\n      <th>81738</th>\n      <td>9971909</td>\n      <td>/m/02pygw1</td>\n      <td>Another Nice Mess</td>\n      <td>1972-09-22</td>\n      <td>NaN</td>\n      <td>66.0</td>\n      <td>{\"/m/02h40lc\": \"English Language\"}</td>\n      <td>{\"/m/09c7w0\": \"United States of America\"}</td>\n      <td>{\"/m/06nbt\": \"Satire\", \"/m/01z4y\": \"Comedy\"}</td>\n    </tr>\n    <tr>\n      <th>81739</th>\n      <td>913762</td>\n      <td>/m/03pcrp</td>\n      <td>The Super Dimension Fortress Macross II: Lover...</td>\n      <td>1992-05-21</td>\n      <td>NaN</td>\n      <td>150.0</td>\n      <td>{\"/m/03_9r\": \"Japanese Language\"}</td>\n      <td>{\"/m/03_3d\": \"Japan\"}</td>\n      <td>{\"/m/06n90\": \"Science Fiction\", \"/m/0gw5n2f\": ...</td>\n    </tr>\n    <tr>\n      <th>81740</th>\n      <td>12476867</td>\n      <td>/m/02w7zz8</td>\n      <td>Spliced</td>\n      <td>2002</td>\n      <td>NaN</td>\n      <td>86.0</td>\n      <td>{\"/m/02h40lc\": \"English Language\"}</td>\n      <td>{\"/m/0d060g\": \"Canada\"}</td>\n      <td>{\"/m/01jfsb\": \"Thriller\", \"/m/03npn\": \"Horror\"...</td>\n    </tr>\n  </tbody>\n</table>\n<p>81741 rows × 9 columns</p>\n</div>"
     },
     "metadata": {},
     "output_type": "display_data"
    }
   ],
   "source": [
    "display(movie)"
   ],
   "metadata": {
    "collapsed": false,
    "ExecuteTime": {
     "end_time": "2023-11-09T13:31:02.605371418Z",
     "start_time": "2023-11-09T13:31:02.556939578Z"
    }
   }
  },
  {
   "cell_type": "markdown",
   "source": [
    "## Simple Data Insight\n",
    "\n",
    "Let's try to get some insight of the data provide by the course. We focus here to describe some statistical description of some attributes, but also to explain which attributes might be interesting for our final project."
   ],
   "metadata": {
    "collapsed": false
   }
  },
  {
   "cell_type": "markdown",
   "source": [
    "### Character Metadata\n",
    "\n",
    "Let's begin with the Character data set."
   ],
   "metadata": {
    "collapsed": false
   }
  },
  {
   "cell_type": "code",
   "execution_count": 6,
   "outputs": [
    {
     "data": {
      "text/plain": "       movie_wiki_ID   actor_height  actor_age_movie_release\ncount   4.506690e+05  154824.000000            292556.000000\nmean    1.396975e+07       1.788893                37.788523\nstd     1.079662e+07       4.379940                20.587870\nmin     3.300000e+02       0.610000             -7896.000000\n25%     3.759292e+06       1.676400                28.000000\n50%     1.189065e+07       1.750000                36.000000\n75%     2.366501e+07       1.830000                47.000000\nmax     3.750192e+07     510.000000               103.000000",
      "text/html": "<div>\n<style scoped>\n    .dataframe tbody tr th:only-of-type {\n        vertical-align: middle;\n    }\n\n    .dataframe tbody tr th {\n        vertical-align: top;\n    }\n\n    .dataframe thead th {\n        text-align: right;\n    }\n</style>\n<table border=\"1\" class=\"dataframe\">\n  <thead>\n    <tr style=\"text-align: right;\">\n      <th></th>\n      <th>movie_wiki_ID</th>\n      <th>actor_height</th>\n      <th>actor_age_movie_release</th>\n    </tr>\n  </thead>\n  <tbody>\n    <tr>\n      <th>count</th>\n      <td>4.506690e+05</td>\n      <td>154824.000000</td>\n      <td>292556.000000</td>\n    </tr>\n    <tr>\n      <th>mean</th>\n      <td>1.396975e+07</td>\n      <td>1.788893</td>\n      <td>37.788523</td>\n    </tr>\n    <tr>\n      <th>std</th>\n      <td>1.079662e+07</td>\n      <td>4.379940</td>\n      <td>20.587870</td>\n    </tr>\n    <tr>\n      <th>min</th>\n      <td>3.300000e+02</td>\n      <td>0.610000</td>\n      <td>-7896.000000</td>\n    </tr>\n    <tr>\n      <th>25%</th>\n      <td>3.759292e+06</td>\n      <td>1.676400</td>\n      <td>28.000000</td>\n    </tr>\n    <tr>\n      <th>50%</th>\n      <td>1.189065e+07</td>\n      <td>1.750000</td>\n      <td>36.000000</td>\n    </tr>\n    <tr>\n      <th>75%</th>\n      <td>2.366501e+07</td>\n      <td>1.830000</td>\n      <td>47.000000</td>\n    </tr>\n    <tr>\n      <th>max</th>\n      <td>3.750192e+07</td>\n      <td>510.000000</td>\n      <td>103.000000</td>\n    </tr>\n  </tbody>\n</table>\n</div>"
     },
     "execution_count": 6,
     "metadata": {},
     "output_type": "execute_result"
    }
   ],
   "source": [
    "character.describe()"
   ],
   "metadata": {
    "collapsed": false,
    "ExecuteTime": {
     "end_time": "2023-11-08T14:49:48.929947Z",
     "start_time": "2023-11-08T14:49:48.793670Z"
    }
   }
  },
  {
   "cell_type": "markdown",
   "source": [
    "### Movie Metadata\n",
    "\n",
    "What about the Movie data set."
   ],
   "metadata": {
    "collapsed": false
   }
  },
  {
   "cell_type": "code",
   "execution_count": 7,
   "outputs": [
    {
     "data": {
      "text/plain": "            wiki_ID  box_office_revenue       runtime\ncount  8.174100e+04        8.401000e+03  6.129100e+04\nmean   1.740784e+07        4.799363e+07  1.118192e+02\nstd    1.098791e+07        1.121753e+08  4.360070e+03\nmin    3.300000e+02        1.000000e+04  0.000000e+00\n25%    7.323695e+06        2.083193e+06  8.100000e+01\n50%    1.777899e+07        1.063969e+07  9.300000e+01\n75%    2.715573e+07        4.071696e+07  1.060000e+02\nmax    3.750192e+07        2.782275e+09  1.079281e+06",
      "text/html": "<div>\n<style scoped>\n    .dataframe tbody tr th:only-of-type {\n        vertical-align: middle;\n    }\n\n    .dataframe tbody tr th {\n        vertical-align: top;\n    }\n\n    .dataframe thead th {\n        text-align: right;\n    }\n</style>\n<table border=\"1\" class=\"dataframe\">\n  <thead>\n    <tr style=\"text-align: right;\">\n      <th></th>\n      <th>wiki_ID</th>\n      <th>box_office_revenue</th>\n      <th>runtime</th>\n    </tr>\n  </thead>\n  <tbody>\n    <tr>\n      <th>count</th>\n      <td>8.174100e+04</td>\n      <td>8.401000e+03</td>\n      <td>6.129100e+04</td>\n    </tr>\n    <tr>\n      <th>mean</th>\n      <td>1.740784e+07</td>\n      <td>4.799363e+07</td>\n      <td>1.118192e+02</td>\n    </tr>\n    <tr>\n      <th>std</th>\n      <td>1.098791e+07</td>\n      <td>1.121753e+08</td>\n      <td>4.360070e+03</td>\n    </tr>\n    <tr>\n      <th>min</th>\n      <td>3.300000e+02</td>\n      <td>1.000000e+04</td>\n      <td>0.000000e+00</td>\n    </tr>\n    <tr>\n      <th>25%</th>\n      <td>7.323695e+06</td>\n      <td>2.083193e+06</td>\n      <td>8.100000e+01</td>\n    </tr>\n    <tr>\n      <th>50%</th>\n      <td>1.777899e+07</td>\n      <td>1.063969e+07</td>\n      <td>9.300000e+01</td>\n    </tr>\n    <tr>\n      <th>75%</th>\n      <td>2.715573e+07</td>\n      <td>4.071696e+07</td>\n      <td>1.060000e+02</td>\n    </tr>\n    <tr>\n      <th>max</th>\n      <td>3.750192e+07</td>\n      <td>2.782275e+09</td>\n      <td>1.079281e+06</td>\n    </tr>\n  </tbody>\n</table>\n</div>"
     },
     "execution_count": 7,
     "metadata": {},
     "output_type": "execute_result"
    }
   ],
   "source": [
    "movie.describe()"
   ],
   "metadata": {
    "collapsed": false,
    "ExecuteTime": {
     "end_time": "2023-11-08T14:49:48.930884Z",
     "start_time": "2023-11-08T14:49:48.872152Z"
    }
   }
  },
  {
   "cell_type": "markdown",
   "source": [
    "## Additional Data Set\n",
    "\n",
    "Let's enrich our dataset with an additional one downloaded [here (LINK NOT PROVIDED YET)](https://google.com).\n",
    "\n",
    "Here we should also provide some statistical inisght of this new dataset to be sure that it is interesting for us to work with this one."
   ],
   "metadata": {
    "collapsed": false
   }
  },
  {
   "cell_type": "code",
   "execution_count": 8,
   "outputs": [],
   "source": [
    "pass"
   ],
   "metadata": {
    "collapsed": false,
    "ExecuteTime": {
     "end_time": "2023-11-08T14:49:48.931058Z",
     "start_time": "2023-11-08T14:49:48.900508Z"
    }
   }
  },
  {
   "cell_type": "markdown",
   "source": [
    "## Joining Data Sets\n",
    "\n",
    "Explain how we are going to join the datasets to have a meaningful big dataset to achieve our goal."
   ],
   "metadata": {
    "collapsed": false
   }
  },
  {
   "cell_type": "code",
   "execution_count": 9,
   "outputs": [],
   "source": [
    "pass"
   ],
   "metadata": {
    "collapsed": false,
    "ExecuteTime": {
     "end_time": "2023-11-08T14:49:48.931309Z",
     "start_time": "2023-11-08T14:49:48.906103Z"
    }
   }
  },
  {
   "cell_type": "markdown",
   "source": [
    "## Results Expected\n",
    "\n",
    "Let's try to explain what are the main plots we want to bring to our readers. Do we have in mind also to have a interactive plot, and so on ?"
   ],
   "metadata": {
    "collapsed": false
   }
  },
  {
   "cell_type": "code",
   "execution_count": 10,
   "outputs": [],
   "source": [
    "# Might be interesting to try to produce the graph in a easy and not carefully way.\n",
    "pass"
   ],
   "metadata": {
    "collapsed": false,
    "ExecuteTime": {
     "end_time": "2023-11-08T14:49:48.931413Z",
     "start_time": "2023-11-08T14:49:48.909555Z"
    }
   }
  },
  {
   "cell_type": "code",
   "execution_count": 15,
   "outputs": [
    {
     "data": {
      "text/plain": "<Movie id:0133093[http] title:_The Matrix (1999)_>"
     },
     "execution_count": 15,
     "metadata": {},
     "output_type": "execute_result"
    }
   ],
   "source": [
    "import imdb\n",
    "ia = imdb.Cinemagoer()\n",
    "\n",
    "movies = ia.search_movie('matrix')\n",
    "\n"
   ],
   "metadata": {
    "collapsed": false,
    "ExecuteTime": {
     "end_time": "2023-11-09T15:59:55.261433391Z",
     "start_time": "2023-11-09T15:59:50.322131169Z"
    }
   }
  },
  {
   "cell_type": "code",
   "execution_count": 21,
   "outputs": [
    {
     "data": {
      "text/plain": "<Movie id:5013056[http] title:_Dunkirk (2017)_>"
     },
     "execution_count": 21,
     "metadata": {},
     "output_type": "execute_result"
    }
   ],
   "source": [
    "movie = ia.get_movie('5013056')\n",
    "movie"
   ],
   "metadata": {
    "collapsed": false,
    "ExecuteTime": {
     "end_time": "2023-11-09T16:10:58.907823037Z",
     "start_time": "2023-11-09T16:10:55.243041277Z"
    }
   }
  },
  {
   "cell_type": "code",
   "execution_count": 30,
   "outputs": [
    {
     "data": {
      "text/plain": "{'data': {'cast': [<Person id:7887725[http] name:_Fionn Whitehead_>,\n   <Person id:4044784[http] name:_Damien Bonnard_>,\n   <Person id:2902567[http] name:_Aneurin Barnard_>,\n   <Person id:5218471[http] name:_Lee Armstrong_>,\n   <Person id:5914751[http] name:_James Bloor_>,\n   <Person id:4422686[http] name:_Barry Keoghan_>,\n   <Person id:0753314[http] name:_Mark Rylance_>,\n   <Person id:6077951[http] name:_Tom Glynn-Carney_>,\n   <Person id:0362766[http] name:_Tom Hardy_>,\n   <Person id:4110963[http] name:_Jack Lowden_>,\n   <Person id:3451086[http] name:_Luke Thompson_>,\n   <Person id:7754761[http] name:_Michel Biel_>,\n   <Person id:4633460[http] name:_Constantin Balsan_>,\n   <Person id:6247071[http] name:_Billy Howle_>,\n   <Person id:6682520[http] name:_Mikey Collins_>,\n   <Person id:8546558[http] name:_Callum Blake_>,\n   <Person id:7635424[http] name:_Dean Ridge_>,\n   <Person id:1225475[http] name:_Bobby Lockwood_>,\n   <Person id:2139979[http] name:_Will Attenborough_>,\n   <Person id:0000110[http] name:_Kenneth Branagh_>,\n   <Person id:9379847[http] name:_Tom Nolan_>,\n   <Person id:0195439[http] name:_James D'Arcy_>,\n   <Person id:0550624[http] name:_Matthew Marsh_>,\n   <Person id:0614165[http] name:_Cillian Murphy_>,\n   <Person id:3072420[http] name:_Adam Long_>,\n   <Person id:4089170[http] name:_Harry Styles_>,\n   <Person id:3886541[http] name:_Miranda Nolan_>,\n   <Person id:1174623[http] name:_Bradley Hall_>,\n   <Person id:6340808[http] name:_Jack Cutmore-Scott_>,\n   <Person id:4638077[http] name:_Brett Lorenzini_>,\n   <Person id:5320024[http] name:_Michael Fox_>,\n   <Person id:4451290[http] name:_Brian Vernel_>,\n   <Person id:1541685[http] name:_Elliott Tittensor_>,\n   <Person id:2295590[http] name:_Kevin Guthrie_>,\n   <Person id:2076758[http] name:_Harry Richardson_>,\n   <Person id:1514445[http] name:_Jochum ten Haaf_>,\n   <Person id:6000937[http] name:_Johnny Gibbon_>,\n   <Person id:3664250[http] name:_Richard Sanderson_>,\n   <Person id:0366983[http] name:_Kim Hartman_>,\n   <Person id:8208516[http] name:_Calam Lynch_>,\n   <Person id:5065265[http] name:_Charley Palmer Rothwell_>,\n   <Person id:6067087[http] name:_Tom Gill_>,\n   <Person id:0634297[http] name:_John Nolan_>,\n   <Person id:2389463[http] name:_Bill Milner_>,\n   <Person id:5735256[http] name:_Jack Riddiford_>,\n   <Person id:6708646[http] name:_Harry Collett_>,\n   <Person id:0723793[http] name:_Eric Richard_>,\n   <Person id:1832074[http] name:_Glyn Angell_>,\n   <Person id:7351526[http] name:_Sam Aronow_>,\n   <Person id:6983738[http] name:_Simon Ates_>,\n   <Person id:6498873[http] name:_Caleb Bailey_>,\n   <Person id:5544023[http] name:_Sander Blom_>,\n   <Person id:0000323[http] name:_Michael Caine_>,\n   <Person id:8862131[http] name:_Hugo-Vincent Couturier_>,\n   <Person id:3814655[http] name:_Sam Dacombe_>,\n   <Person id:11687355[http] name:_Ross Donnelly_>,\n   <Person id:9042988[http] name:_Dennis Eleveld_>,\n   <Person id:0809538[http] name:_Paul Riley Fox_>,\n   <Person id:6147904[http] name:_Jack Gover_>,\n   <Person id:2625558[http] name:_Austin Head_>,\n   <Person id:7200222[http] name:_Benjamin Hodder_>,\n   <Person id:6006842[http] name:_Drew Neal Horton_>,\n   <Person id:8616708[http] name:_Nick Howden-Steenstra_>,\n   <Person id:8427461[http] name:_Sander Huisman_>,\n   <Person id:8280585[http] name:_Christian Janner_>,\n   <Person id:5367048[http] name:_Jedediah Jenk_>,\n   <Person id:8808944[http] name:_Davey Jones_>,\n   <Person id:10071447[http] name:_Robin Lee_>,\n   <Person id:9046360[http] name:_Han Leopold_>,\n   <Person id:9379472[http] name:_Samuel Louwagie_>,\n   <Person id:4074525[http] name:_Valiant Michael_>,\n   <Person id:8201661[http] name:_Thomas Millet_>,\n   <Person id:9351143[http] name:_Conor O'Dowda_>,\n   <Person id:1720532[http] name:_Johnny Otto_>,\n   <Person id:8344205[http] name:_Robby Prinsen_>,\n   <Person id:1807993[http] name:_Christian Roberts_>,\n   <Person id:7323402[http] name:_Jan-Michael Rosner_>,\n   <Person id:5120121[http] name:_Connor Ryan_>,\n   <Person id:9161538[http] name:_Reinier Tetteroo_>,\n   <Person id:9379467[http] name:_Pierre Valle_>,\n   <Person id:6391889[http] name:_Michiel van Ieperen_>,\n   <Person id:8649765[http] name:_Bram Vlot_>,\n   <Person id:6592699[http] name:_Nick Vorsselman_>,\n   <Person id:6062133[http] name:_Merlijn Willemsen_>,\n   <Person id:7359346[http] name:_Nirman Wolf_>],\n  'director': [<Person id:0634240[http] name:_Christopher Nolan_>],\n  'writer': [<Person id:0634240[http] name:_Christopher Nolan_>],\n  'producer': [<Person id:0076275[http] name:_John Bernard_>,\n   <Person id:0324200[http] name:_Erwin Godschalk_>,\n   <Person id:0616735[http] name:_Jake Myers_>,\n   <Person id:0634240[http] name:_Christopher Nolan_>,\n   <Person id:4100983[http] name:_Maarten Swart_>,\n   <Person id:0858799[http] name:_Emma Thomas_>,\n   <Person id:3379670[http] name:_Andy Thompson_>],\n  'composer': [<Person id:0001877[http] name:_Hans Zimmer_>],\n  'cinematographer': [<Person id:0887227[http] name:_Hoyte Van Hoytema_>],\n  'editor': [<Person id:0809059[http] name:_Lee Smith_>],\n  'casting director': [<Person id:0660667[http] name:_John Papsidera_>,\n   <Person id:0923452[http] name:_Toby Whale_>],\n  'production design': [<Person id:0189769[http] name:_Nathan Crowley_>],\n  'art direction': [<Person id:1087647[http] name:_Toby Britton_>,\n   <Person id:1049859[http] name:_Oliver Goodier_>,\n   <Person id:0411131[http] name:_Kevin Ishioka_>,\n   <Person id:0450528[http] name:_Eggert Ketilsson_>,\n   <Person id:0637432[http] name:_Benjamin Nowicki_>,\n   <Person id:3291532[http] name:_Erik Osusky_>],\n  'set decoration': [<Person id:1663022[http] name:_Emmanuel Delis_>,\n   <Person id:5327012[http] name:_Agnes Demaegot_>,\n   <Person id:3369300[http] name:_Fathi El Aihar_>,\n   <Person id:0275361[http] name:_Gary Fettis_>],\n  'costume designer': [<Person id:0475794[http] name:_Jeffrey Kurland_>],\n  'make up': [<Person id:0008468[http] name:_Luisa Abel_>,\n   <Person id:0028707[http] name:_Joceline Andrews_>,\n   <Person id:2294224[http] name:_Sam Bear_>,\n   <Person id:0080388[http] name:_Jacqueline Bhavnani_>,\n   <Person id:1681123[http] name:_Anita Brolly_>,\n   <Person id:1928126[http] name:_Jess Brooks_>,\n   <Person id:1706081[http] name:_Nicola Buck_>,\n   <Person id:0142337[http] name:_Renee Caruso-Napolitano_>,\n   <Person id:0143049[http] name:_José-Luis Casas_>,\n   <Person id:2563332[http] name:_Igor Chometowski_>,\n   <Person id:1226541[http] name:_Rebecca Cole_>,\n   <Person id:0184082[http] name:_Carolyn Cousins_>,\n   <Person id:4117055[http] name:_Lauren Katie Cox_>,\n   <Person id:5719423[http] name:_Rose Crocker_>,\n   <Person id:2802991[http] name:_Cheryl Daniels_>,\n   <Person id:0214912[http] name:_Patricia Dehaney_>,\n   <Person id:2989226[http] name:_Samantha Denyer_>,\n   <Person id:0243038[http] name:_Peta Dunstall_>,\n   <Person id:1715948[http] name:_Hannah Eccleston_>,\n   <Person id:0271327[http] name:_Kimberly Felix_>,\n   <Person id:0288568[http] name:_Odile Fourquin_>,\n   <Person id:0298193[http] name:_Charmaine Fuller_>,\n   <Person id:9760834[http] name:_Clémence Gaag_>,\n   <Person id:1283141[http] name:_Sylvie Greco_>,\n   <Person id:1232749[http] name:_Joe Hopker_>,\n   <Person id:0417112[http] name:_Dianne Jamieson_>,\n   <Person id:0419041[http] name:_Deborah Jarvis_>,\n   <Person id:1272163[http] name:_Julie Kendrick_>,\n   <Person id:0501124[http] name:_Ailbhe Lemass_>,\n   <Person id:10126470[http] name:_Michael Lumsden_>,\n   <Person id:0537579[http] name:_Corinne Maillard_>,\n   <Person id:0570668[http] name:_Laura McIntosh_>,\n   <Person id:1697897[http] name:_Lois McIntosh_>,\n   <Person id:1831804[http] name:_Cheryl Mitchell_>,\n   <Person id:1471298[http] name:_Laura Morse_>,\n   <Person id:1067936[http] name:_Kay Philips_>,\n   <Person id:2828205[http] name:_Laura Pollock_>,\n   <Person id:1485366[http] name:_Charlotte Rogers_>,\n   <Person id:0758763[http] name:_Debbi Salmon_>,\n   <Person id:0779106[http] name:_Emma Scott_>,\n   <Person id:5224761[http] name:_Elodie Taquet_>,\n   <Person id:2051997[http] name:_Aude Thomas_>,\n   <Person id:0887278[http] name:_Juliette Tomes_>,\n   <Person id:0919455[http] name:_Jay Wejebe_>,\n   <Person id:0026600[http] name:_David LeRoy Anderson_>,\n   <Person id:0032119[http] name:_Allan A. Apone_>,\n   <Person id:0099691[http] name:_Pascale Bouquière_>,\n   <Person id:3604161[http] name:_Charley Collier_>,\n   <Person id:0282466[http] name:_Bernard Floch_>,\n   <Person id:0969268[http] name:_Pascale Guégan_>,\n   <Person id:0446591[http] name:_Laurel Kelly_>,\n   <Person id:6110061[http] name:_Lola Maillard_>,\n   <Person id:1981119[http] name:_Melanie Queyrel Carreno_>,\n   <Person id:2539879[http] name:_Fabie Roger-Clech_>],\n  'production manager': [<Person id:6857061[http] name:_Denis Amblat_>,\n   <Person id:0110556[http] name:_Chris Brock_>,\n   <Person id:2257360[http] name:_Daniel-Konrad Cooper_>,\n   <Person id:0004391[http] name:_Chris Dowell_>,\n   <Person id:5103479[http] name:_Ben Firminger_>,\n   <Person id:7686053[http] name:_Bastien Larue_>,\n   <Person id:8209148[http] name:_Matthieu Le Caisne_>,\n   <Person id:2261284[http] name:_Jason Pomerantz_>,\n   <Person id:0711477[http] name:_Christine Raspillère_>,\n   <Person id:0742357[http] name:_Page Rosenberg-Marvin_>,\n   <Person id:0778667[http] name:_Mark Scoon_>,\n   <Person id:0879619[http] name:_Nicky Tüske_>,\n   <Person id:0937153[http] name:_David Witz_>,\n   <Person id:4721227[http] name:_Gary Bunn_>],\n  'assistant director': [<Person id:3369474[http] name:_Cora Aarnoutse_>,\n   <Person id:1724894[http] name:_Jean-Luc Baillet_>,\n   <Person id:1951819[http] name:_Nicolas Baldino_>,\n   <Person id:3589670[http] name:_Lola Berteloot_>,\n   <Person id:8814812[http] name:_Cécile Bordes_>,\n   <Person id:8117853[http] name:_Florian Cabaret_>,\n   <Person id:7397269[http] name:_Amaury Capel_>,\n   <Person id:3620348[http] name:_Alexis Chelli_>,\n   <Person id:2260014[http] name:_Clément Comet_>,\n   <Person id:4655988[http] name:_Frederic Dagmey_>,\n   <Person id:12258257[http] name:_Thomas Dahirel_>,\n   <Person id:5592352[http] name:_Nicolas de Lumbée_>,\n   <Person id:0275384[http] name:_Melissa Feuchtinger_>,\n   <Person id:3633521[http] name:_Alina Gatti_>,\n   <Person id:1355202[http] name:_Andrea Hachuel_>,\n   <Person id:1972907[http] name:_Matt Haggerty_>,\n   <Person id:6609762[http] name:_Kelly-Joanne Jenkins_>,\n   <Person id:4573401[http] name:_Paul Jolliot_>,\n   <Person id:1052790[http] name:_Eric Richard Lasko_>,\n   <Person id:3672390[http] name:_Manjari Makijany_>,\n   <Person id:0549261[http] name:_Candy Marlowe_>,\n   <Person id:0652826[http] name:_Nilo Otero_>,\n   <Person id:4682428[http] name:_Elsa Payen_>,\n   <Person id:3890207[http] name:_Michael Pontvert_>,\n   <Person id:0004019[http] name:_William Pruss_>,\n   <Person id:1137763[http] name:_Willem Quarles van Ufford_>,\n   <Person id:5150042[http] name:_Marie-Alix Royer_>,\n   <Person id:5317260[http] name:_Jesse Schouw_>,\n   <Person id:2128697[http] name:_Toby Spanton_>,\n   <Person id:4473647[http] name:_Nicolas Turek_>,\n   <Person id:2779367[http] name:_Tony van der Veer_>,\n   <Person id:6459014[http] name:_Bruce Isler_>,\n   <Person id:8395794[http] name:_Camille Patrice_>],\n  'art department': [<Person id:5874540[http] name:_Chris Anstey_>,\n   <Person id:2654449[http] name:_Stéphanie Arnaud_>,\n   <Person id:4771217[http] name:_Ewen Aubert_>,\n   <Person id:8581476[http] name:_Lucia Babinska_>,\n   <Person id:9342834[http] name:_Juliette Bailly-Gourevitch_>,\n   <Person id:0067712[http] name:_Guy Belegaud_>,\n   <Person id:1635540[http] name:_Richard Bennett_>,\n   <Person id:1187498[http] name:_Jérôme Billa_>,\n   <Person id:2747798[http] name:_Andrew Birdzell_>,\n   <Person id:7934366[http] name:_Simon Blanjoie_>,\n   <Person id:4060524[http] name:_Eric Boumier_>,\n   <Person id:0100328[http] name:_Martin Boutilié_>,\n   <Person id:1132009[http] name:_Tom Callinicos_>,\n   <Person id:4706024[http] name:_Mathias Canard_>,\n   <Person id:8162855[http] name:_Gonnot Greene Charlotte_>,\n   <Person id:2520838[http] name:_Loïc Chavanon_>,\n   <Person id:0183536[http] name:_Niamh Coulter_>,\n   <Person id:0184710[http] name:_Noel Cowell_>,\n   <Person id:0187564[http] name:_Stéphane Cressend_>,\n   <Person id:8522048[http] name:_Victor Crippa_>,\n   <Person id:1268120[http] name:_Chris Cull_>,\n   <Person id:6732971[http] name:_Anne-Charlotte Dagnaud_>,\n   <Person id:7204343[http] name:_Denise Deems_>,\n   <Person id:7681983[http] name:_Anaïs Delpech_>,\n   <Person id:1882033[http] name:_Carine Demongueres_>,\n   <Person id:3100321[http] name:_Daniel M. Donato_>,\n   <Person id:3210572[http] name:_Donat Durin_>,\n   <Person id:1212858[http] name:_Ludovic Erbelding_>,\n   <Person id:8763872[http] name:_Tilly Erwan_>,\n   <Person id:5856644[http] name:_Chad Evans_>,\n   <Person id:4715646[http] name:_Jed Evans_>,\n   <Person id:4029938[http] name:_Floris Eysink Smeets_>,\n   <Person id:3281388[http] name:_Pauline Faisant_>,\n   <Person id:7111310[http] name:_Julien Fath_>,\n   <Person id:2156575[http] name:_Sarah Fauguet_>,\n   <Person id:1415558[http] name:_Chris Fix_>,\n   <Person id:8275994[http] name:_Benjamin Fourcy_>,\n   <Person id:0307133[http] name:_Sara Gardner-Gail_>,\n   <Person id:2581141[http] name:_M. Marcos Gonzalez_>,\n   <Person id:2340295[http] name:_Gilles Graziano_>,\n   <Person id:0337314[http] name:_Barry Greaves_>,\n   <Person id:2444723[http] name:_Steph Guerreau_>,\n   <Person id:2420006[http] name:_Yannick Heuveline_>,\n   <Person id:1181437[http] name:_Hannah M. Hinkel_>,\n   <Person id:0398432[http] name:_Luis G. Hoyos_>,\n   <Person id:0425761[http] name:_Martha Johnston_>,\n   <Person id:4441262[http] name:_Thibaut Josserand_>,\n   <Person id:3012715[http] name:_Kez Keyte_>,\n   <Person id:6530757[http] name:_Neal Kirke_>,\n   <Person id:9572074[http] name:_Marijn Koppenaal_>,\n   <Person id:10226098[http] name:_Amelie Kyndt_>,\n   <Person id:0480548[http] name:_David Ladish_>,\n   <Person id:0480549[http] name:_Steven Ladish_>,\n   <Person id:1738918[http] name:_Sophie Lampkin_>,\n   <Person id:0486061[http] name:_Veronique Langdon_>,\n   <Person id:3309449[http] name:_Alice Leconte_>,\n   <Person id:1496617[http] name:_Jenne Lee_>,\n   <Person id:4547660[http] name:_Sander Leemans_>,\n   <Person id:0499760[http] name:_Phillis Lehmer_>,\n   <Person id:6047903[http] name:_Lucas Levon_>,\n   <Person id:2971543[http] name:_Catherine Little_>,\n   <Person id:2291369[http] name:_David Lockyer_>,\n   <Person id:0544938[http] name:_Christophe Maratier_>,\n   <Person id:2598024[http] name:_Régis Marduel_>,\n   <Person id:12342718[http] name:_Navarro Matthias_>,\n   <Person id:1433170[http] name:_Philippe Meynard_>,\n   <Person id:9090647[http] name:_Anne-Sophie Millien_>,\n   <Person id:1973292[http] name:_Samir Moundy_>,\n   <Person id:0615839[http] name:_Greg Musselman_>,\n   <Person id:2842340[http] name:_Muriel Nicolle_>,\n   <Person id:0648573[http] name:_Joe Ondrejko_>,\n   <Person id:0655459[http] name:_David Packard_>,\n   <Person id:5817045[http] name:_Kitty Parkinson_>,\n   <Person id:7828989[http] name:_Edouard Partoes_>,\n   <Person id:0678147[http] name:_Andrew Petrotta_>,\n   <Person id:1236474[http] name:_Christopher Pigott_>,\n   <Person id:1073488[http] name:_Frank Pitussi_>,\n   <Person id:0698856[http] name:_Edward J. Protiva_>,\n   <Person id:10494612[http] name:_Théo Raimbaux_>,\n   <Person id:7084152[http] name:_Jelle Rebry_>,\n   <Person id:3535657[http] name:_Mylene Riccardi_>,\n   <Person id:5926615[http] name:_Amanda Riffo_>,\n   <Person id:1841526[http] name:_Frédéric Rigaud_>,\n   <Person id:0278143[http] name:_Mary Saisselin_>,\n   <Person id:4448355[http] name:_Zackery Slaughter_>,\n   <Person id:0807517[http] name:_Brett C. Smith_>,\n   <Person id:2111599[http] name:_Octavio Tapia_>,\n   <Person id:6188177[http] name:_Fred Taylor_>,\n   <Person id:4545095[http] name:_William Thoms_>,\n   <Person id:4849390[http] name:_Tim Timmington_>,\n   <Person id:1442943[http] name:_Anne Tobin_>,\n   <Person id:9103739[http] name:_Tina Trottin_>,\n   <Person id:6455685[http] name:_Gary Twine_>,\n   <Person id:5273105[http] name:_Robin van Eijk_>,\n   <Person id:2225185[http] name:_Benjamin Vermot_>,\n   <Person id:0931232[http] name:_Marcus Williams_>,\n   <Person id:9915575[http] name:_Delphine Doidy-Caldwell_>,\n   <Person id:5470259[http] name:_Thea Rodgers_>,\n   <Person id:1576171[http] name:_Stígur Steinthórsson_>],\n  'sound crew': [<Person id:1022700[http] name:_Peter Albrechtsen_>,\n   <Person id:0045302[http] name:_David Bach_>,\n   <Person id:0090635[http] name:_Andrew Bock_>,\n   <Person id:0146273[http] name:_Tom Caton_>,\n   <Person id:0173865[http] name:_Lawrence L. Commans_>,\n   <Person id:0193503[http] name:_Scott Curtis_>,\n   <Person id:0237559[http] name:_Michael Dressel_>,\n   <Person id:0267718[http] name:_Russell Farmarco_>,\n   <Person id:0268635[http] name:_John P. Fasal_>,\n   <Person id:0316833[http] name:_Alex Gibson_>,\n   <Person id:0344280[http] name:_Matt Gruber_>,\n   <Person id:3685936[http] name:_Dominic Happé_>,\n   <Person id:3064804[http] name:_Eilam Hoffman_>,\n   <Person id:2148800[http] name:_Gautier Isern_>,\n   <Person id:0425538[http] name:_Ken J. Johnson_>,\n   <Person id:1051779[http] name:_Mark Kenna_>,\n   <Person id:0455185[http] name:_Richard King_>,\n   <Person id:4077615[http] name:_Johnny Kubelka_>,\n   <Person id:3310748[http] name:_Max Lachmann_>,\n   <Person id:0484414[http] name:_Gregg Landaker_>,\n   <Person id:3288873[http] name:_Mats Lundgren_>,\n   <Person id:1529827[http] name:_Bernard Löhr_>,\n   <Person id:0593602[http] name:_Michael W. Mitchell_>,\n   <Person id:0614683[http] name:_Ryan Murphy_>,\n   <Person id:2357043[http] name:_Nick Murray_>,\n   <Person id:0640176[http] name:_Thomas J. O'Connell_>,\n   <Person id:1707290[http] name:_Jason Oliver_>,\n   <Person id:2897212[http] name:_Tony Pilkington_>,\n   <Person id:0693268[http] name:_Eric Potter_>,\n   <Person id:0729886[http] name:_Gary A. Rizzo_>,\n   <Person id:0809950[http] name:_Shelley Roden_>,\n   <Person id:0736430[http] name:_John Roesch_>,\n   <Person id:0814304[http] name:_Unsun Song_>,\n   <Person id:2777148[http] name:_Andy Stallabrass_>,\n   <Person id:1902812[http] name:_Tim Surrey_>,\n   <Person id:4596460[http] name:_Homer Todiwala_>,\n   <Person id:4005207[http] name:_Randy Torres_>,\n   <Person id:0918319[http] name:_Mark Weingarten_>,\n   <Person id:0920949[http] name:_Hugo Weng_>,\n   <Person id:2308333[http] name:_Zach Wrobel_>,\n   <Person id:1022700[http] name:_Peter Albrechtsen_>,\n   <Person id:0193503[http] name:_Scott Curtis_>,\n   <Person id:8683292[http] name:_Jonathan Dakers_>,\n   <Person id:2676257[http] name:_Michael John Fuller_>,\n   <Person id:1527704[http] name:_Al Gregg_>,\n   <Person id:3963094[http] name:_Evan J Haley_>,\n   <Person id:0406252[http] name:_Matthew Iadarola_>,\n   <Person id:7966887[http] name:_Anders Lindahl_>,\n   <Person id:4539836[http] name:_Mikkel Nielsen_>,\n   <Person id:0693268[http] name:_Eric Potter_>,\n   <Person id:0809950[http] name:_Shelley Roden_>,\n   <Person id:0736430[http] name:_John Roesch_>,\n   <Person id:3095094[http] name:_Vincent Zabaly_>],\n  'special effects': [<Person id:1405898[http] name:_Matthew G. Armstrong_>,\n   <Person id:2915243[http] name:_Christophe Ballu_>,\n   <Person id:2257946[http] name:_Warwick Boole_>,\n   <Person id:2614136[http] name:_Karine Branco_>,\n   <Person id:11165714[http] name:_Will Brett_>,\n   <Person id:2645234[http] name:_Frederick Buhagiar_>,\n   <Person id:7754490[http] name:_Guillaume Chevalier_>,\n   <Person id:2378871[http] name:_Chris Corbould_>,\n   <Person id:0179271[http] name:_Ian Corbould_>,\n   <Person id:0179274[http] name:_Paul Corbould_>,\n   <Person id:6267042[http] name:_Sophie Corbould_>,\n   <Person id:2183912[http] name:_Cyril D'Agata_>,\n   <Person id:9006495[http] name:_Christopher A. Dalton_>,\n   <Person id:0236007[http] name:_John J. Downey_>,\n   <Person id:8937434[http] name:_Billy Edwards_>,\n   <Person id:1332920[http] name:_Tony Edwards_>,\n   <Person id:9814428[http] name:_Mark Evans_>,\n   <Person id:0279782[http] name:_Scott R. Fisher_>,\n   <Person id:1806671[http] name:_Neil Garland_>,\n   <Person id:4071977[http] name:_Tom Goodman_>,\n   <Person id:0361796[http] name:_Erik Haraldsted_>,\n   <Person id:0393049[http] name:_Thomas R. Homsher_>,\n   <Person id:0417608[http] name:_Robert Janiger_>,\n   <Person id:8311529[http] name:_Marie Korf_>,\n   <Person id:0500493[http] name:_Jason Leinster_>,\n   <Person id:2763425[http] name:_Matt Lewis_>,\n   <Person id:6818748[http] name:_Stuart Lovelock_>,\n   <Person id:0545153[http] name:_Luke Marcel_>,\n   <Person id:5004281[http] name:_Joe McBride_>,\n   <Person id:1573714[http] name:_Noah Meddings_>,\n   <Person id:10542064[http] name:_Jonathan Oram_>,\n   <Person id:6975813[http] name:_Simon Paraskevas_>,\n   <Person id:0669336[http] name:_Melvyn Pearson_>,\n   <Person id:2598765[http] name:_Charlie Pedersen_>,\n   <Person id:0780166[http] name:_Doug Scroggins III_>,\n   <Person id:2999360[http] name:_Nigel Sinclair_>,\n   <Person id:9434272[http] name:_Jaydan Smith_>,\n   <Person id:4736582[http] name:_Karol Stachowicz_>,\n   <Person id:10368994[http] name:_Adam Stanton_>,\n   <Person id:2115577[http] name:_Marc Tantin_>,\n   <Person id:6657710[http] name:_Gary Thom_>,\n   <Person id:8642289[http] name:_Jolmer Tilstra_>,\n   <Person id:0889135[http] name:_Mario Vanillo_>,\n   <Person id:8447338[http] name:_Vincent Vanillo_>,\n   <Person id:1352208[http] name:_Andrew Verhoeven_>,\n   <Person id:2872897[http] name:_Ben Vokes_>,\n   <Person id:2043445[http] name:_Charles-Axel Vollard_>,\n   <Person id:1392190[http] name:_Paul Waller_>,\n   <Person id:12147381[http] name:_Phillip Wheatley_>,\n   <Person id:2600939[http] name:_Daniel Williams_>,\n   <Person id:0950025[http] name:_Ross Young_>,\n   <Person id:6657710[http] name:_Gary Thom_>],\n  'visual effects': [<Person id:10963203[http] name:_Aditi Agrawal_>,\n   <Person id:8116144[http] name:_Mohite Alankar_>,\n   <Person id:9424783[http] name:_Dale Alexander_>,\n   <Person id:2525239[http] name:_Juan Alonso_>,\n   <Person id:4797693[http] name:_Prem Amrit_>,\n   <Person id:9138998[http] name:_Tobias Grønbeck Andersen_>,\n   <Person id:3107651[http] name:_David Applebee_>,\n   <Person id:0035068[http] name:_Daniel Arkin_>,\n   <Person id:7442276[http] name:_Jolan Auzeby_>,\n   <Person id:7112003[http] name:_Rv Balaji_>,\n   <Person id:7422045[http] name:_Pankaj Bandolia_>,\n   <Person id:11848591[http] name:_Swapnil Baravalia_>,\n   <Person id:2466023[http] name:_Jenny Basen_>,\n   <Person id:5518728[http] name:_Cédric Battude_>,\n   <Person id:6565076[http] name:_Uttham Bhalaykar_>,\n   <Person id:3189592[http] name:_Avinash Bhandary_>,\n   <Person id:0089929[http] name:_Andrew Blustain_>,\n   <Person id:8295380[http] name:_Radhakrishna Bokka_>,\n   <Person id:3870346[http] name:_Matthew Boston_>,\n   <Person id:2391604[http] name:_James Braid_>,\n   <Person id:5506385[http] name:_Laura Brocato_>,\n   <Person id:0111141[http] name:_Shawn Broes_>,\n   <Person id:1762440[http] name:_Goolzar Buchia_>,\n   <Person id:3065477[http] name:_Thomas J. Burton_>,\n   <Person id:3963879[http] name:_Matt Cameron_>,\n   <Person id:3138982[http] name:_Helen Carr_>,\n   <Person id:4949139[http] name:_Brendan Carroll_>,\n   <Person id:4240456[http] name:_Philip Chacko_>,\n   <Person id:0150406[http] name:_Mike Chambers_>,\n   <Person id:4874000[http] name:_Shyamsundar Chandrasekaran_>,\n   <Person id:9984632[http] name:_Priyank Chauhan_>,\n   <Person id:10060851[http] name:_Ishwar Chougule_>,\n   <Person id:9162888[http] name:_Jordi Collet-Texido_>,\n   <Person id:8021233[http] name:_Ben Cowell-Thomas_>,\n   <Person id:5358367[http] name:_Sonia D'Costa_>,\n   <Person id:6193710[http] name:_Will Van Dao_>,\n   <Person id:8177949[http] name:_Kaushik Dasgupta_>,\n   <Person id:4892858[http] name:_Robert John Davies_>,\n   <Person id:5219733[http] name:_Bharat De_>,\n   <Person id:3962824[http] name:_Gianluca Dentici_>,\n   <Person id:2340267[http] name:_Amit Desai_>,\n   <Person id:7491854[http] name:_Gawade Dipti_>,\n   <Person id:9415167[http] name:_Raymond Doetjes_>,\n   <Person id:9141448[http] name:_Sarah Dondey_>,\n   <Person id:2205681[http] name:_Rodrigo Dorsch_>,\n   <Person id:7234335[http] name:_Rosie Draper_>,\n   <Person id:5299349[http] name:_Nelson Dsouza_>,\n   <Person id:3504303[http] name:_Sarah Jane Dunlop_>,\n   <Person id:6024676[http] name:_Shrikant Dusane_>,\n   <Person id:9096944[http] name:_Santosh Dwivedi_>,\n   <Person id:5544113[http] name:_Colin Eade_>,\n   <Person id:1454377[http] name:_Stephen Enticott_>,\n   <Person id:4023540[http] name:_Ana Laura Esperón_>,\n   <Person id:1279248[http] name:_James D. Etherington_>,\n   <Person id:9848108[http] name:_Giuseppe Faro_>,\n   <Person id:7453315[http] name:_Joseph Farrant_>,\n   <Person id:6189493[http] name:_Oniel Fernandes_>,\n   <Person id:4490372[http] name:_Lee Fisher_>,\n   <Person id:13513659[http] name:_Sergio Fornasieri_>,\n   <Person id:8580382[http] name:_Reinaldo Furegato_>,\n   <Person id:4796022[http] name:_Kai Gadd_>,\n   <Person id:6069406[http] name:_Pranav Gangapurkar_>,\n   <Person id:7108832[http] name:_Ankush Gawande_>,\n   <Person id:4120269[http] name:_Daniel Georgiou_>,\n   <Person id:7730336[http] name:_Natalia Germi_>,\n   <Person id:11015038[http] name:_Sagar Ghadge_>,\n   <Person id:3675335[http] name:_Nick Ghizas_>,\n   <Person id:9143019[http] name:_Benoit Gielly_>,\n   <Person id:3467898[http] name:_Sam Girdler_>,\n   <Person id:3885375[http] name:_Ana Gomes_>,\n   <Person id:2384467[http] name:_Namita Gotephode_>,\n   <Person id:6470435[http] name:_Arushi Govil_>,\n   <Person id:2425693[http] name:_Andrew Guest_>,\n   <Person id:0358331[http] name:_Raphael Hamm_>,\n   <Person id:0361347[http] name:_Pete Hanson_>,\n   <Person id:3198321[http] name:_Jason Harris_>,\n   <Person id:5919189[http] name:_Christopher Hiess_>,\n   <Person id:0007041[http] name:_Tom Hocking_>,\n   <Person id:5425979[http] name:_Cássio Homa_>,\n   <Person id:3723512[http] name:_Yuka Hosomi_>,\n   <Person id:1750008[http] name:_Pete Howlett_>,\n   <Person id:1924307[http] name:_Michael Hull_>,\n   <Person id:4744078[http] name:_Nile Hylton_>,\n   <Person id:9250631[http] name:_Ilaria Introzzi_>,\n   <Person id:9980039[http] name:_Balakrishna Isunuri_>,\n   <Person id:1886497[http] name:_Andrew Jackson_>,\n   <Person id:13504069[http] name:_Sujit Jain_>,\n   <Person id:2891986[http] name:_Jan Jinda_>,\n   <Person id:2916962[http] name:_Helen Johnson_>,\n   <Person id:10658126[http] name:_Akshay Joshi_>,\n   <Person id:5173175[http] name:_Jay Joshi_>,\n   <Person id:9207645[http] name:_Anshul Kashyap_>,\n   <Person id:3021193[http] name:_Simon Kay_>,\n   <Person id:6189418[http] name:_Kaydhareswaran_>,\n   <Person id:2632868[http] name:_Jon Keene_>,\n   <Person id:3606826[http] name:_Suraj Kaur Khalsa_>,\n   <Person id:4205054[http] name:_Alexander Kirk_>,\n   <Person id:0701208[http] name:_Anne Putnam Kolbe_>,\n   <Person id:8588800[http] name:_Rahul Kothari_>,\n   <Person id:7912789[http] name:_Balendu Kurup_>,\n   <Person id:6701020[http] name:_Ashutosh Kushe_>,\n   <Person id:6229907[http] name:_Ganesh Lakshmigandan_>,\n   <Person id:3196551[http] name:_Matthew Leach_>,\n   <Person id:1676274[http] name:_Alexis Lemonis_>,\n   <Person id:1870219[http] name:_Luke Letkey_>,\n   <Person id:7994034[http] name:_Tord Liljedahl Tønnesen_>,\n   <Person id:3425272[http] name:_Joseph Lloyd Pack_>,\n   <Person id:0516916[http] name:_Andrew Lockley_>,\n   <Person id:2371380[http] name:_Leah Low_>,\n   <Person id:6463270[http] name:_Will Lucas_>,\n   <Person id:3947545[http] name:_Garry Maddison_>,\n   <Person id:9402004[http] name:_Abhishek Maheshwari_>,\n   <Person id:10842751[http] name:_Siddharth Malviya_>,\n   <Person id:7486148[http] name:_Liz Mann_>,\n   <Person id:1629593[http] name:_Daniel Maskit_>,\n   <Person id:3271740[http] name:_Michael Hall Mauritzen_>,\n   <Person id:0569601[http] name:_Tim McGovern_>,\n   <Person id:4790531[http] name:_Himanshu Meena_>,\n   <Person id:5836691[http] name:_Midhun_>,\n   <Person id:0589361[http] name:_Steve Miller_>,\n   <Person id:6382518[http] name:_Vishal Mishra_>,\n   <Person id:0593278[http] name:_Derrick Mitchell_>,\n   <Person id:8396876[http] name:_Amer Sohail Mohammed_>,\n   <Person id:9536610[http] name:_Clément Morge_>,\n   <Person id:8685924[http] name:_Ahmed El-Shahat Moustafa_>,\n   <Person id:4580465[http] name:_Chris Munns_>,\n   <Person id:6030904[http] name:_Anoop M. Nair_>,\n   <Person id:8873161[http] name:_Amit Nitore_>,\n   <Person id:3671160[http] name:_James Noorani_>,\n   <Person id:5214183[http] name:_Aaron Noordally_>,\n   <Person id:5305145[http] name:_Juanma Ortiz_>,\n   <Person id:5079588[http] name:_Amey Panchal_>,\n   <Person id:8930854[http] name:_Deepak Panigrahi_>,\n   <Person id:5096622[http] name:_Om Parab_>,\n   <Person id:9327876[http] name:_Praveen Kumar Sharma Parasnath_>,\n   <Person id:7704499[http] name:_Sudarson Parthasarathy_>,\n   <Person id:1925469[http] name:_Tom Pegg_>,\n   <Person id:4422594[http] name:_Laurie Pellard_>,\n   <Person id:5677030[http] name:_Guy Penwill_>,\n   <Person id:2989252[http] name:_Marko Perendija_>,\n   <Person id:5089536[http] name:_Alessandro Pieri_>,\n   <Person id:8507332[http] name:_Marco Pileri_>,\n   <Person id:6870698[http] name:_Melvin Mathew Pillai_>,\n   <Person id:1004848[http] name:_Fred Place_>,\n   <Person id:1055829[http] name:_Matthew Plummer_>,\n   <Person id:1578630[http] name:_Travis Porter_>,\n   <Person id:7172755[http] name:_Becky Pownall_>,\n   <Person id:6385402[http] name:_Davide Prato_>,\n   <Person id:4755798[http] name:_Giorgia Pulvirenti_>,\n   <Person id:3223677[http] name:_Simon Pynn_>,\n   <Person id:1156192[http] name:_Søren Ragsdale_>,\n   <Person id:1551462[http] name:_Roberto Raio_>,\n   <Person id:8060313[http] name:_Jagannadham Rajana_>,\n   <Person id:6820267[http] name:_Ashwin Raju_>,\n   <Person id:3402631[http] name:_Nick Rampling_>,\n   <Person id:3065546[http] name:_Jeff Reeves_>,\n   <Person id:1673480[http] name:_Julia Reinhard_>,\n   <Person id:5445191[http] name:_Emma Rider_>,\n   <Person id:9479840[http] name:_Charlotte Roberts_>,\n   <Person id:6582602[http] name:_Daniel Rodrigues das Neves_>,\n   <Person id:8643911[http] name:_Martin Rossi_>,\n   <Person id:6591661[http] name:_Yafes Sahin_>,\n   <Person id:10697435[http] name:_Sandeepchoudhary_>,\n   <Person id:10068063[http] name:_Agnimitra Sarkar_>,\n   <Person id:9127192[http] name:_Hemant Parshuram Sawant_>,\n   <Person id:4361056[http] name:_Manos Schetto_>,\n   <Person id:2973391[http] name:_Carl Schröter_>,\n   <Person id:6147936[http] name:_Eduard Schulze-Battmann_>,\n   <Person id:2082087[http] name:_Paul Scott_>,\n   <Person id:1636621[http] name:_Shaun Scott_>,\n   <Person id:3193579[http] name:_Andy Scrase_>,\n   <Person id:1993904[http] name:_Alexander Seaman_>,\n   <Person id:6134809[http] name:_Taruna Sehgal_>,\n   <Person id:1819655[http] name:_Seshaprasad_>,\n   <Person id:5234637[http] name:_Hemang Shah_>,\n   <Person id:5714989[http] name:_Rahul Sharma_>,\n   <Person id:10546116[http] name:_Sanjeev Kumar Sharma_>,\n   <Person id:12649119[http] name:_Ganesh B. Singh_>,\n   <Person id:7812633[http] name:_Sivaprayag_>,\n   <Person id:10322237[http] name:_Ashish Raju Somkuwar_>,\n   <Person id:4882968[http] name:_Elliot Stammers_>,\n   <Person id:1140628[http] name:_Jim Steel_>,\n   <Person id:2768094[http] name:_Katie Stetson_>,\n   <Person id:2036946[http] name:_Christopher Sweet_>,\n   <Person id:5095275[http] name:_Avadhoot Tambe_>,\n   <Person id:1762350[http] name:_Merzin Tavaria_>,\n   <Person id:3232241[http] name:_Mark Taylor_>,\n   <Person id:5219857[http] name:_Benoit Terminet Schuppon_>,\n   <Person id:12195369[http] name:_Jigna Thacker_>,\n   <Person id:9986829[http] name:_Bhumika Thakuria_>,\n   <Person id:5289052[http] name:_Olivier Thibaut_>,\n   <Person id:8345692[http] name:_Ebin Thomas_>,\n   <Person id:4927697[http] name:_Mat Thompson_>,\n   <Person id:10655500[http] name:_Anoop Tiwari_>,\n   <Person id:0864638[http] name:_Steve Tizzard_>,\n   <Person id:4506279[http] name:_Craig Tonks_>,\n   <Person id:4840444[http] name:_Roger Tortosa_>,\n   <Person id:7678066[http] name:_Dominik Trottier_>,\n   <Person id:3127513[http] name:_Adam Trowse_>,\n   <Person id:6100439[http] name:_Sarfaraz Uddin_>,\n   <Person id:4698485[http] name:_Johan van Huyssteen_>,\n   <Person id:7061028[http] name:_Simone Vassallo_>,\n   <Person id:9662324[http] name:_Vishnu Vimal_>,\n   <Person id:2927787[http] name:_Christian Waite_>,\n   <Person id:0910090[http] name:_Mary E. Walter_>,\n   <Person id:3167976[http] name:_Andy Warren_>,\n   <Person id:1422170[http] name:_Joe Wehmeyer_>,\n   <Person id:0006356[http] name:_Mark H. Weingartner_>,\n   <Person id:5184010[http] name:_Peter Welton_>,\n   <Person id:7067611[http] name:_Stu Whitten_>,\n   <Person id:4226435[http] name:_Ross Lee Wilkinson_>,\n   <Person id:3361532[http] name:_Amielia Williams_>,\n   <Person id:1844874[http] name:_Owen E. Williams_>,\n   <Person id:3500074[http] name:_Jeff Winkle_>,\n   <Person id:1162902[http] name:_Ammann Christine Wong_>,\n   <Person id:2605894[http] name:_Alison Wortman_>,\n   <Person id:6190061[http] name:_Saxson Xavier_>,\n   <Person id:1022439[http] name:_Shyam V. Yadav_>,\n   <Person id:8466092[http] name:_Mark Yfantidis_>,\n   <Person id:5636410[http] name:_Seda Yilmaz_>,\n   <Person id:4701981[http] name:_Michael Zannetou_>,\n   <Person id:4088296[http] name:_Joelle Xin Zhow_>,\n   <Person id:3959332[http] name:_Ian Abbott_>,\n   <Person id:6207097[http] name:_Matthew Albone_>,\n   <Person id:0023612[http] name:_Colin Alway_>,\n   <Person id:3583579[http] name:_Tony Ambles_>,\n   <Person id:9784010[http] name:_Bulli Babu Arthimalla_>,\n   <Person id:4897578[http] name:_Jean-Marie Aubry_>,\n   <Person id:9784008[http] name:_Nick Avramoussis_>,\n   <Person id:4540321[http] name:_Daniel Baker_>,\n   <Person id:9784501[http] name:_Dheeraj Bana_>,\n   <Person id:6512651[http] name:_Charlie Banks_>,\n   <Person id:9698949[http] name:_Tammy Baylis_>,\n   <Person id:9784009[http] name:_Tomas Berzinskas_>,\n   <Person id:9575964[http] name:_Dheeraj Bhadani_>,\n   <Person id:2873419[http] name:_Nikhil Bhatnagar_>,\n   <Person id:5020762[http] name:_Rohan Bhingarde_>,\n   <Person id:6567377[http] name:_Cameron Billingham_>,\n   <Person id:9784036[http] name:_George Bitiusca_>,\n   <Person id:4839477[http] name:_Gabriel Blanco_>,\n   <Person id:3242576[http] name:_Mark Boorer_>,\n   <Person id:4663114[http] name:_Sylvain Brugnot_>,\n   <Person id:1589411[http] name:_Ron Bublitz_>,\n   <Person id:1988914[http] name:_Andrew Bunday_>,\n   <Person id:7468766[http] name:_Ryan Chan_>,\n   <Person id:2068305[http] name:_Shane Christopher_>,\n   <Person id:5172561[http] name:_Alasdair Colley_>,\n   <Person id:9784034[http] name:_Brad Collier-Brown_>,\n   <Person id:9784037[http] name:_Claire Cook_>,\n   <Person id:3197707[http] name:_Al Crate_>,\n   <Person id:9784056[http] name:_Patrick Dawkes_>,\n   <Person id:5020689[http] name:_Llewellyn Fernandez_>,\n   <Person id:9784017[http] name:_Stéphanie Fernier_>,\n   <Person id:5822007[http] name:_Peri Friend_>,\n   <Person id:9784012[http] name:_Maheshwar Kumar Ganga_>,\n   <Person id:6660309[http] name:_Stefan Gilligan_>,\n   <Person id:7355291[http] name:_David Gilligan-Cook_>,\n   <Person id:8054566[http] name:_Francisco Gochez_>,\n   <Person id:6189422[http] name:_Katharine Gooday_>,\n   <Person id:5108207[http] name:_Robert Graham_>,\n   <Person id:4862708[http] name:_Oliver Harding_>,\n   <Person id:7020967[http] name:_Benjamin Hathaway_>,\n   <Person id:5488704[http] name:_Liam Hoflay_>,\n   <Person id:9765099[http] name:_Matthew Hurst-Smith_>,\n   <Person id:0416803[http] name:_Oliver James_>,\n   <Person id:6750232[http] name:_Rushikesh Joshi_>,\n   <Person id:9724371[http] name:_Aman Juneja_>,\n   <Person id:9784502[http] name:_Anish Karun_>,\n   <Person id:3084974[http] name:_Dushyant Kashyap_>,\n   <Person id:7592758[http] name:_Spyridon Katsoulis_>,\n   <Person id:4808727[http] name:_Greg Keech_>,\n   <Person id:9784014[http] name:_Todd Keeler_>,\n   <Person id:2038688[http] name:_John Kelly_>,\n   <Person id:2388391[http] name:_Elaine Kieran_>,\n   <Person id:1926974[http] name:_Greg King_>,\n   <Person id:9784016[http] name:_Michael Knowles_>,\n   <Person id:5488956[http] name:_Sundar Krishnamurthy_>,\n   <Person id:4459254[http] name:_Ashwin Kumar_>,\n   <Person id:6477236[http] name:_Yani Lathouris_>,\n   <Person id:4690643[http] name:_Jorel Latraille_>,\n   <Person id:6647600[http] name:_Ian Lawson_>,\n   <Person id:3196551[http] name:_Matthew Leach_>,\n   <Person id:6100700[http] name:_Riasat Manzoor_>,\n   <Person id:2431984[http] name:_Ian Masters_>,\n   <Person id:9783917[http] name:_Damien Maupu_>,\n   <Person id:4758734[http] name:_Adam Miels_>,\n   <Person id:3539589[http] name:_Huw Moorhouse_>,\n   <Person id:9784015[http] name:_Ali Nakipoglu_>,\n   <Person id:4772809[http] name:_Khang Ngo_>,\n   <Person id:8052625[http] name:_Matthew O'Sullivan_>,\n   <Person id:9765183[http] name:_Simon Pabst_>,\n   <Person id:9784504[http] name:_Pavithira Raj Pardiban_>,\n   <Person id:5488105[http] name:_Mungo Pay_>,\n   <Person id:9784013[http] name:_James Pedlingham_>,\n   <Person id:7918313[http] name:_Carlos Perez-Lopez_>,\n   <Person id:9783928[http] name:_Martin Prazak_>,\n   <Person id:5153256[http] name:_Krishnan Ramachandran_>,\n   <Person id:2262866[http] name:_James Roberts_>,\n   <Person id:2294853[http] name:_Katherine Roberts_>,\n   <Person id:6301018[http] name:_Chus Rodriguez_>,\n   <Person id:4996581[http] name:_Kuba Roth_>,\n   <Person id:0749550[http] name:_Allen Ruilova_>,\n   <Person id:9784503[http] name:_Yaswanth Sajja_>,\n   <Person id:9784038[http] name:_Michele Santullo_>,\n   <Person id:3547531[http] name:_Pankaj Kumar Singh_>,\n   <Person id:4762942[http] name:_Rahul Singh_>,\n   <Person id:9784035[http] name:_Ina Sorensen_>,\n   <Person id:9784011[http] name:_Benjamin Spencer_>,\n   <Person id:7702377[http] name:_Jitendravijay Srinivasagan_>,\n   <Person id:1073701[http] name:_Jonathan Stroud_>,\n   <Person id:3431832[http] name:_Jo Ann Tan_>,\n   <Person id:5828906[http] name:_Praveen Thanvi_>,\n   <Person id:4450022[http] name:_Joseph Towe_>,\n   <Person id:6207098[http] name:_Vanessa Velasquez_>,\n   <Person id:2874041[http] name:_Henry Vera_>,\n   <Person id:2814765[http] name:_Ted Waine_>,\n   <Person id:5469339[http] name:_Matthew Warner_>,\n   <Person id:6049664[http] name:_Nicole A. West_>,\n   <Person id:9784033[http] name:_Ashley Whetter_>,\n   <Person id:7465264[http] name:_Stephen Alan Willey_>,\n   <Person id:1947896[http] name:_Jennifer Wood_>,\n   <Person id:4701981[http] name:_Michael Zannetou_>],\n  'stunt performer': [<Person id:3768608[http] name:_Kefi Abrikh_>,\n   <Person id:2122219[http] name:_Casey Adams_>,\n   <Person id:4647514[http] name:_Redmer Agricola_>,\n   <Person id:9532008[http] name:_Kevin Alsemgeest_>,\n   <Person id:8285992[http] name:_Chey Anich_>,\n   <Person id:5909460[http] name:_Nadeem Ashayer_>,\n   <Person id:0041528[http] name:_Erik Aude_>,\n   <Person id:4995134[http] name:_Tony Augé_>,\n   <Person id:0043076[http] name:_Rick Avery_>,\n   <Person id:0047215[http] name:_Daniel Bailey_>,\n   <Person id:1945385[http] name:_Dean Bailey_>,\n   <Person id:1095129[http] name:_Jeffrey G. Barnett_>,\n   <Person id:3778724[http] name:_Yannick Ben_>,\n   <Person id:8304071[http] name:_Mees Bergeman_>,\n   <Person id:1212533[http] name:_James Bomalick_>,\n   <Person id:4464486[http] name:_Tom Boney_>,\n   <Person id:4916757[http] name:_Adrien Bour_>,\n   <Person id:9532043[http] name:_Bart Bouwman_>,\n   <Person id:9532044[http] name:_Roel Bouwman_>,\n   <Person id:3830587[http] name:_Damien Bray_>,\n   <Person id:6219934[http] name:_Julien Briau_>,\n   <Person id:3798318[http] name:_Damien Buffard_>,\n   <Person id:6739473[http] name:_Andrew Burford_>,\n   <Person id:8177317[http] name:_RJ Casey_>,\n   <Person id:0145045[http] name:_David Castillo_>,\n   <Person id:5143645[http] name:_Adam Collins_>,\n   <Person id:8402891[http] name:_Liam Coote_>,\n   <Person id:5427151[http] name:_Gary Cothenet_>,\n   <Person id:1247999[http] name:_Clay Cullen_>,\n   <Person id:2655938[http] name:_Jason Curle_>,\n   <Person id:3783859[http] name:_Marc David_>,\n   <Person id:7309625[http] name:_Zardy de Haan_>,\n   <Person id:5274714[http] name:_J.P. de Kam_>,\n   <Person id:1232110[http] name:_Kevin Derr_>,\n   <Person id:8300770[http] name:_Joachim Dinkelman_>,\n   <Person id:0230016[http] name:_Wayne Docksey_>,\n   <Person id:0241033[http] name:_Zack Duhame_>,\n   <Person id:5336430[http] name:_Dom Dumaresq_>,\n   <Person id:4741675[http] name:_Christophe Dupuis_>,\n   <Person id:7611142[http] name:_Gore Eduard_>,\n   <Person id:10898640[http] name:_Klaas Einkhoven_>,\n   <Person id:5433145[http] name:_Benoît Fabre_>,\n   <Person id:2795735[http] name:_Mark Fichera_>,\n   <Person id:2315678[http] name:_Marie Fink_>,\n   <Person id:9576045[http] name:_Gregg Forshaw_>,\n   <Person id:6679051[http] name:_Dan Friedkin_>,\n   <Person id:1905299[http] name:_Shane Geraghty_>,\n   <Person id:2073783[http] name:_Cody Gilbert_>,\n   <Person id:0327215[http] name:_Rodolphe Gonckel_>,\n   <Person id:6671256[http] name:_Ryan Green_>,\n   <Person id:8358669[http] name:_Jacob Griffin_>,\n   <Person id:6460895[http] name:_Stéphanie Guerin_>,\n   <Person id:0352131[http] name:_Shane Habberstad_>,\n   <Person id:4234584[http] name:_Tom Hallahan_>,\n   <Person id:1735719[http] name:_Reid Harper_>,\n   <Person id:0363947[http] name:_Riley Harper_>,\n   <Person id:7300842[http] name:_Dan Hartley_>,\n   <Person id:8360583[http] name:_Laura Herman_>,\n   <Person id:0386027[http] name:_Steve Hinton_>,\n   <Person id:0395894[http] name:_Chuck Hosack_>,\n   <Person id:1677397[http] name:_Mihai Iliescu_>,\n   <Person id:3796502[http] name:_Mathew Kaye_>,\n   <Person id:0443958[http] name:_Luke Kearney_>,\n   <Person id:3064633[http] name:_Mathieu Lardot_>,\n   <Person id:8164407[http] name:_Renars Latkovskis_>,\n   <Person id:2690952[http] name:_Tony Lazzara_>,\n   <Person id:10898641[http] name:_Benjamin Lejeune_>,\n   <Person id:0502706[http] name:_Matt Leonard_>,\n   <Person id:6420602[http] name:_Daniel Locicero_>,\n   <Person id:5275950[http] name:_Jörg Lorbach_>,\n   <Person id:6375454[http] name:_Stephanie Louie_>,\n   <Person id:8192629[http] name:_Florian Lutz_>,\n   <Person id:7297896[http] name:_Will Mackay_>,\n   <Person id:10898642[http] name:_Remi Manganiello_>,\n   <Person id:7597490[http] name:_Kye Mckee_>,\n   <Person id:2167402[http] name:_John Medalin_>,\n   <Person id:10898643[http] name:_Illesta Aurel Mihail_>,\n   <Person id:0589203[http] name:_Rick Miller_>,\n   <Person id:0167400[http] name:_James Mitchell-Clyde_>,\n   <Person id:6401214[http] name:_Chris Morrison_>,\n   <Person id:5108224[http] name:_Sean Morrissey_>,\n   <Person id:6596848[http] name:_Theo Morton_>,\n   <Person id:2146298[http] name:_Philippe Mourier_>,\n   <Person id:9839775[http] name:_Steven Mullins_>,\n   <Person id:6788730[http] name:_Elliot Murray_>,\n   <Person id:5964990[http] name:_Tim Neff_>,\n   <Person id:0634905[http] name:_Mark Norby_>,\n   <Person id:6787768[http] name:_Jeffrey Nunes_>,\n   <Person id:10715748[http] name:_Jake Osborn_>,\n   <Person id:1007901[http] name:_Cedric Proust_>,\n   <Person id:7970220[http] name:_Travis Quist_>,\n   <Person id:4897659[http] name:_Valentin Raileanu_>,\n   <Person id:0713472[http] name:_Mark Rayner_>,\n   <Person id:8463848[http] name:_Shane Roberts_>,\n   <Person id:1892433[http] name:_Zack Roberts_>,\n   <Person id:4706514[http] name:_Nick Roeten_>,\n   <Person id:0738629[http] name:_John Romain_>,\n   <Person id:0740005[http] name:_Dalton Rondell_>,\n   <Person id:1497521[http] name:_Tracey Ruggiero_>,\n   <Person id:3774992[http] name:_Olivier Sa_>,\n   <Person id:1806569[http] name:_Steven Sawicki_>,\n   <Person id:0776225[http] name:_David Schultz_>,\n   <Person id:1465966[http] name:_Marc Scizak_>,\n   <Person id:0797075[http] name:_Ray Siegle_>,\n   <Person id:2098420[http] name:_Marco Sleeswijk_>,\n   <Person id:7282869[http] name:_Adam Smith_>,\n   <Person id:10898798[http] name:_Koen Stadhoers_>,\n   <Person id:1162884[http] name:_John Street_>,\n   <Person id:0835375[http] name:_Tom Struthers_>,\n   <Person id:1100410[http] name:_Carl Stück_>,\n   <Person id:1453514[http] name:_Bryan Thompson_>,\n   <Person id:4387466[http] name:_Sam Trimming_>,\n   <Person id:4798918[http] name:_Edward Upcott_>,\n   <Person id:4624122[http] name:_Philip van Ees_>,\n   <Person id:7130052[http] name:_Mark van Swieten_>,\n   <Person id:6256048[http] name:_Jérémie Vigot_>,\n   <Person id:10898799[http] name:_Sylvain Vigot_>,\n   <Person id:3075797[http] name:_Andrei Vintileanu_>,\n   <Person id:4842137[http] name:_Alexandre Vu_>,\n   <Person id:4653519[http] name:_Nino Wallaart_>,\n   <Person id:9749309[http] name:_Nathan Whatton_>,\n   <Person id:10898800[http] name:_Christopher White_>,\n   <Person id:1034968[http] name:_Peter White_>,\n   <Person id:10898801[http] name:_Robert White_>,\n   <Person id:3660569[http] name:_Reuben Williams_>,\n   <Person id:4547262[http] name:_Leo Woodruff_>,\n   <Person id:4427880[http] name:_Josh Yadon_>],\n  'camera and electrical department': [<Person id:1135039[http] name:_Boris Abaza_>,\n   <Person id:1744290[http] name:_Stéphane Afchain_>,\n   <Person id:1945385[http] name:_Dean Bailey_>,\n   <Person id:1844676[http] name:_Mike Barnett_>,\n   <Person id:4809090[http] name:_Jose F. Barrios_>,\n   <Person id:0060743[http] name:_Keith Batchelor_>,\n   <Person id:2041317[http] name:_Jesse Beaird_>,\n   <Person id:4983114[http] name:_Brian Bishop_>,\n   <Person id:3420832[http] name:_Dane Bjerno_>,\n   <Person id:0084817[http] name:_Hans Bjerno_>,\n   <Person id:2493262[http] name:_Baptiste Brousse_>,\n   <Person id:1712713[http] name:_Mike Byrd_>,\n   <Person id:6566517[http] name:_Joel Canard_>,\n   <Person id:0140527[http] name:_Ricky Carrillo_>,\n   <Person id:0150421[http] name:_R. Adam Chambers_>,\n   <Person id:3217826[http] name:_Antoine Charveriat_>,\n   <Person id:1231878[http] name:_Jean Chesneau_>,\n   <Person id:1937284[http] name:_Jonathan Clark_>,\n   <Person id:5823469[http] name:_Logan Covelli_>,\n   <Person id:3169692[http] name:_John Curran_>,\n   <Person id:2357391[http] name:_Jean-Pascal Czap_>,\n   <Person id:8767426[http] name:_Darin Devonshire_>,\n   <Person id:1081085[http] name:_Don Domino_>,\n   <Person id:0237877[http] name:_Nabil Dridi_>,\n   <Person id:3043945[http] name:_Antonin Drigeard_>,\n   <Person id:1308314[http] name:_Jean-François Drigeard_>,\n   <Person id:3144424[http] name:_Axel Dumasy_>,\n   <Person id:1435239[http] name:_Thierry Durand_>,\n   <Person id:3484978[http] name:_Benjamin Edwards_>,\n   <Person id:1684004[http] name:_Martin Elvin_>,\n   <Person id:0260914[http] name:_Hugues Espinasse_>,\n   <Person id:4593878[http] name:_Dustin Evans_>,\n   <Person id:0265190[http] name:_Kevin Fahey_>,\n   <Person id:1069100[http] name:_Krystina Figg_>,\n   <Person id:1400542[http] name:_Franck Fiquet_>,\n   <Person id:1189348[http] name:_Brian Fosnaugh_>,\n   <Person id:0288681[http] name:_Clayton Fowler_>,\n   <Person id:0307846[http] name:_Denis Garnier_>,\n   <Person id:0315096[http] name:_Mike Gerzevitz_>,\n   <Person id:0330449[http] name:_Melinda Sue Gordon_>,\n   <Person id:1219418[http] name:_Martin Grothe_>,\n   <Person id:1458733[http] name:_Thibaut Guenois_>,\n   <Person id:0355353[http] name:_Bob Hall_>,\n   <Person id:0368945[http] name:_Scott Hatley_>,\n   <Person id:7147377[http] name:_Sean Hogan_>,\n   <Person id:0389677[http] name:_Janneke Hogenboom_>,\n   <Person id:0394103[http] name:_Andy Hopkins_>,\n   <Person id:1681273[http] name:_Victor Horstink_>,\n   <Person id:1327178[http] name:_Bogdan Iofciulescu_>,\n   <Person id:1216801[http] name:_Milan Janicin_>,\n   <Person id:8610539[http] name:_Sam Jones_>,\n   <Person id:2215369[http] name:_Yuka Kadono_>,\n   <Person id:5227475[http] name:_Mike King_>,\n   <Person id:4022885[http] name:_Nick Kirkwood_>,\n   <Person id:1081644[http] name:_Malek Krimed_>,\n   <Person id:0474195[http] name:_Cyril Kuhnholtz_>,\n   <Person id:7873876[http] name:_Greg Ladwig_>,\n   <Person id:0487834[http] name:_Jordan Lapsansky_>,\n   <Person id:0488367[http] name:_Brad Larner_>,\n   <Person id:0491872[http] name:_Doug Lavender_>,\n   <Person id:0496756[http] name:_Adam Lee_>,\n   <Person id:4677516[http] name:_Marc-Jason Maier_>,\n   <Person id:2472052[http] name:_Jeremy Mauroy_>,\n   <Person id:0562254[http] name:_William R. Mayberry_>,\n   <Person id:0564733[http] name:_Hugh McCallum_>,\n   <Person id:2173641[http] name:_Joe McGee_>,\n   <Person id:2166226[http] name:_Tom Mitaux_>,\n   <Person id:4623894[http] name:_Julien Moine_>,\n   <Person id:0598450[http] name:_Ryan Monro_>,\n   <Person id:0619349[http] name:_Gary Nagle_>,\n   <Person id:3791536[http] name:_Lance Nicholls_>,\n   <Person id:0666226[http] name:_Greg Patterson_>,\n   <Person id:1433352[http] name:_Antoine Petiet_>,\n   <Person id:2056105[http] name:_Luc Poullain_>,\n   <Person id:0695823[http] name:_Helmut Prein_>,\n   <Person id:2942629[http] name:_Benjamin Prevost_>,\n   <Person id:0703112[http] name:_Yvan Quehec_>,\n   <Person id:0735458[http] name:_Olivier Rodriguez_>,\n   <Person id:0738213[http] name:_Ian Rolfe_>,\n   <Person id:0738943[http] name:_Pete Romano_>,\n   <Person id:1082274[http] name:_Olivier Sargatal_>,\n   <Person id:1010091[http] name:_Dan Schroer_>,\n   <Person id:3228221[http] name:_Vincent Scotet_>,\n   <Person id:0788239[http] name:_Michael Shanman_>,\n   <Person id:0793175[http] name:_Bryce Shields_>,\n   <Person id:0809889[http] name:_Scott Smith_>,\n   <Person id:6126792[http] name:_Adrian Sworn_>,\n   <Person id:1836268[http] name:_Andrew Sykes_>,\n   <Person id:5882444[http] name:_Felix Terreyre Saint-Cast_>,\n   <Person id:0857128[http] name:_Joshua D. Thatcher_>,\n   <Person id:1641845[http] name:_Frédéric Thurot_>,\n   <Person id:0864251[http] name:_Henry Tirl_>,\n   <Person id:1557436[http] name:_Grégoire Tomat_>,\n   <Person id:8398765[http] name:_Giovanni Vargas_>,\n   <Person id:4187698[http] name:_Tomas Vaverka_>,\n   <Person id:6175882[http] name:_Oscar Viguier_>,\n   <Person id:0909680[http] name:_James B. Walsh_>,\n   <Person id:3966436[http] name:_Cambria Wassell_>,\n   <Person id:6453141[http] name:_Andrew T Williams_>,\n   <Person id:0935371[http] name:_David Winner_>,\n   <Person id:0939338[http] name:_Steve Wong_>,\n   <Person id:4990858[http] name:_Ryan Worden_>,\n   <Person id:10504898[http] name:_Sam Bailey_>,\n   <Person id:2429219[http] name:_Michael DiGiovanni_>,\n   <Person id:0434279[http] name:_Zsolt Kadar_>,\n   <Person id:8148734[http] name:_Anthony Lesaffre_>],\n  'animation department': [<Person id:13399085[http] name:_Thomas Lee_>,\n   <Person id:8477570[http] name:_Stephen Painter_>,\n   <Person id:6398355[http] name:_Thomas Phillips-Howard_>,\n   <Person id:1551462[http] name:_Roberto Raio_>,\n   <Person id:4147140[http] name:_Paul Smith_>],\n  'casting department': [<Person id:0009895[http] name:_Geneviève Acien_>,\n   <Person id:5934394[http] name:_Emily Bohbrink_>,\n   <Person id:6853014[http] name:_Elise Cresson_>,\n   <Person id:5477625[http] name:_Rémy Delattre_>,\n   <Person id:0221126[http] name:_Catherine Deserbais_>,\n   <Person id:0255376[http] name:_Louis Elman_>,\n   <Person id:0364456[http] name:_Barbara Harris_>,\n   <Person id:2826775[http] name:_Cédric Le Maoût_>,\n   <Person id:4155728[http] name:_Xavier-Emmanuel Lesage_>,\n   <Person id:2219033[http] name:_Dennis Luyf_>,\n   <Person id:1823839[http] name:_Laura Drake Mancini_>,\n   <Person id:4438591[http] name:_Clément Morelle_>,\n   <Person id:7794848[http] name:_Adam Penny_>,\n   <Person id:1351479[http] name:_Gustavo Peña_>,\n   <Person id:4473647[http] name:_Nicolas Turek_>,\n   <Person id:0916875[http] name:_Dixie Webster_>,\n   <Person id:6921934[http] name:_Kim Winther_>],\n  'costume department': [<Person id:5263736[http] name:_Mark Almond_>,\n   <Person id:2207209[http] name:_Véronique Boisel_>,\n   <Person id:8023158[http] name:_Faith Carey_>,\n   <Person id:0143450[http] name:_John Casey_>,\n   <Person id:2121818[http] name:_Keith Christensen_>,\n   <Person id:0171517[http] name:_Patricia Colin_>,\n   <Person id:2364560[http] name:_Aurélie Dolbeau_>,\n   <Person id:4847849[http] name:_Marianne Elgaard-Bendtsen_>,\n   <Person id:0260743[http] name:_Laurence Esnault_>,\n   <Person id:1649759[http] name:_Spencer Frazen_>,\n   <Person id:2618551[http] name:_Leanne Geddes_>,\n   <Person id:3674803[http] name:_Krista Guggia_>,\n   <Person id:5840369[http] name:_Beth Herd_>,\n   <Person id:6570143[http] name:_Billy Lawless_>,\n   <Person id:1236208[http] name:_Olivier Ligen_>,\n   <Person id:0552343[http] name:_Gillian Martin_>,\n   <Person id:1044060[http] name:_Sara O'Donnell_>,\n   <Person id:6165154[http] name:_Emmanuelle Pastre_>,\n   <Person id:3068889[http] name:_Matt Payne_>,\n   <Person id:9332744[http] name:_Lenaig Periot-Boulben_>,\n   <Person id:5639902[http] name:_Reena Ray_>,\n   <Person id:1179286[http] name:_Jack Taggart_>,\n   <Person id:0893273[http] name:_Cesha Ventre_>,\n   <Person id:3316225[http] name:_Alexis Vérité_>,\n   <Person id:5488669[http] name:_Jen Martin_>],\n  'editorial department': [<Person id:1333123[http] name:_Todd Baillere_>,\n   <Person id:0062498[http] name:_Ada Bautista_>,\n   <Person id:3815708[http] name:_Katherine Chou_>,\n   <Person id:1519080[http] name:_Gabriel Diaz_>,\n   <Person id:0282144[http] name:_William Fletcher_>,\n   <Person id:0341317[http] name:_Michael L. Griffin_>,\n   <Person id:7528877[http] name:_Hannah Haidar_>,\n   <Person id:1355647[http] name:_Willie Lawton_>,\n   <Person id:0497562[http] name:_John Lee_>,\n   <Person id:0507935[http] name:_Eric A. Lewy_>,\n   <Person id:4851098[http] name:_Ross Miltenberg_>,\n   <Person id:0615562[http] name:_Dan Muscarella_>,\n   <Person id:1656743[http] name:_Jason Pelham_>,\n   <Person id:0727480[http] name:_Laura Rindner_>,\n   <Person id:0743828[http] name:_Scott Wesley Ross_>,\n   <Person id:0769635[http] name:_Kurt Schaefer_>,\n   <Person id:2737038[http] name:_Olly Stothert_>,\n   <Person id:0337302[http] name:_Paula Suhy_>,\n   <Person id:5793805[http] name:_Gladys Valiente_>,\n   <Person id:7212336[http] name:_Cornelis van Dijkhuizen_>,\n   <Person id:1935803[http] name:_Lucien Nunes Vaz_>,\n   <Person id:8941554[http] name:_Valeria Vezzali_>,\n   <Person id:2164371[http] name:_Walter Volpatto_>,\n   <Person id:0629485[http] name:_Lee Wimer_>,\n   <Person id:2196049[http] name:_Fady Hadid_>,\n   <Person id:4235207[http] name:_Romain Kedochim_>,\n   <Person id:4766684[http] name:_Sean Tristan McCann_>],\n  'location management': [<Person id:2662557[http] name:_Richard Berkeley_>,\n   <Person id:1538361[http] name:_Thijs Bolle_>,\n   <Person id:7580477[http] name:_Oliver Bradbury_>,\n   <Person id:6852931[http] name:_Patrick Brown_>,\n   <Person id:2945955[http] name:_Finbar Commandeur_>,\n   <Person id:0237568[http] name:_Douglas Dresser_>,\n   <Person id:1131293[http] name:_David Edouard_>,\n   <Person id:4690919[http] name:_Dragan Grgic_>,\n   <Person id:5155621[http] name:_Benjamin Hendriks_>,\n   <Person id:7716681[http] name:_Ian Hewitt_>,\n   <Person id:4177328[http] name:_Jonny Hodgetts_>,\n   <Person id:1894042[http] name:_Al Huynh_>,\n   <Person id:8957530[http] name:_Rémi Jollant_>,\n   <Person id:1292955[http] name:_Arnaud Kaiser_>,\n   <Person id:1236246[http] name:_Ronan Michel_>,\n   <Person id:2629594[http] name:_Patrick Noordzij_>,\n   <Person id:0642105[http] name:_Brian M. O'Neill_>,\n   <Person id:0642678[http] name:_Niall O'Shea_>,\n   <Person id:8793018[http] name:_Emilien Obert_>,\n   <Person id:1781818[http] name:_Ben Piltz_>,\n   <Person id:5980257[http] name:_Martin Pype_>,\n   <Person id:4862342[http] name:_Gaëlle Risch_>,\n   <Person id:6660534[http] name:_Billy Rowlinson_>,\n   <Person id:4313807[http] name:_Olivier Salvadori_>,\n   <Person id:3456354[http] name:_Mandy Sharpe_>,\n   <Person id:4785261[http] name:_Edouard Sueur_>,\n   <Person id:3475029[http] name:_Paul Tomlinson_>,\n   <Person id:7654827[http] name:_Fanny Truant_>,\n   <Person id:5958726[http] name:_Raquel Wijngaarde_>],\n  'music department': [<Person id:0008856[http] name:_Nico Abondolo_>,\n   <Person id:1125129[http] name:_Christopher Anderson-Bazzoli_>,\n   <Person id:5214176[http] name:_Laurence Anslow_>,\n   <Person id:9603533[http] name:_Roger Argente_>,\n   <Person id:3552671[http] name:_Max Aruj_>,\n   <Person id:1154632[http] name:_Lorne Balfe_>,\n   <Person id:6642068[http] name:_Daniel Bhattacharya_>,\n   <Person id:1179882[http] name:_Richard Bissill_>,\n   <Person id:0110060[http] name:_Johnny Britt_>,\n   <Person id:7340229[http] name:_Ed Buller_>,\n   <Person id:4070343[http] name:_John W. Chapman_>,\n   <Person id:1010252[http] name:_Chuck Choi_>,\n   <Person id:3239182[http] name:_Forest Christenson_>,\n   <Person id:8847539[http] name:_Steven Doar_>,\n   <Person id:0258776[http] name:_Steve Erdody_>,\n   <Person id:8824602[http] name:_Alex Ferguson_>,\n   <Person id:0287816[http] name:_Geoff Foster_>,\n   <Person id:0288670[http] name:_Bruce Fowler_>,\n   <Person id:0288812[http] name:_Walt Fowler_>,\n   <Person id:0316833[http] name:_Alex Gibson_>,\n   <Person id:0338435[http] name:_Gavin Greenaway_>,\n   <Person id:0341690[http] name:_Isobel Griffiths_>,\n   <Person id:11509039[http] name:_Opie Gruves_>,\n   <Person id:2789392[http] name:_Tina Guo_>,\n   <Person id:6102901[http] name:_Taurees Habib_>,\n   <Person id:6540702[http] name:_Drew Jordan_>,\n   <Person id:3474847[http] name:_Andrew Kawczynski_>,\n   <Person id:2173787[http] name:_Steven Kofsky_>,\n   <Person id:5118113[http] name:_David J. Krystal_>,\n   <Person id:10584230[http] name:_Erich Lee_>,\n   <Person id:0002605[http] name:_Michael A. Levine_>,\n   <Person id:3032822[http] name:_Jeremy Levy_>,\n   <Person id:0507382[http] name:_Jon Lewis_>,\n   <Person id:2385360[http] name:_Steve Mazzaro_>,\n   <Person id:10447029[http] name:_Martin McClellan_>,\n   <Person id:6750255[http] name:_Stephanie McNally_>,\n   <Person id:4948468[http] name:_Aaron Meyer_>,\n   <Person id:0583657[http] name:_Alan Meyerson_>,\n   <Person id:0556905[http] name:_Perry Montague-Mason_>,\n   <Person id:9545683[http] name:_Suzette Moriarty_>,\n   <Person id:5526291[http] name:_Dan Newell_>,\n   <Person id:5453414[http] name:_Felix Ohlert_>,\n   <Person id:6485295[http] name:_Andy Page_>,\n   <Person id:1657934[http] name:_Cynthia Park_>,\n   <Person id:0664592[http] name:_Andy Pask_>,\n   <Person id:6419909[http] name:_Alfredo Pasquel_>,\n   <Person id:6252533[http] name:_Tom Pearson_>,\n   <Person id:0810190[http] name:_Tom Pigott Smith_>,\n   <Person id:8453623[http] name:_Lucas Pimentel_>,\n   <Person id:7097311[http] name:_Ben Powell_>,\n   <Person id:8874503[http] name:_Richard Pryce_>,\n   <Person id:1948280[http] name:_Satnam Ramgotra_>,\n   <Person id:0745448[http] name:_Peter Rotter_>,\n   <Person id:8377116[http] name:_Dor Rozen_>,\n   <Person id:1530800[http] name:_Ryan Rubin_>,\n   <Person id:1204053[http] name:_Carl Rydlund_>,\n   <Person id:6347126[http] name:_Max Sandler_>,\n   <Person id:3014280[http] name:_Howard Scarr_>,\n   <Person id:9112440[http] name:_Shalini S. Singh_>,\n   <Person id:1793657[http] name:_Chas Smith_>,\n   <Person id:0834120[http] name:_Jill Streater_>,\n   <Person id:2029121[http] name:_Dean Valentine_>,\n   <Person id:5737279[http] name:_Raul Vega_>,\n   <Person id:6440322[http] name:_Seth Waldmann_>,\n   <Person id:1818744[http] name:_Benjamin Wallfisch_>,\n   <Person id:8556806[http] name:_Derrick Werlé_>,\n   <Person id:2471462[http] name:_Mark Wherry_>,\n   <Person id:0924537[http] name:_Booker White_>,\n   <Person id:0956210[http] name:_Warren Zielinski_>,\n   <Person id:2708786[http] name:_Nicholas J. Cazares_>,\n   <Person id:0288670[http] name:_Bruce Fowler_>,\n   <Person id:5068669[http] name:_Roger Linley_>,\n   <Person id:5839471[http] name:_Steve Mair_>,\n   <Person id:6400150[http] name:_Vicky Matthews_>,\n   <Person id:3976053[http] name:_Steffen Thum_>,\n   <Person id:8377078[http] name:_Allen Walley_>],\n  'script department': [<Person id:0311826[http] name:_Steve Gehrke_>],\n  'transportation department': [<Person id:2182551[http] name:_Ryan Allen_>,\n   <Person id:1564541[http] name:_Nicolas Baudry_>,\n   <Person id:4376508[http] name:_Jorrik Brinkers_>,\n   <Person id:12336284[http] name:_David Burns_>,\n   <Person id:0129030[http] name:_Denny Caira_>,\n   <Person id:7930211[http] name:_Gilles Camy_>,\n   <Person id:1125568[http] name:_Kaiser Clark_>,\n   <Person id:2036709[http] name:_Maxime Couteret_>,\n   <Person id:6340180[http] name:_Rob Davis_>,\n   <Person id:4491763[http] name:_Hendrik De Jonker_>,\n   <Person id:7907200[http] name:_Amalia de Larminat_>,\n   <Person id:7462124[http] name:_Roel de Wilde_>,\n   <Person id:9242766[http] name:_Perrine Delporte_>,\n   <Person id:9141448[http] name:_Sarah Dondey_>,\n   <Person id:1004258[http] name:_Bertrand Doudet_>,\n   <Person id:1947698[http] name:_Charles Heidet_>,\n   <Person id:8658175[http] name:_Johanna Heuzé_>,\n   <Person id:11353193[http] name:_Richard Holmes_>,\n   <Person id:8311443[http] name:_David Lewis_>,\n   <Person id:4808504[http] name:_Tim McGaughy_>,\n   <Person id:4627223[http] name:_Jessie Mentjox_>,\n   <Person id:1788438[http] name:_Dean Moran_>,\n   <Person id:8252401[http] name:_Ronald Mossou_>,\n   <Person id:9223412[http] name:_Chanael Nkamleu_>,\n   <Person id:0646938[http] name:_Mark Oliver_>,\n   <Person id:2098004[http] name:_Alexis Oros_>,\n   <Person id:2397373[http] name:_Mike Ortiz_>,\n   <Person id:2602819[http] name:_Ronnie Papaleo_>,\n   <Person id:0677423[http] name:_Tina Peterson_>,\n   <Person id:0677447[http] name:_Yvette Peterson_>,\n   <Person id:8237092[http] name:_Yann Pozzoli_>,\n   <Person id:3670478[http] name:_Piek Seebregts_>,\n   <Person id:3018895[http] name:_Alexandre Thiery_>,\n   <Person id:9054355[http] name:_Bas Vermeer_>,\n   <Person id:1494629[http] name:_Olaf Westra_>,\n   <Person id:0930627[http] name:_Gary Thomas Williams_>],\n  'miscellaneous crew': [<Person id:3181964[http] name:_Esther Aja_>,\n   <Person id:0014971[http] name:_Tom Ajar_>,\n   <Person id:9688478[http] name:_Glyn Alderson_>,\n   <Person id:1715971[http] name:_Segolene Amice Lagny_>,\n   <Person id:2374528[http] name:_Neil Andrea_>,\n   <Person id:2115937[http] name:_Susan Chika Anisiobi_>,\n   <Person id:6748501[http] name:_Bobby Antova_>,\n   <Person id:0164074[http] name:_Jennifer Asaro_>,\n   <Person id:5909460[http] name:_Nadeem Ashayer_>,\n   <Person id:1628246[http] name:_Holly Asquith_>,\n   <Person id:5499421[http] name:_Ruby Avards_>,\n   <Person id:9375177[http] name:_Jorn Baars_>,\n   <Person id:4036365[http] name:_Judy Bafaro_>,\n   <Person id:0046517[http] name:_Laura Bagano_>,\n   <Person id:8419066[http] name:_Selina Bagge_>,\n   <Person id:1055062[http] name:_Emmanuelle Balestrieri_>,\n   <Person id:6204533[http] name:_Will Banks_>,\n   <Person id:0054891[http] name:_Guy Barker_>,\n   <Person id:9262952[http] name:_Laurie Barraclough_>,\n   <Person id:8900451[http] name:_Armando Barrios_>,\n   <Person id:8090614[http] name:_Lucy Barron_>,\n   <Person id:6706298[http] name:_Paul Scruff Bates_>,\n   <Person id:1590038[http] name:_Anna Belaro-Rodriguez_>,\n   <Person id:0071439[http] name:_Jacqueline Benloulou_>,\n   <Person id:4179345[http] name:_John Bilicki_>,\n   <Person id:6817186[http] name:_Lisa A. Blair_>,\n   <Person id:6696539[http] name:_Aurélie Boderiou_>,\n   <Person id:7698465[http] name:_Josef Boreland_>,\n   <Person id:1943142[http] name:_Natalie Borlaug_>,\n   <Person id:14604246[http] name:_Remco Borsch_>,\n   <Person id:5353111[http] name:_Zachary Brenner_>,\n   <Person id:4232643[http] name:_Lucas Camps_>,\n   <Person id:2961761[http] name:_Care-on-set_>,\n   <Person id:2852972[http] name:_Sam Carmichael_>,\n   <Person id:8177317[http] name:_RJ Casey_>,\n   <Person id:10152993[http] name:_Charles Chetwode_>,\n   <Person id:4505051[http] name:_Angelo J. Cici_>,\n   <Person id:0162267[http] name:_Christopher Ciketic_>,\n   <Person id:6342478[http] name:_Cristina Cocco_>,\n   <Person id:1556901[http] name:_Kristina Colic_>,\n   <Person id:4730980[http] name:_Christophe Colonel_>,\n   <Person id:5190395[http] name:_Jordan Dee Crabtree_>,\n   <Person id:1634234[http] name:_Ian Creed_>,\n   <Person id:12258257[http] name:_Thomas Dahirel_>,\n   <Person id:10152995[http] name:_George Davies_>,\n   <Person id:5364505[http] name:_Rio De Santo_>,\n   <Person id:6978525[http] name:_Nick Degan_>,\n   <Person id:9080052[http] name:_Joelle Delhaye_>,\n   <Person id:0235182[http] name:_Michael Steven Douglas_>,\n   <Person id:3079816[http] name:_Brandon Duracher_>,\n   <Person id:8150989[http] name:_Emeline Durey_>,\n   <Person id:4770180[http] name:_John Dutcher_>,\n   <Person id:11668538[http] name:_Manon Eekelder_>,\n   <Person id:5192356[http] name:_Austin Elliott_>,\n   <Person id:0260114[http] name:_Edwin Escalante_>,\n   <Person id:6740707[http] name:_Ron Eshuijs_>,\n   <Person id:2403351[http] name:_Valérie Farthouat_>,\n   <Person id:9576045[http] name:_Gregg Forshaw_>,\n   <Person id:6679051[http] name:_Dan Friedkin_>,\n   <Person id:6167832[http] name:_Micheal Gentry_>,\n   <Person id:8269300[http] name:_Stephanie Godin_>,\n   <Person id:4317247[http] name:_Julian Graham_>,\n   <Person id:2610926[http] name:_Louise Green_>,\n   <Person id:8347028[http] name:_Robert Guerrero_>,\n   <Person id:4625154[http] name:_Andrew Gutu_>,\n   <Person id:8287888[http] name:_Oliver Hatcher_>,\n   <Person id:9438107[http] name:_Lucy Hatherley_>,\n   <Person id:7767332[http] name:_Julius Hazelhoff_>,\n   <Person id:5450223[http] name:_Matthew P. Higgins_>,\n   <Person id:6630424[http] name:_Steven Hillenius_>,\n   <Person id:0386027[http] name:_Steve Hinton_>,\n   <Person id:10194073[http] name:_Jannie Hoekman_>,\n   <Person id:1380319[http] name:_Wessel Holleman_>,\n   <Person id:8461130[http] name:_Jacob Holmquist-Franco_>,\n   <Person id:0396000[http] name:_Craig Hosking_>,\n   <Person id:6413357[http] name:_Caroline Houghton_>,\n   <Person id:8673554[http] name:_Kalid Hussein_>,\n   <Person id:1105116[http] name:_Darren Jacobs_>,\n   <Person id:0420299[http] name:_Kris A. Jeffrey_>,\n   <Person id:6784909[http] name:_Olivier Kaczmarek_>,\n   <Person id:4015986[http] name:_Rabia Kassam_>,\n   <Person id:6189408[http] name:_Gary Kett_>,\n   <Person id:6463104[http] name:_Charles Kirkby_>,\n   <Person id:5635610[http] name:_Cherise Kneefel_>,\n   <Person id:10599430[http] name:_Albert Kramer_>,\n   <Person id:4413756[http] name:_Joshua Levine_>,\n   <Person id:2058457[http] name:_Stéphane Linet_>,\n   <Person id:7466491[http] name:_Alice Lipowczyk_>,\n   <Person id:0516446[http] name:_Jennifer Lobban_>,\n   <Person id:8311604[http] name:_Hennie Loosman_>,\n   <Person id:7305691[http] name:_Oliver Lowry_>,\n   <Person id:3672390[http] name:_Manjari Makijany_>,\n   <Person id:0540409[http] name:_Daniel F. Malone_>,\n   <Person id:0560951[http] name:_Jeremy Maupin_>,\n   <Person id:0564425[http] name:_Catherine A. McCabe_>,\n   <Person id:0571267[http] name:_Martin McKellan_>,\n   <Person id:3057603[http] name:_David Moore_>,\n   <Person id:1240102[http] name:_Natalie Moore_>,\n   <Person id:7415668[http] name:_Steven Moth_>,\n   <Person id:1059022[http] name:_Grégoire Mouveau_>,\n   <Person id:4133763[http] name:_Sarah Mulberge_>,\n   <Person id:10035502[http] name:_Charlotte Nguyen_>,\n   <Person id:7441070[http] name:_Chelsea Nwasike_>,\n   <Person id:7015573[http] name:_Jasper Oltman_>,\n   <Person id:1070009[http] name:_Emmanuel Pappas_>,\n   <Person id:6457115[http] name:_Ashley Jade Parkes_>,\n   <Person id:5408412[http] name:_Daniel Pentkowski_>,\n   <Person id:4608709[http] name:_Maya Perez_>,\n   <Person id:1455538[http] name:_Philip Pickford_>,\n   <Person id:8066205[http] name:_Sanne Piersma_>,\n   <Person id:1317446[http] name:_Pascal Pons_>,\n   <Person id:5609041[http] name:_Rory Power-Gibb_>,\n   <Person id:1236288[http] name:_Carlo Pratto_>,\n   <Person id:10599434[http] name:_Pieter Pruiksma_>,\n   <Person id:6143113[http] name:_John W. Pruitt III_>,\n   <Person id:1416731[http] name:_Karen Ramirez_>,\n   <Person id:1119455[http] name:_Darren Richardson_>,\n   <Person id:8710576[http] name:_Jamie Roach_>,\n   <Person id:7621801[http] name:_Vicki Robbins_>,\n   <Person id:0738629[http] name:_John Romain_>,\n   <Person id:1575317[http] name:_Jay Rosenwink_>,\n   <Person id:2398558[http] name:_Bruce A. Ross_>,\n   <Person id:8178394[http] name:_Motte dit Falisse Samuel_>,\n   <Person id:1627382[http] name:_Dan Sasaki_>,\n   <Person id:0767119[http] name:_Laure Sauton_>,\n   <Person id:5989855[http] name:_Cris Sawyer_>,\n   <Person id:0779379[http] name:_Jonathan Scott_>,\n   <Person id:2279223[http] name:_Samuel Sharpe_>,\n   <Person id:10898817[http] name:_Edward Shipley_>,\n   <Person id:4864810[http] name:_Iain Silvester_>,\n   <Person id:5003518[http] name:_Sean Singery_>,\n   <Person id:3952179[http] name:_Joseph Slomka_>,\n   <Person id:9944370[http] name:_Brett A. Smith_>,\n   <Person id:4560886[http] name:_Bastien Solignac_>,\n   <Person id:3273819[http] name:_Jonjo Stickland_>,\n   <Person id:4717898[http] name:_Christian max Straub_>,\n   <Person id:1162884[http] name:_John Street_>,\n   <Person id:8565489[http] name:_Ben Strowger_>,\n   <Person id:2099208[http] name:_Géraldine Sérafini_>,\n   <Person id:8824721[http] name:_Alicia Triana Tabeau_>,\n   <Person id:4873015[http] name:_Ewan Taylor_>,\n   <Person id:6696538[http] name:_Christophe Thomas_>,\n   <Person id:8005368[http] name:_Warren Titterrell_>,\n   <Person id:6387557[http] name:_Luke Tuck_>,\n   <Person id:2261863[http] name:_Saskia van der Tas_>,\n   <Person id:4402185[http] name:_Elise van Dijk_>,\n   <Person id:4771125[http] name:_Laure-Astrid Veber_>,\n   <Person id:3495797[http] name:_Kristin Vela_>,\n   <Person id:7363041[http] name:_Karen Margaux Walker_>,\n   <Person id:11096078[http] name:_Ian Warner_>,\n   <Person id:0922025[http] name:_Debi West_>,\n   <Person id:2796753[http] name:_Richard Wild_>,\n   <Person id:0945494[http] name:_Susie Yamamoto_>,\n   <Person id:7503364[http] name:_Colleen Young_>,\n   <Person id:1630901[http] name:_Larry Zanoff_>,\n   <Person id:4396971[http] name:_Kriss TheDish Brown_>,\n   <Person id:8306570[http] name:_Emmanuel Buriez_>,\n   <Person id:2692870[http] name:_Andrew Ellinas_>,\n   <Person id:0484203[http] name:_Jay Lance_>,\n   <Person id:13027358[http] name:_Ethan Law_>,\n   <Person id:2730610[http] name:_Michael Martinez_>,\n   <Person id:10524309[http] name:_Georgia McCornick_>,\n   <Person id:0798909[http] name:_Greg Silverman_>,\n   <Person id:8508046[http] name:_Alan Taylor_>,\n   <Person id:8508089[http] name:_Tim Weathersby_>,\n   <Person id:3622895[http] name:_Daniel Yi_>],\n  'thanks': [<Person id:0000323[http] name:_Michael Caine_>,\n   <Person id:6679051[http] name:_Dan Friedkin_>,\n   <Person id:3948684[http] name:_Ian Gilbert_>]},\n 'titlesRefs': {},\n 'namesRefs': {}}"
     },
     "execution_count": 30,
     "metadata": {},
     "output_type": "execute_result"
    }
   ],
   "source": [
    "person = ia.get_movie_full_credits('5013056')\n",
    "person"
   ],
   "metadata": {
    "collapsed": false,
    "ExecuteTime": {
     "end_time": "2023-11-09T16:16:14.445304159Z",
     "start_time": "2023-11-09T16:16:13.153805262Z"
    }
   }
  },
  {
   "cell_type": "code",
   "execution_count": 34,
   "outputs": [
    {
     "data": {
      "text/plain": "{'data': {'tech': {}}, 'titlesRefs': {}, 'namesRefs': {}}"
     },
     "execution_count": 34,
     "metadata": {},
     "output_type": "execute_result"
    }
   ],
   "source": [
    "ia.get_movie_technical('5013056')"
   ],
   "metadata": {
    "collapsed": false,
    "ExecuteTime": {
     "end_time": "2023-11-09T16:18:39.594246871Z",
     "start_time": "2023-11-09T16:18:38.360625263Z"
    }
   }
  },
  {
   "cell_type": "code",
   "execution_count": 39,
   "outputs": [],
   "source": [
    "import requests"
   ],
   "metadata": {
    "collapsed": false,
    "ExecuteTime": {
     "end_time": "2023-11-09T16:35:16.720496877Z",
     "start_time": "2023-11-09T16:35:16.715551760Z"
    }
   }
  },
  {
   "cell_type": "code",
   "execution_count": 54,
   "outputs": [
    {
     "name": "stdout",
     "output_type": "stream",
     "text": [
      "dict_keys(['adult', 'backdrop_path', 'genre_ids', 'id', 'original_language', 'original_title', 'overview', 'popularity', 'poster_path', 'release_date', 'title', 'video', 'vote_average', 'vote_count'])\n"
     ]
    }
   ],
   "source": [
    "\n",
    "url = \"https://api.themoviedb.org/3/movie/top_rated?language=en-US&page=1\"\n",
    "\n",
    "headers = {\"accept\": \"application/json\",\n",
    "           \"Authorization\": \"Bearer token\"}\n",
    "\n",
    "response = requests.get(url, headers=headers)\n",
    "\n",
    "r_json = response.json()\n",
    "\n",
    "print(r_json['results'][0].keys())"
   ],
   "metadata": {
    "collapsed": false,
    "ExecuteTime": {
     "end_time": "2023-11-09T16:40:29.182939323Z",
     "start_time": "2023-11-09T16:40:29.040437346Z"
    }
   }
  },
  {
   "cell_type": "code",
   "execution_count": 64,
   "outputs": [
    {
     "name": "stdout",
     "output_type": "stream",
     "text": [
      "[{'adult': False, 'backdrop_path': '/r90ndUtMyfmH8EtAj8vmhDPfhsg.jpg', 'genre_ids': [18], 'id': 47570, 'original_language': 'en', 'original_title': 'Maid in Sweden', 'overview': 'Schoolgirl Inga goes to visit her sister in Stockholm and is shocked to find her living with her boyfriend, Casten.', 'popularity': 30.495, 'poster_path': '/5kOEI6xWyWpzwjE5dkeI3F3vCv6.jpg', 'release_date': '1971-11-03', 'title': 'Maid in Sweden', 'video': False, 'vote_average': 4.444, 'vote_count': 27}, {'adult': False, 'backdrop_path': '/tcheoA2nPATCm2vvXw2hVQoaEFD.jpg', 'genre_ids': [27, 14], 'id': 346364, 'original_language': 'en', 'original_title': 'It', 'overview': 'In a small town in Maine, seven children known as The Losers Club come face to face with life problems, bullies and a monster that takes the shape of a clown called Pennywise.', 'popularity': 71.627, 'poster_path': '/9E2y5Q7WlCVNEhP5GiVTjhEhx1o.jpg', 'release_date': '2017-09-06', 'title': 'It', 'video': False, 'vote_average': 7.242, 'vote_count': 18140}, {'adult': False, 'backdrop_path': '/vG6JxKspnlub1Ue3xhktOtE5FVJ.jpg', 'genre_ids': [35], 'id': 87428, 'original_language': 'en', 'original_title': \"That's My Boy\", 'overview': \"While in his teens, Donny fathered a son, Todd, and raised him as a single parent up until Todd's 18th birthday. Now, after not seeing each other for years, Todd's world comes crashing down when Donny resurfaces just before Todd's wedding.\", 'popularity': 140.126, 'poster_path': '/oVCsANNQyw1AjRhQ9edFBM8HVCq.jpg', 'release_date': '2012-06-14', 'title': \"That's My Boy\", 'video': False, 'vote_average': 5.774, 'vote_count': 1754}, {'adult': False, 'backdrop_path': '/8moTOzunF7p40oR5XhlDvJckOSW.jpg', 'genre_ids': [27, 14], 'id': 474350, 'original_language': 'en', 'original_title': 'It Chapter Two', 'overview': \"27 years after overcoming the malevolent supernatural entity Pennywise, the former members of the Losers' Club, who have grown up and moved away from Derry, are brought back together by a devastating phone call.\", 'popularity': 77.732, 'poster_path': '/zfE0R94v1E8cuKAerbskfD3VfUt.jpg', 'release_date': '2019-09-04', 'title': 'It Chapter Two', 'video': False, 'vote_average': 6.85, 'vote_count': 8117}, {'adult': False, 'backdrop_path': '/97bwlJw220Z5XE3xAHF6G8gA8g6.jpg', 'genre_ids': [27, 14, 28], 'id': 644124, 'original_language': 'it', 'original_title': 'Dampyr', 'overview': 'In war-torn Balkans, bogus monster hunter Harlan Draka is hired by soldiers who happen to be under attack by an army of actual vampires, uncovering the hidden truth about his past in the process: he is half-human and half-vampire... a Dampyr.', 'popularity': 86.163, 'poster_path': '/xdWjqmX4x0ObKIPqkr8Vptj99AZ.jpg', 'release_date': '2022-10-28', 'title': 'Dampyr', 'video': False, 'vote_average': 6.462, 'vote_count': 93}, {'adult': False, 'backdrop_path': '/mqto2rCJcuXFHUkDNsLf3FF2qki.jpg', 'genre_ids': [35], 'id': 1120628, 'original_language': 'de', 'original_title': 'Hammerharte Jungs', 'overview': 'Teenagers Charly and Paula worry that sex could ruin their friendship, while their suddenly and surprisingly bossy private parts urge them to go for it.', 'popularity': 19.437, 'poster_path': '/d2jU7XWkPjRN0LpakwShBH2FLZo.jpg', 'release_date': '2023-05-24', 'title': 'Hard Feelings', 'video': False, 'vote_average': 5.839, 'vote_count': 96}, {'adult': False, 'backdrop_path': '/46FRuCeAn6TrS4F1P4F9zhyCpyo.jpg', 'genre_ids': [18], 'id': 785084, 'original_language': 'en', 'original_title': 'The Whale', 'overview': 'A reclusive English teacher suffering from severe obesity attempts to reconnect with his estranged teenage daughter for one last chance at redemption.', 'popularity': 75.972, 'poster_path': '/jQ0gylJMxWSL490sy0RrPj1Lj7e.jpg', 'release_date': '2022-12-09', 'title': 'The Whale', 'video': False, 'vote_average': 7.93, 'vote_count': 3051}, {'adult': False, 'backdrop_path': '/oT33NHb3ruxqkcSzPcpQMXhJiLP.jpg', 'genre_ids': [35, 10749], 'id': 9478, 'original_language': 'de', 'original_title': 'Harte Jungs', 'overview': 'Flo is not quite a normal teenager: While all his friends only think about sex he can\\'t even pronounce the word \"S - E - X\". But everything changes completely when one morning Flo wakes up from a strange call. His penis, excited for the first time, begins to talk to him. He claims that Flo severely neglected him for 15 years and it\\'s time to release him.', 'popularity': 9.404, 'poster_path': '/qG01w6lmKlKVI4hIdtUPn6kUKPm.jpg', 'release_date': '2000-03-29', 'title': 'Ants in the Pants', 'video': False, 'vote_average': 5.034, 'vote_count': 116}, {'adult': False, 'backdrop_path': '/uId66x2NKI9gBbcpGDi1krtN3pz.jpg', 'genre_ids': [18, 35], 'id': 901121, 'original_language': 'ko', 'original_title': '거미집', 'overview': \"In the 1970s, Director Kim is obsessed by the desire to re-shoot the ending of his completed film Cobweb, but chaos and turmoil grip the set with interference from the censorship authorities, and the complaints of actors and producers who can't understand the re-written ending. Will Kim be able to find a way through this chaos to fulfill his artistic ambitions and complete his masterpiece?\", 'popularity': 18.108, 'poster_path': '/rytZSF9AwTuDLy8XhNx8CKhma9X.jpg', 'release_date': '2023-09-27', 'title': 'Cobweb', 'video': False, 'vote_average': 6.889, 'vote_count': 9}, {'adult': False, 'backdrop_path': '/jkKVLzLWjSvTnc84VzeljhSy6j8.jpg', 'genre_ids': [10749, 18], 'id': 820525, 'original_language': 'en', 'original_title': 'After Everything', 'overview': 'Besieged by writer’s block and the crushing breakup with Tessa, Hardin travels to Portugal in search of a woman he wronged in the past – and to find himself. Hoping to win back Tessa, he realizes he needs to change his ways before he can make the ultimate commitment.', 'popularity': 756.223, 'poster_path': '/uQxjZGU6rxSPSMeAJPJQlmfV3ys.jpg', 'release_date': '2023-09-13', 'title': 'After Everything', 'video': False, 'vote_average': 7.033, 'vote_count': 457}, {'adult': False, 'backdrop_path': '/peKdXDj9IV0f3mEGrc0YeWAABTZ.jpg', 'genre_ids': [10751], 'id': 38348, 'original_language': 'en', 'original_title': 'War of the Buttons', 'overview': \"War between two Irish youth gangs consists of removing and retrieving buttons from each other's clothing.\", 'popularity': 9.787, 'poster_path': '/kpVvrfK2klW8netmZt9UUYlbLYh.jpg', 'release_date': '1994-09-29', 'title': 'War of the Buttons', 'video': False, 'vote_average': 7.0, 'vote_count': 94}, {'adult': False, 'backdrop_path': '/5mzr6JZbrqnqD8rCEvPhuCE5Fw2.jpg', 'genre_ids': [28, 878, 27], 'id': 615656, 'original_language': 'en', 'original_title': 'Meg 2: The Trench', 'overview': 'An exploratory dive into the deepest depths of the ocean of a daring research team spirals into chaos when a malevolent mining operation threatens their mission and forces them into a high-stakes battle for survival.', 'popularity': 552.326, 'poster_path': '/4m1Au3YkjqsxF8iwQy0fPYSxE0h.jpg', 'release_date': '2023-08-02', 'title': 'Meg 2: The Trench', 'video': False, 'vote_average': 6.772, 'vote_count': 2473}, {'adult': False, 'backdrop_path': '/oas0DvvhhaMncvn805LjepxeoZh.jpg', 'genre_ids': [35, 80], 'id': 9535, 'original_language': 'en', 'original_title': 'Analyze This', 'overview': 'Countless wiseguy films are spoofed in this film that centers on the neuroses and angst of a powerful Mafia racketeer who suffers from panic attacks. When Paul Vitti needs help dealing with his role in the \"family,\" unlucky shrink Dr. Ben Sobel is given just days to resolve Vitti\\'s emotional crisis and turn him into a happy, well-adjusted gangster.', 'popularity': 16.794, 'poster_path': '/eqa4TEgkx63WRhqyD8eTwmL7bUi.jpg', 'release_date': '1999-03-05', 'title': 'Analyze This', 'video': False, 'vote_average': 6.482, 'vote_count': 1711}, {'adult': False, 'backdrop_path': '/td9f8E6W8Z2HnmmU69tT7ZHwK5F.jpg', 'genre_ids': [80, 53, 35, 9648], 'id': 27004, 'original_language': 'en', 'original_title': 'Ca$h', 'overview': 'A stroke of good luck turns lethal for Sam Phelan and his wife Leslie when they are faced with a life-changing decision that brings strange and sinister Pyke Kubic to their doorstep. As Pyke leads Sam and Leslie on a tumultuous adventure through the streets of Chicago, each are pulled deeper and deeper into a desperate spiral of deception and violence – all in the name of money.', 'popularity': 9.646, 'poster_path': '/e5B7nG6xREL6lNnS34ZoAvXbB9l.jpg', 'release_date': '2010-03-01', 'title': 'Ca$h', 'video': False, 'vote_average': 5.87, 'vote_count': 220}, {'adult': False, 'backdrop_path': '/ncxRcMvEP4tXkpYbAHgYrwznVog.jpg', 'genre_ids': [18], 'id': 22798, 'original_language': 'en', 'original_title': 'Whip It', 'overview': 'In Bodeen, Texas, Land Of The Dragon, an indie-rock loving misfit finds a way of dealing with her small-town misery after she discovers a roller derby league in nearby Austin.', 'popularity': 13.9, 'poster_path': '/nwPvNuxIhVNhBFdzMsMPu2Va608.jpg', 'release_date': '2009-04-09', 'title': 'Whip It', 'video': False, 'vote_average': 6.733, 'vote_count': 976}, {'adult': False, 'backdrop_path': '/rxVvThLIVkysfwvhZI6kb8OckWQ.jpg', 'genre_ids': [28, 35], 'id': 20697, 'original_language': 'en', 'original_title': 'Ready to Rumble', 'overview': 'Two slacker wrestling fans are devastated by the ousting of their favorite character by an unscrupulous promoter.', 'popularity': 11.034, 'poster_path': '/rGbMrCUh6eRiWKsHNf5kqgPoliZ.jpg', 'release_date': '2000-04-07', 'title': 'Ready to Rumble', 'video': False, 'vote_average': 5.248, 'vote_count': 143}, {'adult': False, 'backdrop_path': '/gRHRNtiqvn5bBUUIVu09zd8lorW.jpg', 'genre_ids': [80, 18, 28, 53], 'id': 41283, 'original_language': 'en', 'original_title': 'Faster', 'overview': 'After 10 years in prison, Driver is now a free man with a single focus - hunting down the people responsible for brutally murdering his brother.', 'popularity': 23.974, 'poster_path': '/AsUeaXrhw4oscCSjUZ6heh1pVvd.jpg', 'release_date': '2010-11-23', 'title': 'Faster', 'video': False, 'vote_average': 6.325, 'vote_count': 1762}, {'adult': False, 'backdrop_path': '/bcChY1gxAIxV4CtZovHxbqgN0tG.jpg', 'genre_ids': [28, 35, 12], 'id': 20210, 'original_language': 'en', 'original_title': 'Grind', 'overview': 'Four skaters follow their idol on his summer tour in an attempt to get noticed, get sponsored, and become stars themselves.', 'popularity': 7.297, 'poster_path': '/3ijvfbWQYLaFQ2PaX6hywnMW3Hv.jpg', 'release_date': '2003-08-15', 'title': 'Grind', 'video': False, 'vote_average': 6.0, 'vote_count': 128}, {'adult': False, 'backdrop_path': '/7VEUOEfRzzrQfWddlIyLUKvh6Nf.jpg', 'genre_ids': [12, 10751, 14, 10749], 'id': 447277, 'original_language': 'en', 'original_title': 'The Little Mermaid', 'overview': 'The youngest of King Triton’s daughters, and the most defiant, Ariel longs to find out more about the world beyond the sea, and while visiting the surface, falls for the dashing Prince Eric. With mermaids forbidden to interact with humans, Ariel makes a deal with the evil sea witch, Ursula, which gives her a chance to experience life on land, but ultimately places her life – and her father’s crown – in jeopardy.', 'popularity': 247.221, 'poster_path': '/ym1dxyOk4jFcSl4Q2zmRrA5BEEN.jpg', 'release_date': '2023-05-18', 'title': 'The Little Mermaid', 'video': False, 'vote_average': 6.497, 'vote_count': 2322}, {'adult': False, 'backdrop_path': '/tmw8jussxvWW3uv0KtUAaHa6ceo.jpg', 'genre_ids': [18, 53], 'id': 32020, 'original_language': 'en', 'original_title': 'Foxes', 'overview': 'A group of friends come of age in the asphalt desert of the San Fernando Valley, as set to a blazing soundtrack and endless drinking, drugs and sex.', 'popularity': 6.838, 'poster_path': '/4BML3pbeopzTbwMNFhUWX0MerGE.jpg', 'release_date': '1980-02-29', 'title': 'Foxes', 'video': False, 'vote_average': 5.9, 'vote_count': 80}]\n",
      "Composers for 'Maid in Sweden': Bob Nash\n"
     ]
    }
   ],
   "source": [
    "import requests\n",
    "import urllib.parse\n",
    "\n",
    "# Replace 'your_api_key' with your actual TMDb API key\n",
    "api_key = 'key'\n",
    "# Replace 'your_search_query' with your actual search term\n",
    "search_query = 'Interstellar'\n",
    "\n",
    "# URL encode the search query\n",
    "encoded_search_query = urllib.parse.quote(search_query)\n",
    "\n",
    "# TMDb API endpoint for search\n",
    "search_url = f'https://api.themoviedb.org/3/search/movie?api_key={api_key}&query={encoded_search_query}'\n",
    "\n",
    "# GET request to the TMDb API to perform the search\n",
    "search_response = requests.get(search_url)\n",
    "search_data = search_response.json()\n",
    "\n",
    "# Check if the search results exist\n",
    "if search_data['results']:\n",
    "    # Get the ID of the first search result\n",
    "    first_result_id = search_data['results'][0]['id']\n",
    "    movie_title = search_data['results'][0]['title']\n",
    "\n",
    "\n",
    "    # TMDb API endpoint for movie details including credits\n",
    "    movie_url = f'https://api.themoviedb.org/3/movie/{first_result_id}?api_key={api_key}&append_to_response=credits'\n",
    "\n",
    "    # GET request to the TMDb API for the movie details\n",
    "    movie_response = requests.get(movie_url)\n",
    "    movie_data = movie_response.json()\n",
    "\n",
    "    # Searching for the composer in the crew list\n",
    "    composers = [person['name'] for person in movie_data['credits']['crew'] if 'composer' in person['job'].lower()]\n",
    "    \n",
    "    if composers:\n",
    "        print(f\"Composers for '{movie_title}': {', '.join(composers)}\")\n",
    "    else:\n",
    "        print(f\"No composer found for '{movie_title}'.\")\n",
    "else:\n",
    "    print(\"No search results found for the given query.\")"
   ],
   "metadata": {
    "collapsed": false,
    "ExecuteTime": {
     "end_time": "2023-11-09T16:52:46.338751114Z",
     "start_time": "2023-11-09T16:52:46.033407608Z"
    }
   }
  },
  {
   "cell_type": "markdown",
   "source": [
    "## Percentage of nan value for composers"
   ],
   "metadata": {
    "collapsed": false
   }
  },
  {
   "cell_type": "code",
   "execution_count": 7,
   "outputs": [
    {
     "name": "stdout",
     "output_type": "stream",
     "text": [
      "0.312\n"
     ]
    }
   ],
   "source": [
    "nb_composer_na = enrich_movies.composer.isna().sum()\n",
    "print(nb_composer_na/len(enrich_movies))"
   ],
   "metadata": {
    "collapsed": false,
    "ExecuteTime": {
     "end_time": "2023-11-10T18:02:21.065342607Z",
     "start_time": "2023-11-10T18:02:21.017397383Z"
    }
   }
  }
 ],
 "metadata": {
  "kernelspec": {
   "display_name": "Python 3",
   "language": "python",
   "name": "python3"
  },
  "language_info": {
   "codemirror_mode": {
    "name": "ipython",
    "version": 2
   },
   "file_extension": ".py",
   "mimetype": "text/x-python",
   "name": "python",
   "nbconvert_exporter": "python",
   "pygments_lexer": "ipython2",
   "version": "2.7.6"
  }
 },
 "nbformat": 4,
 "nbformat_minor": 0
}
